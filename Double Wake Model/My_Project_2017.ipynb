{
 "cells": [
  {
   "cell_type": "code",
   "execution_count": 1,
   "metadata": {
    "collapsed": true
   },
   "outputs": [],
   "source": [
    "import os\n",
    "import numpy\n",
    "from scipy import integrate, linalg\n",
    "from matplotlib import pyplot\n",
    "\n",
    "# integrate plots into the notebook\n",
    "%matplotlib inline"
   ]
  },
  {
   "cell_type": "code",
   "execution_count": 2,
   "metadata": {
    "collapsed": true
   },
   "outputs": [],
   "source": [
    "class Panel:\n",
    "    \"\"\"\n",
    "    Contains information related to a panel.\n",
    "    \"\"\"\n",
    "    def __init__(self, xa, ya, xb, yb):\n",
    "        \"\"\"\n",
    "        Initializes the panel.\n",
    "        \n",
    "        Sets the end-points and calculates the center-point, length,\n",
    "        and angle (with the x-axis) of the panel.\n",
    "        Defines if the panel is located on the upper or lower surface of the geometry.\n",
    "        Initializes the source-strength, tangential velocity, and pressure coefficient\n",
    "        of the panel to zero.\n",
    "        \n",
    "        Parameters\n",
    "        ---------_\n",
    "        xa: float\n",
    "            x-coordinate of the first end-point.\n",
    "        ya: float\n",
    "            y-coordinate of the first end-point.\n",
    "        xb: float\n",
    "            x-coordinate of the second end-point.\n",
    "        yb: float\n",
    "            y-coordinate of the second end-point.\n",
    "        \"\"\"\n",
    "        self.xa, self.ya = xa, ya # panel starting-point\n",
    "        self.xb, self.yb = xb, yb # panel ending-point\n",
    "        \n",
    "        self.xc, self.yc = (xa+xb)/2, (ya+yb)/2         # panel center\n",
    "        self.length = numpy.sqrt((xb-xa)**2+(yb-ya)**2) # panel length\n",
    "        \n",
    "        # orientation of panel (angle between x-axis and panel's normal)\n",
    "        if xb-xa <= 0.0:\n",
    "            self.beta = numpy.arccos((yb-ya)/self.length)\n",
    "        elif xb-xa > 0.0:\n",
    "            self.beta = numpy.pi + numpy.arccos(-(yb-ya)/self.length)\n",
    "        \n",
    "        # panel location\n",
    "        if self.beta <= numpy.pi:\n",
    "            self.loc = 'upper' # upper surface\n",
    "        else:\n",
    "            self.loc = 'lower' # lower surface\n",
    "        \n",
    "        self.sigma = 0.0 # source strength\n",
    "        self.gamma = 0.0\n",
    "        self.vt = 0.0    # tangential velocity\n",
    "        self.cp = 0.0    # pressure coefficient"
   ]
  },
  {
   "cell_type": "code",
   "execution_count": 3,
   "metadata": {
    "collapsed": true
   },
   "outputs": [],
   "source": [
    "class Freestream:\n",
    "    \"\"\"\n",
    "    Freestream conditions.\n",
    "    \"\"\"\n",
    "    def __init__(self, u_inf=1.0, alpha=0.0):\n",
    "        \"\"\"\n",
    "        Sets the freestream speed and angle (in degrees).\n",
    "        \n",
    "        Parameters\n",
    "        ----------\n",
    "        u_inf: float, optional\n",
    "            Freestream speed;\n",
    "            default: 1.0.\n",
    "        alpha: float, optional\n",
    "            Angle of attack in degrees;\n",
    "            default 0.0.\n",
    "        \"\"\"\n",
    "        self.u_inf = u_inf\n",
    "        self.alpha = alpha*numpy.pi/180.0 # degrees to radians"
   ]
  },
  {
   "cell_type": "code",
   "execution_count": 4,
   "metadata": {
    "collapsed": true
   },
   "outputs": [],
   "source": [
    "def integral(x, y, panel, dxdk, dydk):\n",
    "    \"\"\"\n",
    "    Evaluates the contribution from a panel at a given point.\n",
    "    \n",
    "    Parameters\n",
    "    ----------\n",
    "    x: float\n",
    "        x-coordinate of the target point.\n",
    "    y: float\n",
    "        y-coordinate of the target point.\n",
    "    panel: Panel object\n",
    "        Panel whose contribution is evaluated.\n",
    "    dxdk: float\n",
    "        Value of the derivative of x in a certain direction.\n",
    "    dydk: float\n",
    "        Value of the derivative of y in a certain direction.\n",
    "    \n",
    "    Returns\n",
    "    -------\n",
    "    Contribution from the panel at a given point (x, y).\n",
    "    \"\"\"\n",
    "    def integrand(s):\n",
    "        return ( ((x - (panel.xa - numpy.sin(panel.beta)*s))*dxdk\n",
    "                  +(y - (panel.ya + numpy.cos(panel.beta)*s))*dydk)\n",
    "                / ((x - (panel.xa - numpy.sin(panel.beta)*s))**2\n",
    "                   +(y - (panel.ya + numpy.cos(panel.beta)*s))**2) )\n",
    "    return integrate.quad(integrand, 0.0, panel.length)[0]"
   ]
  },
  {
   "cell_type": "code",
   "execution_count": 5,
   "metadata": {
    "collapsed": true
   },
   "outputs": [],
   "source": [
    "def source_contribution_normal(panels):\n",
    "    \"\"\"\n",
    "    Builds the source contribution matrix for the normal velocity.\n",
    "    \n",
    "    Parameters\n",
    "    ----------\n",
    "    panels: 1D array of Panel objects\n",
    "        List of panels.\n",
    "    \n",
    "    Returns\n",
    "    -------\n",
    "    A: 2D Numpy array of floats\n",
    "        Source contribution matrix.\n",
    "    \"\"\"\n",
    "    A = numpy.empty((panels.size, panels.size), dtype=float)\n",
    "    # source contribution on a panel from itself\n",
    "    numpy.fill_diagonal(A, 0.5)\n",
    "    # source contribution on a panel from others\n",
    "    for i, panel_i in enumerate(panels):\n",
    "        for j, panel_j in enumerate(panels):\n",
    "            if i != j:\n",
    "                A[i, j] = 0.5/numpy.pi*integral(panel_i.xc, panel_i.yc, \n",
    "                                                panel_j,\n",
    "                                                numpy.cos(panel_i.beta),\n",
    "                                                numpy.sin(panel_i.beta))\n",
    "    return A"
   ]
  },
  {
   "cell_type": "code",
   "execution_count": 6,
   "metadata": {
    "collapsed": true
   },
   "outputs": [],
   "source": [
    "def vortex_contribution_normal(panels):\n",
    "    \"\"\"\n",
    "    Builds the vortex contribution matrix for the normal velocity.\n",
    "    \n",
    "    Parameters\n",
    "    ----------\n",
    "    panels: 1D array of Panel objects\n",
    "        List of panels.\n",
    "    \n",
    "    Returns\n",
    "    -------\n",
    "    A: 2D Numpy array of floats\n",
    "        Vortex contribution matrix.\n",
    "    \"\"\"\n",
    "    A = numpy.empty((panels.size, panels.size), dtype=float)\n",
    "    # vortex contribution on a panel from itself\n",
    "    numpy.fill_diagonal(A, 0.0)\n",
    "    # vortex contribution on a panel from others\n",
    "    for i, panel_i in enumerate(panels):\n",
    "        for j, panel_j in enumerate(panels):\n",
    "            if i != j:\n",
    "                A[i, j] = -0.5/numpy.pi*integral(panel_i.xc, panel_i.yc, \n",
    "                                                 panel_j,\n",
    "                                                 numpy.sin(panel_i.beta),\n",
    "                                                 -numpy.cos(panel_i.beta))\n",
    "    return A"
   ]
  },
  {
   "cell_type": "code",
   "execution_count": 7,
   "metadata": {
    "collapsed": true
   },
   "outputs": [],
   "source": [
    "def kutta_condition(A_source, B_vortex):\n",
    "    \"\"\"\n",
    "    Builds the Kutta condition array.\n",
    "    \n",
    "    Parameters\n",
    "    ----------\n",
    "    A_source: 2D Numpy array of floats\n",
    "        Source contribution matrix for the normal velocity.\n",
    "    B_vortex: 2D Numpy array of floats\n",
    "        Vortex contribution matrix for the normal velocity.\n",
    "    \n",
    "    Returns\n",
    "    -------\n",
    "    b: 1D Numpy array of floats\n",
    "        The left-hand side of the Kutta-condition equation.\n",
    "    \"\"\"\n",
    "    b = numpy.empty(A_source.shape[0]+1, dtype=float)\n",
    "    # matrix of source contribution on tangential velocity\n",
    "    # is the same than\n",
    "    # matrix of vortex contribution on normal velocity\n",
    "    b[:-1] = B_vortex[0, :] + B_vortex[-1, :]\n",
    "    # matrix of vortex contribution on tangential velocity\n",
    "    # is the opposite of\n",
    "    # matrix of source contribution on normal velocity\n",
    "    b[-1] = - numpy.sum(A_source[0, :] + A_source[-1, :])\n",
    "    return b"
   ]
  },
  {
   "cell_type": "code",
   "execution_count": 8,
   "metadata": {
    "collapsed": true
   },
   "outputs": [],
   "source": [
    "def build_singularity_matrix(A_source, B_vortex):\n",
    "    \"\"\"\n",
    "    Builds the left-hand side matrix of the system\n",
    "    arising from source and vortex contributions.\n",
    "    \n",
    "    Parameters\n",
    "    ----------\n",
    "    A_source: 2D Numpy array of floats\n",
    "        Source contribution matrix for the normal velocity.\n",
    "    B_vortex: 2D Numpy array of floats\n",
    "        Vortex contribution matrix for the normal velocity.\n",
    "    \n",
    "    Returns\n",
    "    -------\n",
    "    A:  2D Numpy array of floats\n",
    "        Matrix of the linear system.\n",
    "    \"\"\"\n",
    "    A = numpy.empty((A_source.shape[0]+1, A_source.shape[1]+1), dtype=float)\n",
    "    # source contribution matrix\n",
    "    A[:-1, :-1] = A_source\n",
    "    # vortex contribution array\n",
    "    A[:-1, -1] = numpy.sum(B_vortex, axis=1)\n",
    "    # Kutta condition array\n",
    "    A[-1, :] = kutta_condition(A_source, B_vortex)\n",
    "    return A"
   ]
  },
  {
   "cell_type": "code",
   "execution_count": 9,
   "metadata": {
    "collapsed": true
   },
   "outputs": [],
   "source": [
    "def build_freestream_rhs(panels, freestream):\n",
    "    \"\"\"\n",
    "    Builds the right-hand side of the system \n",
    "    arising from the freestream contribution.\n",
    "    \n",
    "    Parameters\n",
    "    ----------\n",
    "    panels: 1D array of Panel objects\n",
    "        List of panels.\n",
    "    freestream: Freestream object\n",
    "        Freestream conditions.\n",
    "    \n",
    "    Returns\n",
    "    -------\n",
    "    b: 1D Numpy array of floats\n",
    "        Freestream contribution on each panel and on the Kutta condition.\n",
    "    \"\"\"\n",
    "    b = numpy.empty(panels.size+1,dtype=float)\n",
    "    # freestream contribution on each panel\n",
    "    for i, panel in enumerate(panels):\n",
    "        b[i] = -freestream.u_inf * numpy.cos(freestream.alpha - panel.beta)\n",
    "    # freestream contribution on the Kutta condition\n",
    "    b[-1] = -freestream.u_inf*( numpy.sin(freestream.alpha-panels[0].beta)\n",
    "                               +numpy.sin(freestream.alpha-panels[-1].beta) )\n",
    "    return b"
   ]
  },
  {
   "cell_type": "code",
   "execution_count": 10,
   "metadata": {
    "collapsed": true
   },
   "outputs": [],
   "source": [
    "def compute_pressure_coefficient(panels, freestream):\n",
    "    \"\"\"\n",
    "    Computes the surface pressure coefficients.\n",
    "    \n",
    "    Parameters\n",
    "    ----------\n",
    "    panels: 1D array of Panel objects\n",
    "        List of panels.\n",
    "    freestream: Freestream object\n",
    "        Freestream conditions.\n",
    "    \"\"\"\n",
    "    for panel in panels:\n",
    "        panel.cp = 1.0 - (panel.vt/freestream.u_inf)**2"
   ]
  },
  {
   "cell_type": "code",
   "execution_count": 11,
   "metadata": {
    "collapsed": true
   },
   "outputs": [],
   "source": [
    "def compute_tangential_velocity(panels, freestream, gamma, A_source, B_vortex):\n",
    "    \"\"\"\n",
    "    Computes the tangential surface velocity.\n",
    "    \n",
    "    Parameters\n",
    "    ----------\n",
    "    panels: 1D array of Panel objects\n",
    "        List of panels.\n",
    "    freestream: Freestream object\n",
    "        Freestream conditions.\n",
    "    gamma: float\n",
    "        Circulation density.\n",
    "    A_source: 2D Numpy array of floats\n",
    "        Source contribution matrix for the normal velocity.\n",
    "    B_vortex: 2D Numpy array of floats\n",
    "        Vortex contribution matrix for the normal velocity.\n",
    "    \"\"\"\n",
    "    A = numpy.empty((panels.size, panels.size+1), dtype=float)\n",
    "    # matrix of source contribution on tangential velocity\n",
    "    # is the same than\n",
    "    # matrix of vortex contribution on normal velocity\n",
    "    A[:, :-1] = B_vortex\n",
    "    # matrix of vortex contribution on tangential velocity\n",
    "    # is the opposite of\n",
    "    # matrix of source contribution on normal velocity\n",
    "    A[:, -1] = -numpy.sum(A_source, axis=1)\n",
    "    # freestream contribution\n",
    "    b = freestream.u_inf*numpy.sin([freestream.alpha-panel.beta \n",
    "                                    for panel in panels])\n",
    "    \n",
    "    strengths = numpy.append([panel.sigma for panel in panels], gamma)\n",
    "    \n",
    "    tangential_velocities = numpy.dot(A, strengths) + b\n",
    "    \n",
    "    for i, panel in enumerate(panels):\n",
    "        panel.vt = tangential_velocities[i]"
   ]
  },
  {
   "cell_type": "code",
   "execution_count": 12,
   "metadata": {
    "collapsed": false
   },
   "outputs": [],
   "source": [
    "def wing(N,r,epsilon_x,epsilon_y,plot):\n",
    "    \n",
    "    theta = numpy.linspace(0,(2-(2/N))*numpy.pi,N)\n",
    "    epsilon = -1*epsilon_x + 1j*epsilon_y\n",
    "    r_eps = numpy.sqrt(epsilon_x**2+epsilon_y**2)\n",
    "\n",
    "    z = r*numpy.exp(theta*1j)\n",
    "    z = z + epsilon\n",
    "    z = z + r_eps*numpy.exp(theta*1j)\n",
    "    zeta = z+r**2/z\n",
    "    x,y = zeta.real, zeta.imag\n",
    "    if(plot):\n",
    "        size = 20*r\n",
    "        x_start, x_end = -2.5, 2.5\n",
    "        y_start, y_end = -1.5, 1.5\n",
    "        pyplot.figure(figsize=(size, (y_end-y_start)/(x_end-x_start)*size))\n",
    "        pyplot.grid()\n",
    "        pyplot.xlabel('x', fontsize=16)\n",
    "        pyplot.ylabel('y', fontsize=16)\n",
    "        pyplot.xlim(x_start, x_end)\n",
    "        pyplot.ylim(y_start, y_end)\n",
    "        pyplot.plot(x, y, color='k', linestyle='-', linewidth=2)\n",
    "    \n",
    "    return x,y\n"
   ]
  },
  {
   "cell_type": "code",
   "execution_count": 13,
   "metadata": {
    "collapsed": true
   },
   "outputs": [],
   "source": [
    "def panelize(x,y,alpha,plot):\n",
    "    N = len(x)-1\n",
    "    panels = numpy.empty(N, dtype = object)\n",
    "    for i in range(N):\n",
    "        panels[i] = Panel(x[i],y[i],x[i+1],y[i+1])\n",
    "        \n",
    "    freestream = Freestream(u_inf=1.0, alpha=alpha)\n",
    "    \n",
    "    A_source = source_contribution_normal(panels)\n",
    "    B_vortex = vortex_contribution_normal(panels)\n",
    "    \n",
    "    A = build_singularity_matrix(A_source, B_vortex)\n",
    "    b = build_freestream_rhs(panels, freestream)\n",
    "    \n",
    "    # solve for singularity strengths\n",
    "    strengths = numpy.linalg.solve(A, b)\n",
    "\n",
    "    # store source strength on each panel\n",
    "    for i , panel in enumerate(panels):\n",
    "        panel.sigma = strengths[i]\n",
    "\n",
    "    # store circulation density\n",
    "    gamma = strengths[-1]\n",
    "    \n",
    "    compute_tangential_velocity(panels, freestream, gamma, A_source, B_vortex)\n",
    "    \n",
    "    compute_pressure_coefficient(panels, freestream)\n",
    "    \n",
    "    if(plot):\n",
    "        pyplot.figure(figsize=(10, 6))\n",
    "        pyplot.grid()\n",
    "        pyplot.xlabel('$x$', fontsize=16)\n",
    "        pyplot.ylabel('$C_p$', fontsize=16)\n",
    "        pyplot.plot([panel.xc for panel in panels if panel.loc == 'upper'],\n",
    "                    [panel.cp for panel in panels if panel.loc == 'upper'],\n",
    "                    label='upper surface',\n",
    "                    color='r', linestyle='-', linewidth=2, marker='o', markersize=6)\n",
    "        pyplot.plot([panel.xc for panel in panels if panel.loc == 'lower'],\n",
    "                    [panel.cp for panel in panels if panel.loc == 'lower'],\n",
    "                    label= 'lower surface',\n",
    "                    color='b', linestyle='-', linewidth=1, marker='o', markersize=6)\n",
    "        pyplot.legend(loc='best', prop={'size':16})\n",
    "        pyplot.xlim(-2.5, 2.5)\n",
    "        pyplot.ylim(1.5, -2.0)\n",
    "        pyplot.title('Number of panels: {}'.format(panels.size), fontsize=16);\n",
    "    \n",
    "    c = abs(max(panel.xa for panel in panels)\n",
    "            - min(panel.xa for panel in panels))\n",
    "    cl = (gamma*sum(panel.length for panel in panels)\n",
    "          / (0.5*freestream.u_inf*c))\n",
    "\n",
    "        \n",
    "    return panels,cl,strengths"
   ]
  },
  {
   "cell_type": "code",
   "execution_count": 14,
   "metadata": {
    "collapsed": true
   },
   "outputs": [],
   "source": [
    "part_1 = False"
   ]
  },
  {
   "cell_type": "code",
   "execution_count": 15,
   "metadata": {
    "collapsed": false
   },
   "outputs": [],
   "source": [
    "if(part_1):\n",
    "    N = 100\n",
    "    n = 100\n",
    "    r = 1\n",
    "    theta = numpy.linspace(0,(2-(2/N))*numpy.pi,N)\n",
    "    radius = numpy.linspace(r, 3,n)\n",
    "    R, Theta = numpy.meshgrid(radius,theta)\n",
    "\n",
    "    epsilon_x = 0.08\n",
    "    epsilon_y = 0.08\n",
    "\n",
    "    epsilon = -1*epsilon_x + 1j*epsilon_y\n",
    "    r_eps = numpy.sqrt(epsilon_x**2+epsilon_y**2)\n",
    "\n",
    "    z = R*numpy.exp(Theta*1j)\n",
    "    z = z + epsilon\n",
    "    z = z + r_eps*numpy.exp(Theta*1j)\n",
    "    zeta = z+r**2/z\n",
    "    x,y = zeta[:,0].real, zeta[:,0].imag"
   ]
  },
  {
   "cell_type": "code",
   "execution_count": 16,
   "metadata": {
    "collapsed": false
   },
   "outputs": [],
   "source": [
    "if(part_1):\n",
    "    N = len(x)-1\n",
    "    panels = numpy.empty(N, dtype = object)\n",
    "    for i in range(N):\n",
    "        panels[i] = Panel(x[i],y[i],x[i+1],y[i+1])"
   ]
  },
  {
   "cell_type": "code",
   "execution_count": 17,
   "metadata": {
    "collapsed": false
   },
   "outputs": [],
   "source": [
    "if(part_1):\n",
    "    width = 10\n",
    "    pyplot.figure(figsize=(width, width))\n",
    "    pyplot.grid()\n",
    "    pyplot.xlabel('x', fontsize=16)\n",
    "    pyplot.ylabel('y', fontsize=16)\n",
    "    pyplot.plot(x, y, color='k', linestyle='-', linewidth=2)\n",
    "    pyplot.plot(numpy.append([panel.xa for panel in panels], panels[0].xa),\n",
    "                numpy.append([panel.ya for panel in panels], panels[0].ya),\n",
    "                linestyle='-', linewidth=1, marker='o', markersize=6, color='#CD2305')\n",
    "    pyplot.axis('scaled', adjustable='box')\n",
    "    pyplot.xlim(-2.5,2.5)\n",
    "    pyplot.ylim(-1, 1);"
   ]
  },
  {
   "cell_type": "code",
   "execution_count": 18,
   "metadata": {
    "collapsed": true
   },
   "outputs": [],
   "source": [
    "if(part_1):\n",
    "    aoa = 12\n",
    "    freestream = Freestream(u_inf=1.0, alpha=aoa)\n",
    "    A_source = source_contribution_normal(panels)\n",
    "    B_vortex = vortex_contribution_normal(panels)\n",
    "    A = build_singularity_matrix(A_source, B_vortex)\n",
    "    b = build_freestream_rhs(panels, freestream)\n",
    "    # solve for singularity strengths\n",
    "    strengths = numpy.linalg.solve(A, b)\n",
    "\n",
    "    # store source strength on each panel\n",
    "    for i , panel in enumerate(panels):\n",
    "        panel.sigma = strengths[i]\n",
    "\n",
    "    # store circulation density\n",
    "    gamma = strengths[-1]\n",
    "    compute_tangential_velocity(panels, freestream, gamma, A_source, B_vortex)\n",
    "    compute_pressure_coefficient(panels, freestream)"
   ]
  },
  {
   "cell_type": "code",
   "execution_count": 19,
   "metadata": {
    "collapsed": false
   },
   "outputs": [],
   "source": [
    "if(part_1):\n",
    "    pyplot.figure(figsize=(10, 6))\n",
    "    pyplot.grid()\n",
    "    pyplot.xlabel('$x$', fontsize=16)\n",
    "    pyplot.ylabel('$C_p$', fontsize=16)\n",
    "    pyplot.plot([panel.xc for panel in panels if panel.loc == 'upper'],\n",
    "                [panel.cp for panel in panels if panel.loc == 'upper'],\n",
    "                label='upper surface',\n",
    "                color='r', linestyle='-', linewidth=2, marker='o', markersize=6)\n",
    "    pyplot.plot([panel.xc for panel in panels if panel.loc == 'lower'],\n",
    "                [panel.cp for panel in panels if panel.loc == 'lower'],\n",
    "                label= 'lower surface',\n",
    "                color='b', linestyle='-', linewidth=1, marker='o', markersize=6)\n",
    "    pyplot.legend(loc='best', prop={'size':16})\n",
    "    pyplot.xlim(-2.5, 2.5)\n",
    "    pyplot.ylim(1.5, -7.0)\n",
    "    pyplot.title('Number of panels: {}'.format(panels.size), fontsize=16);"
   ]
  },
  {
   "cell_type": "code",
   "execution_count": 20,
   "metadata": {
    "collapsed": false
   },
   "outputs": [],
   "source": [
    "if(part_1):\n",
    "    pyplot.figure(figsize=(10, 6))\n",
    "    pyplot.grid()\n",
    "    pyplot.xlabel('$x$', fontsize=16)\n",
    "    pyplot.ylabel('$C_p$', fontsize=16)\n",
    "    pyplot.plot([panel.xc for panel in panels if panel.loc == 'upper'],\n",
    "                [panel.vt for panel in panels if panel.loc == 'upper'],\n",
    "                label='upper surface',\n",
    "                color='r', linestyle='-', linewidth=2, marker='o', markersize=6)\n",
    "    pyplot.plot([panel.xc for panel in panels if panel.loc == 'lower'],\n",
    "                [panel.vt for panel in panels if panel.loc == 'lower'],\n",
    "                label= 'lower surface',\n",
    "                color='b', linestyle='-', linewidth=1, marker='o', markersize=6)\n",
    "    pyplot.legend(loc='best', prop={'size':16})\n",
    "    pyplot.xlim(-2.5, 2.5)\n",
    "    pyplot.ylim(-3, 1.2)\n",
    "    pyplot.title('Number of panels: {}'.format(panels.size), fontsize=16);"
   ]
  },
  {
   "cell_type": "markdown",
   "metadata": {},
   "source": [
    "potention flow with large angle of attack\n",
    "the abslute value of tangential velocity on the upper surface is greater than it in the lower surface, this should be the case when the boundary layer is attached."
   ]
  },
  {
   "cell_type": "code",
   "execution_count": 21,
   "metadata": {
    "collapsed": false
   },
   "outputs": [],
   "source": [
    "if(part_1):\n",
    "    lift,drag=0,0\n",
    "    for panel in panels:\n",
    "        lift -= panel.cp*(panel.xa - panel.xb)\n",
    "        drag += panel.cp*(panel.yb - panel.ya)\n",
    "\n",
    "    print(\"lift is:\",lift,\"; drag is:\",drag)"
   ]
  },
  {
   "cell_type": "markdown",
   "metadata": {},
   "source": [
    "### Michael's Transition Criterion"
   ]
  },
  {
   "cell_type": "markdown",
   "metadata": {},
   "source": [
    "A method mentioned in this former project, [Boundary Layer Correction in Panel Methods](http://nbviewer.jupyter.org/github/iancarr/AeroHydro/blob/master/final-project/BoundaryLayerCorrection.ipynb), Ian Carr, is used here to determine the transition point of the boundary layer from laminar to turbulent, and the method works as follows."
   ]
  },
  {
   "cell_type": "markdown",
   "metadata": {},
   "source": [
    "Using a surface cordinate **s** starts at the stagnation point to calculate the momentum thickness, $\\theta$"
   ]
  },
  {
   "cell_type": "markdown",
   "metadata": {},
   "source": [
    "$$\n",
    "\\theta(s) = \\sqrt{\\frac{0.45 \\nu}{V_e^6} \\int_0^s V_e^5ds}\n",
    "$$"
   ]
  },
  {
   "cell_type": "markdown",
   "metadata": {},
   "source": [
    "where the $V_e$ is the boundary layer edge velocity, or the tangential velocity in this potention flow situation."
   ]
  },
  {
   "cell_type": "markdown",
   "metadata": {},
   "source": [
    "The momentum thickness takes on a specific value at the stagnation points which is given by a separate equation."
   ]
  },
  {
   "cell_type": "markdown",
   "metadata": {},
   "source": [
    "$$\n",
    "\\theta (0) = \\sqrt{\\frac{0.75\\nu}{\\frac{dV_e(0)}{ds}}}\n",
    "$$"
   ]
  },
  {
   "cell_type": "markdown",
   "metadata": {},
   "source": [
    "Then the Reynolds Number based on momentum thickness $Re_{\\theta}$ is defined as"
   ]
  },
  {
   "cell_type": "markdown",
   "metadata": {},
   "source": [
    "$$\n",
    "Re_{\\theta} \\equiv \\frac{\\rho V_e \\theta}{\\mu}\n",
    "$$"
   ]
  },
  {
   "cell_type": "markdown",
   "metadata": {},
   "source": [
    "And the transitin point happens when"
   ]
  },
  {
   "cell_type": "markdown",
   "metadata": {},
   "source": [
    "$$\n",
    "Re_{\\theta} > 1.174\\left( 1 + \\frac{22400}{Re_s} \\right)Re_s^0.46\n",
    "$$"
   ]
  },
  {
   "cell_type": "markdown",
   "metadata": {},
   "source": [
    "where $Re_s$ is the Reynolds number based on the position along the airfoil, as shown"
   ]
  },
  {
   "cell_type": "markdown",
   "metadata": {
    "collapsed": true
   },
   "source": [
    "$$\n",
    "Re_s \\equiv \\frac{\\rho V_e s}{\\mu}\n",
    "$$"
   ]
  },
  {
   "cell_type": "markdown",
   "metadata": {
    "collapsed": false
   },
   "source": [
    "When the looping checking for Michael's Criterion find the point of transition we mark the position of transition and label all the parameters at the tranistion point for use in the next section."
   ]
  },
  {
   "cell_type": "code",
   "execution_count": 22,
   "metadata": {
    "collapsed": true
   },
   "outputs": [],
   "source": [
    "def trsition(panels):\n",
    "    # find the control point on the geometry just after the stagnation point\n",
    "    I = 0\n",
    "    for i in range(len(panels)):\n",
    "        if (panels[i].vt/panels[0].vt<0.) :\n",
    "            I = i\n",
    "            break\n",
    "\n",
    "    # control point before stagnation point on upper side\n",
    "    V1,x1,y1 = panels[I-1].vt,panels[I-1].xc,panels[I-1].yc\n",
    "    V2,x2,y2 = panels[I].vt,panels[I].xc,panels[I].yc\n",
    "\n",
    "    # interpolation to find the location of the stagnation point\n",
    "    xStagn,yStagn = x1-V1*(x2-x1)/(V2-V1) , y1-V1*(y2-y1)/(V2-V1)\n",
    "\n",
    "    sUpper,VeUpper = numpy.zeros(I+1),numpy.zeros(I+1)\n",
    "\n",
    "    sUpper[1] = numpy.sqrt((xStagn-panels[I-1].xc)**2+(yStagn-panels[I-1].yc)**2)\n",
    "    VeUpper[1] = -panels[I-1].vt\n",
    "\n",
    "\n",
    "    for i in range(1,I):\n",
    "        sUpper[i+1] = sUpper[i] + panels[I-1-i].length/2\n",
    "        VeUpper[i+1] = -panels[I-1-i].vt\n",
    "\n",
    "\n",
    "\n",
    "    rho = 1.2                   # density of air kg/m**3\n",
    "    mu = 1.9*10**-5             # dynamic viscosity of air kg/ms\n",
    "    nu = mu/rho                 # kinematic viscosity\n",
    "\n",
    "    thetaUpper = numpy.zeros(len(sUpper),dtype=float)\n",
    "\n",
    "\n",
    "    # computing the first value at the stagnation point\n",
    "    thetaUpper[0] = numpy.sqrt(0.75*nu/abs((VeUpper[1]-VeUpper[0])/(sUpper[1]-sUpper[0])))\n",
    "\n",
    "\n",
    "    # integration using the trapezoidal rule: Numpy function np.trapz\n",
    "    for i in range(1,len(thetaUpper)):\n",
    "        thetaUpper[i] = numpy.sqrt(0.45*nu/VeUpper[i]**6*numpy.trapz(VeUpper[0:i+1]**5,sUpper[0:i+1]))\n",
    "\n",
    "\n",
    "    # the criterion is entirely based on the reynolds numbers computed below\n",
    "    ReTheta = numpy.zeros_like(VeUpper)\n",
    "    ReS = numpy.zeros_like(ReTheta)\n",
    "    mc = numpy.zeros_like(ReS)                         # transition criterion   \n",
    "\n",
    "    for i in range(1,len(mc)-1):\n",
    "        ReTheta[i] = (rho*VeUpper[i]*thetaUpper[i])/mu     # Re based on momentum thickness\n",
    "        ReS[i] = (rho*VeUpper[i]*sUpper[i])/mu             # Re based on position\n",
    "        mc[i] = 1.174*(1+(22400/ReS[i]))*ReS[i]**0.46      # transition criterion\n",
    "        if mc[i]<ReTheta[i]:\n",
    "            TR = I -i\n",
    "            break\n",
    "\n",
    "    return TR"
   ]
  },
  {
   "cell_type": "code",
   "execution_count": 23,
   "metadata": {
    "collapsed": true
   },
   "outputs": [],
   "source": [
    "def cre_panel(alpha,epsilon_y):\n",
    "\n",
    "    x,y = wing(180,1,0.08,epsilon_y,False)\n",
    "    panels,cl,strengths = panelize(x,y,alpha,False)\n",
    "    \n",
    "    return panels,x,y"
   ]
  },
  {
   "cell_type": "code",
   "execution_count": 24,
   "metadata": {
    "collapsed": false
   },
   "outputs": [],
   "source": [
    "def rota(alpha,x,y):\n",
    "    \n",
    "    aoa = alpha*numpy.pi/180\n",
    "    wing_section = x+1j*y\n",
    "    wing_section = wing_section * numpy.exp(-aoa*1j)\n",
    "    x,y = wing_section.real,wing_section.imag\n",
    "    \n",
    "    return x,y"
   ]
  },
  {
   "cell_type": "code",
   "execution_count": 25,
   "metadata": {
    "collapsed": false
   },
   "outputs": [],
   "source": [
    "def plot(x,y,TR):\n",
    "    \n",
    "    valX,valY = 0.1,0.2\n",
    "    xmin,xmax = min(x),max(x)\n",
    "    ymin,ymax = min(y),max(y)\n",
    "    xStart,xEnd = xmin-valX*(xmax-xmin),xmax+valY*(xmax-xmin)\n",
    "    yStart,yEnd = ymin-valY*(ymax-ymin),ymax+valY*(ymax-ymin)\n",
    "    size = 20\n",
    "    pyplot.figure(figsize=(size,(yEnd-yStart)/(xEnd-xStart)*size))\n",
    "    pyplot.grid(True)\n",
    "    pyplot.xlabel('x',fontsize=16)\n",
    "    pyplot.ylabel('y',fontsize=16)\n",
    "    pyplot.title('Displacement Thickness')\n",
    "    pyplot.xlim(xStart,xEnd)\n",
    "    pyplot.ylim(yStart,yEnd)\n",
    "    pyplot.plot(x,y,'k-',linewidth=2)\n",
    "    pyplot.scatter(x[TR],y[TR], s=100 ,color = 'r')\n",
    "    pyplot.show()"
   ]
  },
  {
   "cell_type": "code",
   "execution_count": 26,
   "metadata": {
    "collapsed": true
   },
   "outputs": [],
   "source": [
    "def integral_u_source(p_i, X, Y):\n",
    "    \n",
    "    def integrand(s): \n",
    "        return ( (X-(p_i.xa-numpy.sin(p_i.beta)*s))\n",
    "               /((X-(p_i.xa-numpy.sin(p_i.beta)*s))**2+(Y-(p_i.ya+numpy.cos(p_i.beta)*s))**2) )\n",
    "    return integrate.quad(integrand,0.0, p_i.length)[0]\n",
    "\n",
    "\n",
    "def integral_v_source(p_i, X, Y):\n",
    "    \n",
    "    def integrand(s):\n",
    "        return ( (Y-(p_i.ya+numpy.cos(p_i.beta)*s))\n",
    "               /((X-(p_i.xa-numpy.sin(p_i.beta)*s))**2 + (Y-(p_i.ya+numpy.cos(p_i.beta)*s))**2) )\n",
    "    return integrate.quad(integrand,0.0, p_i.length)[0]\n",
    "\n",
    "\n",
    "\n",
    "def integral_u_vortex(p_i, X, Y):\n",
    "    \n",
    "    def integrand(s): \n",
    "        return ( (X-(p_i.xa-numpy.cos(p_i.beta)*s))\n",
    "               /((X-(p_i.xa-numpy.cos(p_i.beta)*s))**2+(Y-(p_i.ya+numpy.sin(p_i.beta)*s))**2) )\n",
    "    return integrate.quad(integrand,0.0, p_i.length)[0]\n",
    "\n",
    "\n",
    "def integral_v_vortex(p_i, X, Y):\n",
    "    \n",
    "    def integrand(s):\n",
    "        return ( (Y-(p_i.ya+numpy.sin(p_i.beta)*s))\n",
    "               /((X-(p_i.xa-numpy.cos(p_i.beta)*s))**2 + (Y-(p_i.ya+numpy.sin(p_i.beta)*s))**2) )\n",
    "    return integrate.quad(integrand,0.0, p_i.length)[0]\n"
   ]
  },
  {
   "cell_type": "markdown",
   "metadata": {},
   "source": [
    "To test the result of the Michael's method, the same wing section from the first part is used here to show the transition point under different angle of attack."
   ]
  },
  {
   "cell_type": "markdown",
   "metadata": {
    "collapsed": false
   },
   "source": [
    "And this set of the plot below shows that the transition point moves toward the leading edge while the angle of attack is increasing, so it can be considered relative physical. "
   ]
  },
  {
   "cell_type": "code",
   "execution_count": 27,
   "metadata": {
    "collapsed": false
   },
   "outputs": [],
   "source": [
    "if(False):\n",
    "    for i in range(1):\n",
    "        aoa = i*4\n",
    "        panels,X,Y = cre_panel(aoa,0.08)\n",
    "        TR = trsition(panels)\n",
    "        X,Y = rota(aoa,X,Y)\n",
    "        plot(X,Y,TR)\n",
    "        print(\"angle of attack is :\", aoa, \"; the transition point is at:\", TR,\"/\",len(panels))"
   ]
  },
  {
   "cell_type": "markdown",
   "metadata": {},
   "source": [
    "### Double wake modelling"
   ]
  },
  {
   "cell_type": "markdown",
   "metadata": {},
   "source": [
    "For the approach used by Voutsinas and Riziotis$^1$, a wake model made of vortex panel will be placed at the trailing edge, and second wake model of vortex panel will be placed at the transition point . "
   ]
  },
  {
   "cell_type": "markdown",
   "metadata": {},
   "source": [
    "The wake panel at the trailing edge will have a vortex intensities $\\gamma_w$, and the wake panel at the separation point will have a vortex intensities $\\gamma_s$. And panels on the wing will contain two vortex intensities values, $\\gamma_1$ for the panels upstream the separation point and $\\gamma_2$ for the panels upstream the separation point."
   ]
  },
  {
   "cell_type": "markdown",
   "metadata": {},
   "source": [
    "For the wake at the trailing edge, the vortex strenght $\\gamma_w$ and the length $l_w$ will be determined as follows:\n",
    "\n",
    "$$\n",
    "\\gamma_w = \\vec{u}_1 - \\vec{u}_N\n",
    "$$\n",
    "\n",
    "$$\n",
    "l_w = \\frac{\\vec{u}_1 + \\vec{u}_N}{2}\n",
    "$$\n",
    "\n",
    "and wake will have the orientation as the trailing panel on the lower surface."
   ]
  },
  {
   "cell_type": "markdown",
   "metadata": {},
   "source": [
    "For the wake at the separation point, the vortex strenght $\\gamma_w$ and the length $l_w$ will be\n",
    "determined as follows:\n",
    "\n",
    "$$\n",
    "\\gamma_s = \\vec{u}_{TR+1} = V_{tTR+1}\n",
    "$$\n",
    "\n",
    "$$\n",
    "l_s = \\frac{\\vec{u}_{TR+1}}{2}\n",
    "$$\n",
    "\n",
    "and the orientation $\\theta_s$ of this wake will be found by averaging locally the convection directions with a iteration loop\n",
    "\n",
    "$$\n",
    "tan\\theta_s = \\frac{v_m + v_{TR+1}}{u_m + u_{TR+1}}\n",
    "$$\n",
    "\n",
    "where $u_m$ and $v_m$ are the horizontal and vertical velocity of the flow at the control point of the separation panel."
   ]
  },
  {
   "cell_type": "code",
   "execution_count": 28,
   "metadata": {
    "collapsed": false
   },
   "outputs": [],
   "source": [
    "#starting angle for the iteration loop, degree of 31 is closer to the result from experience\n",
    "ang = 31*numpy.pi/180.0\n",
    "\n",
    "delt_t = 0.2\n",
    "aoa = 20\n",
    "freestream = Freestream(u_inf=1.0, alpha=aoa)\n",
    "panels,X,Y = cre_panel(aoa,0.08)\n",
    "X_wing,Y_wing = X,Y\n",
    "TR = trsition(panels)\n",
    "gamma = numpy.empty(4,dtype = float)\n",
    "gamma_w,gamma_s = 0,0"
   ]
  },
  {
   "cell_type": "code",
   "execution_count": 29,
   "metadata": {
    "collapsed": true
   },
   "outputs": [],
   "source": [
    "def DW_panel_make(ang,panels,TR):\n",
    "    \n",
    "    #starting loop for wake model parameters\n",
    "        \n",
    "    tr_x = [panels[TR].xb, panels[TR].xb+delt_t*numpy.abs(panels[TR+1].vt)/2 *numpy.cos(ang)]\n",
    "    tr_y = [panels[TR].yb, panels[TR].yb+delt_t*numpy.abs(panels[TR+1].vt)/2 *numpy.sin(ang)]\n",
    "\n",
    "    u_te =( (numpy.sin(panels[0].beta +0.5*numpy.pi)*-1*panels[0].vt)\n",
    "           -(numpy.sin(panels[-1].beta +0.5*numpy.pi)*-1*panels[0].vt))\n",
    "    \n",
    "    v_te =( (numpy.cos(panels[0].beta +0.5*numpy.pi)*-1*panels[0].vt)\n",
    "           -(numpy.cos(panels[-1].beta +0.5*numpy.pi)*-1*panels[0].vt))\n",
    "\n",
    "    wa_length = numpy.sqrt(u_te**2 + v_te**2)\n",
    "\n",
    "\n",
    "    wa_x = [panels[-1].xb, panels[-1].xb - numpy.cos(numpy.pi) *wa_length*delt_t]\n",
    "    wa_y = [panels[-1].yb, panels[-1].yb - numpy.sin(numpy.pi) *wa_length*delt_t]\n",
    "\n",
    "    DW_panel = numpy.empty(2, dtype = object)\n",
    "    DW_panel[0] = Panel(wa_x[0],wa_y[0],wa_x[1],wa_y[1])\n",
    "    DW_panel[1] = Panel(tr_x[0],tr_y[0],tr_x[1],tr_y[1])\n",
    "        \n",
    "    return DW_panel"
   ]
  },
  {
   "cell_type": "code",
   "execution_count": 30,
   "metadata": {
    "collapsed": false
   },
   "outputs": [],
   "source": [
    "def theta_s(ang,panels,DW_panel,freestream,gamma):\n",
    "    ang_pre = 0\n",
    "    error = 10\n",
    "    n = 0\n",
    "    print(\"   \",\"Iteration loop for separation wake:\",i+1)\n",
    "    while error>0.01 and n <50 :\n",
    "        ang = U_m(panels,DW_panel,freestream,gamma)\n",
    "        DW_panel = DW_panel_make(ang,panels,TR)\n",
    "        error = numpy.abs(ang - ang_pre)\n",
    "        ang_pre = ang\n",
    "        n+=1\n",
    "        print(\"   \",\"Round: \", n , \", result: \" , ang/numpy.pi*180)\n",
    "\n",
    "    print(\"   \",\"Result:\",ang/numpy.pi*180)\n",
    "    return ang"
   ]
  },
  {
   "cell_type": "code",
   "execution_count": 31,
   "metadata": {
    "collapsed": false
   },
   "outputs": [],
   "source": [
    "def U_m(panels,DW_panel,freestream,gamma):\n",
    "\n",
    "    #iteration loop theta_s\n",
    "    \n",
    "    vec_integral_u = numpy.vectorize(integral_u_source)\n",
    "    vec_integral_v = numpy.vectorize(integral_v_source)\n",
    "\n",
    "    vec_integral_u1 = numpy.vectorize(integral_u_vortex)\n",
    "    vec_integral_v1 = numpy.vectorize(integral_v_vortex)\n",
    "\n",
    "    u_panel_tr,v_panel_tr = 0,0\n",
    "\n",
    "    for i, p_i in enumerate(panels):  \n",
    "        u_panel_tr += p_i.sigma*0.5/numpy.pi*vec_integral_u(p_i, DW_panel[1].xc,DW_panel[1].yc)\n",
    "        v_panel_tr += p_i.sigma*0.5/numpy.pi*vec_integral_v(p_i, DW_panel[1].xc,DW_panel[1].yc)\n",
    "        if(i<=TR):\n",
    "            u_panel_tr -= gamma[1]*0.5/numpy.pi*vec_integral_u1(p_i, DW_panel[1].xc,DW_panel[1].yc)\n",
    "            v_panel_tr -= gamma[1]*0.5/numpy.pi*vec_integral_v1(p_i, DW_panel[1].xc,DW_panel[1].yc)\n",
    "        else:\n",
    "            u_panel_tr -= gamma[0]*0.5/numpy.pi*vec_integral_u1(p_i, DW_panel[1].xc,DW_panel[1].yc)\n",
    "            v_panel_tr -= gamma[0]*0.5/numpy.pi*vec_integral_v1(p_i, DW_panel[1].xc,DW_panel[1].yc)\n",
    "\n",
    "    u_panel_tr -= gamma[2]*0.5/numpy.pi*vec_integral_u1(DW_panel[0], DW_panel[1].xc,DW_panel[1].yc)\n",
    "    v_panel_tr -= gamma[2]*0.5/numpy.pi*vec_integral_v1(DW_panel[0], DW_panel[1].xc,DW_panel[1].yc)\n",
    "\n",
    "    u_m,v_m = 0,0\n",
    "    u_m = freestream.u_inf *numpy.cos(freestream.alpha) + u_panel_tr\n",
    "    v_m = freestream.u_inf *numpy.sin(freestream.alpha) + v_panel_tr\n",
    "\n",
    "    ang = numpy.arctan((v_m-panels[TR+1].vt*numpy.sin(panels[TR+1].beta+0.5*numpy.pi))/\n",
    "                           (-u_m-panels[TR+1].vt*numpy.cos(panels[TR+1].beta+0.5*numpy.pi)))\n",
    "    \n",
    "    return ang"
   ]
  },
  {
   "cell_type": "code",
   "execution_count": 32,
   "metadata": {
    "collapsed": false
   },
   "outputs": [],
   "source": [
    "def gamma_wake(panels,TR):\n",
    "    u_te,v_te = 0,0\n",
    "    \n",
    "    u_te = ( (numpy.sin(panels[0].beta +0.5*numpy.pi)*-1*panels[0].vt)\n",
    "            -(numpy.sin(panels[-1].beta +0.5*numpy.pi)*-1*panels[-1].vt))\n",
    "\n",
    "    v_te = ( (numpy.cos(panels[0].beta +0.5*numpy.pi)*-1*panels[0].vt)\n",
    "            -(numpy.cos(panels[-1].beta +0.5*numpy.pi)*-1*panels[-1].vt))\n",
    "\n",
    "    gamma_w = -numpy.sqrt(u_te**2 + v_te**2)\n",
    "\n",
    "    gamma_s = -panels[TR+1].vt\n",
    "    return gamma_w, gamma_s"
   ]
  },
  {
   "cell_type": "markdown",
   "metadata": {},
   "source": [
    "After $\\gamma_w$ and $\\gamma_s$ are calculated, there will be N+2 unknowns (N source strengths $\\sigma_i$ and 2 vortex strengths $\\gamma_1$ and $\\gamma_2$) left, therefore N+2 boundary conditions will be needed."
   ]
  },
  {
   "cell_type": "markdown",
   "metadata": {},
   "source": [
    "The first N boundary conditions are based on the requirement that the flow does not penetrate the surface in each control point,\n",
    "\n",
    "$$\n",
    "\\begin{align*}\n",
    "0 &= V_\\infty \\cos \\left(\\alpha-\\beta_i\\right) + \\frac{\\sigma_i}{2} \\\\\n",
    "&+ \\sum_{j=1,j\\neq i}^N \\frac{\\sigma_j}{2\\pi} \\int_j \\frac{\\partial}{\\partial n_i} \\ln \\left(\\sqrt{(x_{c_i}-x_j(s_j))^2+(y_{c_i}-y_j(s_j))^2} \\right) {\\rm d}s_j \\\\\n",
    "&- \\sum_{j=TR+1,j\\neq i}^N \\frac{\\gamma_1}{2\\pi} \\int_j \\frac{\\partial}{\\partial n_i} \\tan^{-1} \\left(\\frac{y_{c_i}-y_j(s_j)}{x_{c_i}-x_j(s_j)}\\right) {\\rm d}s_j\\\\\n",
    "&- \\sum_{j=1,j\\neq i}^{TR} \\frac{\\gamma_2}{2\\pi} \\int_j \\frac{\\partial}{\\partial n_i} \\tan^{-1} \\left(\\frac{y_{c_i}-y_j(s_j)}{x_{c_i}-x_j(s_j)}\\right) {\\rm d}s_j\\\\\n",
    "&- \\frac{\\gamma_w}{2\\pi} \\int_w \\frac{\\partial}{\\partial n_i} \\tan^{-1} \\left(\\frac{y_{c_i}-y_w(s_w)}{x_{c_i}-x_w(s_w)}\\right) {\\rm d}s_w\\\\\n",
    "&- \\frac{\\gamma_s}{2\\pi} \\int_s \\frac{\\partial}{\\partial n_i} \\tan^{-1} \\left(\\frac{y_{c_i}-y_s(s_s)}{x_{c_i}-x_s(s_s)}\\right) {\\rm d}s_s\n",
    "\\end{align*}\n",
    "$$\n",
    "\n",
    "where TR$\\textit{th}$ panel is the one just downstream the transition point."
   ]
  },
  {
   "cell_type": "markdown",
   "metadata": {},
   "source": [
    "An additional boundary condition is made of zero tangential velocity in the control point just downstream of the separation point,\n",
    "$$\n",
    "V_{tTR} = 0\n",
    "$$\n",
    "\n",
    "And the last boundary condition will be the *Kutta-condition*,\n",
    "$$V_1^2 = V_N^2$$"
   ]
  },
  {
   "cell_type": "markdown",
   "metadata": {},
   "source": [
    "The linear system of equations can be built and solved with the form\n",
    "\n",
    "$$\n",
    "\\begin{bmatrix}\n",
    "\\begin{bmatrix}\n",
    "\\\\\n",
    "\\\\\n",
    "\\\\\n",
    "A\\text{_}source\\\\\n",
    "\\\\\n",
    "\\\\\n",
    "\\\\\n",
    "\\end{bmatrix}\n",
    "\\begin{bmatrix}\n",
    "0\\\\\n",
    "\\vdots\\\\\n",
    "0\\\\\n",
    "\\sum_{j=1}^N B^t_{(TR+1)j}\\\\\n",
    "\\vdots\\\\\n",
    "\\sum_{j=1}^N B^t_{Nj}\\\\\n",
    "\\end{bmatrix}\n",
    "\\begin{bmatrix}\n",
    "\\sum_{j=1}^N B^t_{1j}\\\\\n",
    "\\vdots\\\\\n",
    "\\sum_{j=1}^N B^t_{(TR)j}\\\\\n",
    "0\\\\\n",
    "\\vdots\\\\\n",
    "0\\\\\n",
    "\\end{bmatrix}\\\\\n",
    "\\begin{bmatrix}\n",
    "\\cdots\\text{Zero tangential velocity at TRth panel}\\cdots\n",
    "\\end{bmatrix}\\\\\n",
    "\\begin{bmatrix}\n",
    "\\cdots\\cdots\\cdots \\cdots\\cdots\\text{Kutta condition} \\cdots\\cdots\\cdots\\cdots\\cdots\n",
    "\\end{bmatrix}\n",
    "\\end{bmatrix}_{N+2 \\times N+2}\n",
    "\\begin{bmatrix}\n",
    "\\sigma_1 \\\\\n",
    "\\vdots \\\\\n",
    "\\sigma_N \\\\\n",
    "\\gamma_1\\\\\n",
    "\\gamma_2\n",
    "\\end{bmatrix}_{N+2 \\times 1}\n",
    "=\n",
    "\\begin{bmatrix}\n",
    "-b^n_1\\\\\n",
    "\\vdots\\\\\n",
    "-b^n_N\\\\\n",
    "-b^t_{TR}\\\\\n",
    "-(b^t_1+b^t_N)\n",
    "\\end{bmatrix}_{N+2 \\times 1}\n",
    "$$\n",
    "\n",
    "where $b_i$ in the RHS include the contribution of freestream u_inf, trailing edge wake $\\gamma_w l_w$ and separation wake $\\gamma_s l_s$."
   ]
  },
  {
   "cell_type": "code",
   "execution_count": 33,
   "metadata": {
    "collapsed": false
   },
   "outputs": [],
   "source": [
    "def build_singularity_matrix_wake(A_source, B_vortex,TR):\n",
    "\n",
    "    A = numpy.zeros((A_source.shape[0]+2, A_source.shape[1]+2), dtype=float)\n",
    "    # source contribution matrix\n",
    "    A[:-2, :-2] = A_source\n",
    "    # vortex contribution array\n",
    "    A[:-2, -2] = numpy.sum(B_vortex, axis=1)  #for gamma1\n",
    "    A[:-2, -1] = numpy.sum(B_vortex, axis=1)  #for gamma2\n",
    "    \n",
    "    for i in range(A_source.shape[0]):\n",
    "        if(i<=TR):\n",
    "            A[i, -2] = 0\n",
    "        else:\n",
    "            A[i, -1] = 0\n",
    "    \n",
    "    #stagnation at trsition point\n",
    "    A[-2, :] = condition_separation(A_source, B_vortex,TR)\n",
    "    \n",
    "    # Kutta condition array    \n",
    "    A[-1, :] = kutta_condition_wake(A_source, B_vortex,TR)\n",
    "    return A"
   ]
  },
  {
   "cell_type": "code",
   "execution_count": 34,
   "metadata": {
    "collapsed": true
   },
   "outputs": [],
   "source": [
    "def condition_separation(A_source, B_vortex,TR):\n",
    "\n",
    "    b = numpy.empty(A_source.shape[0]+2, dtype=float)\n",
    "    # matrix of source contribution on tangential velocity\n",
    "    # is the same than\n",
    "    # matrix of vortex contribution on normal velocity\n",
    "    b[:-2] = B_vortex[TR, :]\n",
    "    # matrix of vortex contribution on tangential velocity\n",
    "    # is the opposite of\n",
    "    # matrix of source contribution on normal velocity\n",
    "    \n",
    "    \n",
    "    \n",
    "    b[-2] = - numpy.sum(A_source[TR, TR+1:])\n",
    "    b[-1] = - numpy.sum(A_source[TR, :TR])\n",
    "   \n",
    "    return b"
   ]
  },
  {
   "cell_type": "code",
   "execution_count": 35,
   "metadata": {
    "collapsed": true
   },
   "outputs": [],
   "source": [
    "def kutta_condition_wake(A_source, B_vortex,TR):\n",
    "\n",
    "    b = numpy.empty(A_source.shape[0]+2, dtype=float)\n",
    "    # matrix of source contribution on tangential velocity\n",
    "    # is the same than\n",
    "    # matrix of vortex contribution on normal velocity\n",
    "    b[:-2] = B_vortex[0, :] + B_vortex[-1, :]\n",
    "    # matrix of vortex contribution on tangential velocity\n",
    "    # is the opposite of\n",
    "    # matrix of source contribution on normal velocity\n",
    "    \n",
    "    \n",
    "    \n",
    "    b[-2] = - numpy.sum(A_source[0, TR+1:] + A_source[-1, TR+1:])\n",
    "    b[-1] = - numpy.sum(A_source[0, :TR] + A_source[-1, :TR])\n",
    "            \n",
    "            \n",
    "    return b"
   ]
  },
  {
   "cell_type": "code",
   "execution_count": 36,
   "metadata": {
    "collapsed": false
   },
   "outputs": [],
   "source": [
    "def build_freestream_rhs_wake(panels, freestream,DW_panel,gamma_w,gamma_s,TR):\n",
    "\n",
    "    b = numpy.empty(panels.size+2,dtype=float)\n",
    "    # freestream contribution on each panel\n",
    "    for i, panel in enumerate(panels):\n",
    "\n",
    "            b[i] =(  -freestream.u_inf *numpy.cos(freestream.alpha - panel.beta)\n",
    "                   \n",
    "                     +(gamma_w*0.5/numpy.pi\n",
    "                       *integral(panel.xc, panel.yc,DW_panel[0],\n",
    "                                 numpy.sin(panel.beta),-numpy.cos(panel.beta)))\n",
    "                   \n",
    "                     *numpy.cos(numpy.arctan((panel.yc-DW_panel[0].yc)\n",
    "                                             /(panel.yc-DW_panel[0].yc))\n",
    "                                +0.5*numpy.pi-panel.beta)\n",
    "                   \n",
    "                     +(gamma_s*0.5/numpy.pi\n",
    "                       *integral(panel.xc, panel.yc,DW_panel[1],\n",
    "                                 numpy.sin(panel.beta),-numpy.cos(panel.beta)))\n",
    "                   \n",
    "                     *numpy.cos(numpy.arctan((panel.yc-DW_panel[1].yc)\n",
    "                                             /(panel.yc-DW_panel[1].yc))\n",
    "                                +0.5*numpy.pi-panel.beta))\n",
    "        \n",
    "    \n",
    "\n",
    "    b[-2] =( -freestream.u_inf*numpy.sin(freestream.alpha - panels[TR].beta)\n",
    "\n",
    "             +gamma_w*0.5/numpy.pi\n",
    "              *integral(panels[TR].xc, panels[TR].yc,DW_panel[0],\n",
    "                        numpy.sin(panels[TR].beta),-numpy.cos(panels[TR].beta))\n",
    "\n",
    "             *numpy.sin(numpy.arctan((panels[TR].yc-DW_panel[0].yc)\n",
    "                                     /(panels[TR].xc-DW_panel[0].xc))\n",
    "                        +0.5*numpy.pi-panels[TR].beta)\n",
    "\n",
    "             +gamma_s*0.5/numpy.pi\n",
    "              *integral(panels[TR].xc, panels[TR].yc,DW_panel[1],\n",
    "                        numpy.sin(panels[TR].beta),-numpy.cos(panels[TR].beta))\n",
    "\n",
    "             *numpy.sin(numpy.arctan((panels[TR].yc-DW_panel[1].yc)\n",
    "                                     /(panels[TR].xc-DW_panel[1].xc))\n",
    "                        +0.5*numpy.pi-panels[TR].beta))     \n",
    "    \n",
    "    \n",
    "    # freestream contribution on the Kutta condition\n",
    "    b[-1] =( (numpy.sin(freestream.alpha-panels[0].beta)+numpy.sin(freestream.alpha-panels[-1].beta))*(-freestream.u_inf)\n",
    "            \n",
    "             +(gamma_w*0.5/numpy.pi\n",
    "               *integral(panels[0].xc, panels[0].yc,DW_panel[0],\n",
    "                         numpy.sin(panels[0].beta),-numpy.cos(panels[0].beta)))\n",
    "            \n",
    "             *(numpy.sin(numpy.arctan((panels[0].yc-DW_panel[0].yc)\n",
    "                                      /(panels[0].xc-DW_panel[0].xc))\n",
    "                         +0.5*numpy.pi-panels[0].beta))\n",
    "            \n",
    "             +(gamma_w*0.5/numpy.pi\n",
    "               *integral(panels[-1].xc, panels[-1].yc,DW_panel[0],\n",
    "                         numpy.sin(panels[-1].beta),-numpy.cos(panels[-1].beta)))\n",
    "            \n",
    "             *(numpy.sin(numpy.arctan((panels[-1].yc-DW_panel[0].yc)\n",
    "                                      /(panels[-1].xc-DW_panel[0].xc))\n",
    "                         +0.5*numpy.pi-panels[-1].beta))\n",
    "            \n",
    "             +(gamma_s*0.5/numpy.pi\n",
    "               *integral(panels[0].xc, panels[0].yc,DW_panel[1],\n",
    "                         numpy.sin(panels[0].beta),-numpy.cos(panels[0].beta)))\n",
    "            \n",
    "             *(numpy.sin(numpy.arctan((panels[0].yc-DW_panel[1].yc)\n",
    "                                      /(panels[0].xc-DW_panel[1].xc))\n",
    "                         +0.5*numpy.pi-panels[0].beta))\n",
    "            \n",
    "             +(gamma_s*0.5/numpy.pi\n",
    "               *integral(panels[-1].xc, panels[-1].yc,DW_panel[1],\n",
    "                         numpy.sin(panels[-1].beta),-numpy.cos(panels[-1].beta)))\n",
    "            \n",
    "             *(numpy.sin(numpy.arctan((panels[-1].yc-DW_panel[1].yc)\n",
    "                                      /(panels[-1].xc-DW_panel[1].xc))\n",
    "                         +0.5*numpy.pi-panels[-1].beta)) \n",
    "            )\n",
    "    \n",
    "    \n",
    "    \n",
    "    return b"
   ]
  },
  {
   "cell_type": "code",
   "execution_count": 37,
   "metadata": {
    "collapsed": true
   },
   "outputs": [],
   "source": [
    "def compute_tangential_velocity_wake(panels, freestream, gamma, TR, DW_panel, A_source, B_vortex):\n",
    "\n",
    "    A = numpy.empty((panels.size, panels.size+4), dtype=float)\n",
    "    # matrix of source contribution on tangential velocity\n",
    "    # is the same than\n",
    "    # matrix of vortex contribution on normal velocity\n",
    "    A[:, :-4] = B_vortex\n",
    "    # matrix of vortex contribution on tangential velocity\n",
    "    # is the opposite of\n",
    "    # matrix of source contribution on normal velocity\n",
    "    A[:, -4] = -numpy.sum(A_source, axis=1)  # for gamma1\n",
    "    A[:, -3] = -numpy.sum(A_source, axis=1)  # for gamma2\n",
    "    \n",
    "    for i in range(panels.size):\n",
    "        if(i<=TR):\n",
    "            A[i, -4] = 0\n",
    "        else:\n",
    "            A[i, -3] = 0\n",
    "    \n",
    "    for i, panel_i in enumerate(panels):\n",
    "        A[i, -2] = -0.5/numpy.pi*integral(panel_i.xc, panel_i.yc, \n",
    "                                                DW_panel[0],\n",
    "                                                numpy.cos(panel_i.beta),\n",
    "                                                numpy.sin(panel_i.beta))\n",
    "        A[i, -1] = -0.5/numpy.pi*integral(panel_i.xc, panel_i.yc, \n",
    "                                                DW_panel[1],\n",
    "                                                numpy.cos(panel_i.beta),\n",
    "                                                numpy.sin(panel_i.beta))\n",
    "    # freestream contribution\n",
    "    b = freestream.u_inf*numpy.sin([freestream.alpha-panel.beta \n",
    "                                    for panel in panels])\n",
    "    \n",
    "    strengths = numpy.append([panel.sigma for panel in panels], gamma)\n",
    "    \n",
    "    tangential_velocities = numpy.dot(A, strengths) + b\n",
    "    \n",
    "    for i, panel in enumerate(panels):\n",
    "        panel.vt = tangential_velocities[i]"
   ]
  },
  {
   "cell_type": "code",
   "execution_count": 38,
   "metadata": {
    "collapsed": false
   },
   "outputs": [],
   "source": [
    "def solve(panels,DW_panel,freestream,gamma_w, gamma_s,TR):\n",
    "    A_source = source_contribution_normal(panels)\n",
    "    B_vortex = vortex_contribution_normal(panels)\n",
    "    A = build_singularity_matrix_wake(A_source, B_vortex,TR)\n",
    "    b = build_freestream_rhs_wake(panels, freestream,DW_panel,gamma_w,gamma_s,TR)\n",
    "    # solve for singularity strengths\n",
    "    strengths = numpy.linalg.solve(A, b)\n",
    "\n",
    "    # store source strength on each panel\n",
    "    for i , panel in enumerate(panels):\n",
    "        panel.sigma = strengths[i]\n",
    "\n",
    "    # store circulation density\n",
    "    gamma1 = strengths[-2]\n",
    "    gamma2 = strengths[-1]\n",
    "    gamma = [gamma1, gamma2, gamma_w, gamma_s]\n",
    "    print(\"   \",\"gamma_1 :\",gamma[0])\n",
    "    print(\"   \",\"gamma_2 :\",gamma[1])\n",
    "    print(\"   \",\"gamma_w :\",gamma[2])\n",
    "    print(\"   \",\"gamma_s :\",gamma[3])\n",
    "    compute_tangential_velocity_wake(panels, freestream, gamma, TR, DW_panel, A_source, B_vortex)\n",
    "    compute_pressure_coefficient(panels, freestream)\n",
    "    \n",
    "    return gamma"
   ]
  },
  {
   "cell_type": "code",
   "execution_count": 45,
   "metadata": {
    "collapsed": false
   },
   "outputs": [],
   "source": [
    "#pre-build\n",
    "DW_panel = DW_panel_make(ang,panels,TR)\n",
    "gamma_w, gamma_s = gamma_wake(panels,TR)"
   ]
  },
  {
   "cell_type": "code",
   "execution_count": 40,
   "metadata": {
    "collapsed": false
   },
   "outputs": [
    {
     "name": "stdout",
     "output_type": "stream",
     "text": [
      "Iteration loop, Round: 1\n",
      "    gamma_1 : 2.96129567053\n",
      "    gamma_2 : -1.44723836178\n",
      "    gamma_w : -0.129922216848\n",
      "    gamma_s : 2.62898290762\n",
      "    Iteration loop for separation wake: 1\n",
      "    Round:  1 , result:  27.8961623678\n",
      "    Round:  2 , result:  35.6976341731\n",
      "    Round:  3 , result:  32.8286802611\n",
      "    Round:  4 , result:  29.6190468439\n",
      "    Round:  5 , result:  32.1856771313\n",
      "    Round:  6 , result:  31.7394854846\n",
      "    Result: 31.7394854846\n",
      "    sum of singularity strengths: -0.600639\n",
      "    lift is: -3.96692005822 ; drag is: 21.5763862849\n",
      "Iteration loop, Round: 2\n",
      "    gamma_1 : 2.41129860921\n",
      "    gamma_2 : -0.969326639304\n",
      "    gamma_w : -9.38843528277\n",
      "    gamma_s : 2.54634119343\n",
      "    Iteration loop for separation wake: 2\n",
      "    Round:  1 , result:  32.2871813522\n",
      "    Round:  2 , result:  43.8235274847\n",
      "    Round:  3 , result:  40.3143186383\n",
      "    Round:  4 , result:  39.9738807271\n",
      "    Result: 39.9738807271\n",
      "    sum of singularity strengths: 3.100687\n",
      "    lift is: -3.31592577889 ; drag is: 15.5427681811\n",
      "Iteration loop, Round: 3\n",
      "    gamma_1 : 2.81184349383\n",
      "    gamma_2 : -1.28019480597\n",
      "    gamma_w : -11.6751129203\n",
      "    gamma_s : 2.122851533\n",
      "    Iteration loop for separation wake: 3\n",
      "    Round:  1 , result:  38.8329259025\n",
      "    Round:  2 , result:  37.5060460413\n",
      "    Round:  3 , result:  37.7388570921\n",
      "    Result: 37.7388570921\n",
      "    sum of singularity strengths: 1.950833\n",
      "    lift is: -5.06208795169 ; drag is: 18.9093226246\n",
      "Iteration loop, Round: 4\n",
      "    gamma_1 : 2.48944824754\n",
      "    gamma_2 : -1.01146267216\n",
      "    gamma_w : -14.3120853781\n",
      "    gamma_s : 2.2582077261\n",
      "    Iteration loop for separation wake: 4\n",
      "    Round:  1 , result:  36.6879545239\n",
      "    Round:  2 , result:  37.7245475117\n",
      "    Round:  3 , result:  37.5410190104\n",
      "    Result: 37.5410190104\n",
      "    sum of singularity strengths: 3.410233\n",
      "    lift is: -4.17963829104 ; drag is: 15.7102333943\n",
      "Iteration loop, Round: 5\n",
      "    gamma_1 : 2.89457313946\n",
      "    gamma_2 : -1.32990173925\n",
      "    gamma_w : -14.395399581\n",
      "    gamma_s : 2.07456779213\n",
      "    Iteration loop for separation wake: 5\n",
      "    Round:  1 , result:  40.3197948004\n",
      "    Round:  2 , result:  37.7417839789\n",
      "    Round:  3 , result:  37.8204807565\n",
      "    Result: 37.8204807565\n",
      "    sum of singularity strengths: 2.158932\n",
      "    lift is: -5.76697905233 ; drag is: 19.6533148857\n",
      "Iteration loop, Round: 6\n",
      "    gamma_1 : 2.38201341149\n",
      "    gamma_2 : -0.912560561394\n",
      "    gamma_w : -15.9311439001\n",
      "    gamma_s : 2.33053056696\n",
      "    Iteration loop for separation wake: 6\n",
      "    Round:  1 , result:  34.7860384441\n",
      "    Round:  2 , result:  37.5540991731\n",
      "    Round:  3 , result:  36.5364829503\n",
      "    Round:  4 , result:  36.5903627865\n",
      "    Result: 36.5903627865\n",
      "    sum of singularity strengths: 3.801150\n",
      "    lift is: -3.87077565012 ; drag is: 14.7140434199\n"
     ]
    }
   ],
   "source": [
    "for i in range (6):\n",
    "    print(\"Iteration loop, Round:\",i+1)\n",
    "    DW_panel = DW_panel_make(ang,panels,TR)\n",
    "    gamma_w, gamma_s = gamma_wake(panels,TR)\n",
    "    \n",
    "    gamma = solve(panels,DW_panel,freestream,gamma_w, gamma_s,TR)\n",
    "\n",
    "    ang = theta_s(ang,panels,DW_panel,freestream,gamma)\n",
    "\n",
    "    accuracy = sum([panel.sigma*panel.length for panel in panels])\n",
    "    print(\"   \",'sum of singularity strengths: {:0.6f}'.format(accuracy))\n",
    "\n",
    "    lift,drag=0,0\n",
    "    for panel in panels:\n",
    "        lift -= panel.cp*(panel.xa - panel.xb)\n",
    "        drag += panel.cp*(panel.yb - panel.ya)\n",
    "\n",
    "    print(\"   \",\"lift is:\",lift,\"; drag is:\",drag)"
   ]
  },
  {
   "cell_type": "markdown",
   "metadata": {},
   "source": [
    "The result above shows that, after several iteration loops, the separation wake becomes stable at around 36 degree, it can be relative physical with an 20 degree angle of attack. "
   ]
  },
  {
   "cell_type": "code",
   "execution_count": 41,
   "metadata": {
    "collapsed": false
   },
   "outputs": [],
   "source": [
    "DW_panel = DW_panel_make(ang,panels,TR)"
   ]
  },
  {
   "cell_type": "code",
   "execution_count": 42,
   "metadata": {
    "collapsed": false
   },
   "outputs": [
    {
     "data": {
      "text/plain": [
       "[<matplotlib.lines.Line2D at 0x7f6b5e3435c0>]"
      ]
     },
     "execution_count": 42,
     "metadata": {},
     "output_type": "execute_result"
    },
    {
     "data": {
      "image/png": "[encoded data removed]",
      "text/plain": [
       "<matplotlib.figure.Figure at 0x7f6b5e6669b0>"
      ]
     },
     "metadata": {},
     "output_type": "display_data"
    }
   ],
   "source": [
    "tr_x,tr_y = [DW_panel[1].xa,DW_panel[1].xb],[DW_panel[1].ya,DW_panel[1].yb]\n",
    "wa_x,wa_y = [DW_panel[0].xa,DW_panel[0].xb],[DW_panel[0].ya,DW_panel[0].yb]\n",
    "valX,valY = 0.1,0.2\n",
    "xmin,xmax = min([p.xa for p in panels]),max([p.xa for p in panels])-1.5\n",
    "ymin,ymax = 1.5*min([p.ya for p in panels]),2*max([p.ya for p in panels])\n",
    "xStart,xEnd = xmin-valX*(xmax-xmin),xmax+valY*(xmax-xmin)\n",
    "yStart,yEnd = ymin-valY*(ymax-ymin),ymax+valY*(ymax-ymin)\n",
    "size = 20\n",
    "pyplot.figure(figsize=(size,(yEnd-yStart)/(xEnd-xStart)*size))\n",
    "pyplot.grid(True)\n",
    "pyplot.xlabel('x',fontsize=16)\n",
    "pyplot.ylabel('y',fontsize=16)\n",
    "pyplot.title('Displacement Thickness')\n",
    "pyplot.xlim(xStart,xEnd+2)\n",
    "pyplot.ylim(yStart,yEnd)\n",
    "pyplot.plot(X_wing,Y_wing,'k-',linewidth=2)\n",
    "pyplot.scatter(X_wing[TR],Y_wing[TR])\n",
    "pyplot.plot(tr_x,tr_y,'k-',linewidth=2)\n",
    "pyplot.plot(wa_x,wa_y,'k-',linewidth=2)"
   ]
  },
  {
   "cell_type": "code",
   "execution_count": 43,
   "metadata": {
    "collapsed": false
   },
   "outputs": [
    {
     "data": {
      "image/png": "[encoded data removed]",
      "text/plain": [
       "<matplotlib.figure.Figure at 0x7f6b5e67d400>"
      ]
     },
     "metadata": {},
     "output_type": "display_data"
    }
   ],
   "source": [
    "# plot surface pressure coefficient\n",
    "pyplot.figure(figsize=(10, 6))\n",
    "pyplot.grid()\n",
    "pyplot.xlabel('$x$', fontsize=16)\n",
    "pyplot.ylabel('$C_p$', fontsize=16)\n",
    "pyplot.plot([panel.xc for panel in panels if panel.loc == 'upper'],\n",
    "            [panel.cp for panel in panels if panel.loc == 'upper'],\n",
    "            label='upper surface',\n",
    "            color='r', linestyle='-', linewidth=2, marker='o', markersize=6)\n",
    "pyplot.plot([panel.xc for panel in panels if panel.loc == 'lower'],\n",
    "            [panel.cp for panel in panels if panel.loc == 'lower'],\n",
    "            label= 'lower surface',\n",
    "            color='b', linestyle='-', linewidth=1, marker='o', markersize=6)\n",
    "pyplot.scatter(panels[TR].xc,panels[TR].cp,color='k', s=100)\n",
    "pyplot.legend(loc='best', prop={'size':16})\n",
    "pyplot.xlim(-2.5, 2.1)\n",
    "pyplot.ylim(1.5, -50.0)\n",
    "pyplot.title('Number of panels: {}'.format(panels.size), fontsize=16);"
   ]
  },
  {
   "cell_type": "code",
   "execution_count": 44,
   "metadata": {
    "collapsed": false
   },
   "outputs": [
    {
     "data": {
      "image/png": "[encoded data removed]",
      "text/plain": [
       "<matplotlib.figure.Figure at 0x7f6b5dc212e8>"
      ]
     },
     "metadata": {},
     "output_type": "display_data"
    }
   ],
   "source": [
    "# plot surface tangential velocity\n",
    "pyplot.figure(figsize=(10, 6))\n",
    "pyplot.grid()\n",
    "pyplot.xlabel('$x$', fontsize=16)\n",
    "pyplot.ylabel('$V_t$', fontsize=16)\n",
    "pyplot.plot([panel.xc for panel in panels if panel.loc == 'upper'],\n",
    "            [panel.vt for panel in panels if panel.loc == 'upper'],\n",
    "            label='upper surface',\n",
    "            color='r', linestyle='-', linewidth=2, marker='o', markersize=6)\n",
    "pyplot.plot([panel.xc for panel in panels if panel.loc == 'lower'],\n",
    "            [panel.vt for panel in panels if panel.loc == 'lower'],\n",
    "            label= 'lower surface',\n",
    "            color='b', linestyle='-', linewidth=1, marker='o', markersize=6)\n",
    "\n",
    "pyplot.legend(loc='best', prop={'size':16})\n",
    "pyplot.xlim(-2.5, 2.1)\n",
    "pyplot.ylim(-12,7)\n",
    "pyplot.title('Number of panels: {}'.format(panels.size), fontsize=16);"
   ]
  },
  {
   "cell_type": "markdown",
   "metadata": {
    "collapsed": false
   },
   "source": [
    "From the plots above, it is shown that the there's a drop or jump for both the tangential velocity and pressure coefficient on the wing's surface just downstream the separation point. In this approach, it's caused by the vortex strength of the wake at the separation point, and in the practical situation, it is caused by the transition of the boundary layer from laminar to turbulent."
   ]
  },
  {
   "cell_type": "code",
   "execution_count": null,
   "metadata": {
    "collapsed": false
   },
   "outputs": [],
   "source": []
  },
  {
   "cell_type": "code",
   "execution_count": null,
   "metadata": {
    "collapsed": false
   },
   "outputs": [],
   "source": []
  }
 ],
 "metadata": {
  "anaconda-cloud": {},
  "kernelspec": {
   "display_name": "Python [default]",
   "language": "python",
   "name": "python3"
  },
  "language_info": {
   "codemirror_mode": {
    "name": "ipython",
    "version": 3
   },
   "file_extension": ".py",
   "mimetype": "text/x-python",
   "name": "python",
   "nbconvert_exporter": "python",
   "pygments_lexer": "ipython3",
   "version": "3.5.2"
  }
 },
 "nbformat": 4,
 "nbformat_minor": 1
}
