{
 "cells": [
  {
   "cell_type": "code",
   "execution_count": 1,
   "metadata": {
    "collapsed": true
   },
   "outputs": [],
   "source": [
    "import os\n",
    "import numpy\n",
    "from scipy import integrate, linalg\n",
    "from matplotlib import pyplot\n",
    "%matplotlib inline"
   ]
  },
  {
   "cell_type": "code",
   "execution_count": 2,
   "metadata": {
    "collapsed": false
   },
   "outputs": [],
   "source": [
    "class Panel:\n",
    "    def __init__(self, xa, ya, xb, yb):\n",
    "        self.xa, self.ya = xa, ya \n",
    "        self.xb, self.yb = xb, yb \n",
    "        self.xc, self.yc = (xa+xb)/2, (ya+yb)/2         \n",
    "        self.length = numpy.sqrt((xb-xa)**2+(yb-ya)**2) \n",
    "        if xb-xa <= 0.0:\n",
    "            self.beta = numpy.arccos((yb-ya)/self.length)\n",
    "        elif xb-xa > 0.0:\n",
    "            self.beta = numpy.pi + numpy.arccos(-(yb-ya)/self.length)\n",
    "        if self.beta <= numpy.pi:\n",
    "            self.loc = 'upper' # upper surface\n",
    "        else:\n",
    "            self.loc = 'lower' # lower surface\n",
    "        self.sigma = 0.0 \n",
    "        self.vt = 0.0    \n",
    "        self.cp = 0.0    \n",
    "\n",
    "def define_panels(x, y, N):\n",
    "    panels = numpy.empty(N, dtype=object)\n",
    "    for i in range(N):\n",
    "        panels[i] = Panel(x[i], y[i], x[i+1], y[i+1])\n",
    "    return panels\n",
    "\n",
    "class Freestream:\n",
    "    def __init__(self, u_inf, alpha):\n",
    "        self.u_inf = u_inf\n",
    "        self.alpha = alpha*numpy.pi/180.0 # degrees to radians\n",
    "        \n",
    "def integral(x, y, panel, dxdk, dydk):\n",
    "    def integrand(s):\n",
    "        return ( ((x - (panel.xa - numpy.sin(panel.beta)*s))*dxdk\n",
    "                  +(y - (panel.ya + numpy.cos(panel.beta)*s))*dydk)\n",
    "                / ((x - (panel.xa - numpy.sin(panel.beta)*s))**2\n",
    "                   +(y - (panel.ya + numpy.cos(panel.beta)*s))**2) )\n",
    "    return integrate.quad(integrand, 0.0, panel.length)[0]\n",
    "\n",
    "def source_contribution_normal(panels):\n",
    "    A = numpy.empty((panels.size, panels.size), dtype=float)\n",
    "    # source contribution on a panel from itself\n",
    "    numpy.fill_diagonal(A, 0.5)\n",
    "    # source contribution on a panel from others\n",
    "    for i, panel_i in enumerate(panels):\n",
    "        for j, panel_j in enumerate(panels):\n",
    "            if i != j:\n",
    "                A[i, j] = 0.5/numpy.pi*integral(panel_i.xc, panel_i.yc, \n",
    "                                                panel_j,\n",
    "                                                numpy.cos(panel_i.beta),\n",
    "                                                numpy.sin(panel_i.beta))\n",
    "    return A\n",
    "\n",
    "def vortex_contribution_normal(panels):\n",
    "    A = numpy.empty((panels.size, panels.size), dtype=float)\n",
    "    # vortex contribution on a panel from itself\n",
    "    numpy.fill_diagonal(A, 0.0)\n",
    "    # vortex contribution on a panel from others\n",
    "    for i, panel_i in enumerate(panels):\n",
    "        for j, panel_j in enumerate(panels):\n",
    "            if i != j:\n",
    "                A[i, j] = -0.5/numpy.pi*integral(panel_i.xc, panel_i.yc, \n",
    "                                                 panel_j,\n",
    "                                                 numpy.sin(panel_i.beta),\n",
    "                                                 -numpy.cos(panel_i.beta))\n",
    "    return A\n",
    "\n",
    "def kutta_condition(A_source, B_vortex):\n",
    "\n",
    "    b = numpy.empty(A_source.shape[0]+1, dtype=float)\n",
    "    b[:-1] = B_vortex[0, :] + B_vortex[-1, :]\n",
    "    b[-1] = - numpy.sum(A_source[0, :] + A_source[-1, :])\n",
    "    return b\n",
    "\n",
    "def build_singularity_matrix(A_source, B_vortex):\n",
    "    A = numpy.empty((A_source.shape[0]+1, A_source.shape[1]+1), dtype=float)\n",
    "    # source contribution matrix\n",
    "    A[:-1, :-1] = A_source\n",
    "    # vortex contribution array\n",
    "    A[:-1, -1] = numpy.sum(B_vortex, axis=1)\n",
    "    # Kutta condition array\n",
    "    A[-1, :] = kutta_condition(A_source, B_vortex)\n",
    "    return A\n",
    "\n",
    "def build_freestream_rhs(panels, freestream):\n",
    "    b = numpy.empty(panels.size+1,dtype=float)\n",
    "    # freestream contribution on each panel\n",
    "    for i, panel in enumerate(panels):\n",
    "        b[i] = -freestream.u_inf * numpy.cos(freestream.alpha - panel.beta)\n",
    "    # freestream contribution on the Kutta condition\n",
    "    b[-1] = -freestream.u_inf*( numpy.sin(freestream.alpha-panels[0].beta)\n",
    "                               +numpy.sin(freestream.alpha-panels[-1].beta) )\n",
    "    return b\n",
    "\n",
    "def compute_tangential_velocity(panels, freestream, gamma, A_source, B_vortex):\n",
    "    A = numpy.empty((panels.size, panels.size+1), dtype=float)\n",
    "    A[:, :-1] = B_vortex\n",
    "    A[:, -1] = -numpy.sum(A_source, axis=1)\n",
    "    b = freestream.u_inf*numpy.sin([freestream.alpha-panel.beta \n",
    "                                    for panel in panels])\n",
    "    \n",
    "    strengths = numpy.append([panel.sigma for panel in panels], gamma)\n",
    "    \n",
    "    tangential_velocities = numpy.dot(A, strengths) + b\n",
    "    \n",
    "    for i, panel in enumerate(panels):\n",
    "        panel.vt = tangential_velocities[i]\n",
    "        \n",
    "def compute_pressure_coefficient(panels, freestream):\n",
    "    for panel in panels:\n",
    "        panel.cp = 1.0 - (panel.vt/freestream.u_inf)**2"
   ]
  },
  {
   "cell_type": "code",
   "execution_count": 3,
   "metadata": {
    "collapsed": false
   },
   "outputs": [],
   "source": [
    "x,y=numpy.loadtxt(\"naca0012.dat\",dtype=float,unpack=True)\n",
    "N_m,alpha=len(x)-1,0\n",
    "R=3 #wing span(m)\n",
    "omiga=5*2*numpy.pi  # angular velocity\n",
    "u_inf=omiga*R\n",
    "freestream = Freestream(u_inf,alpha)\n",
    "panels = define_panels(x,y,N_m)\n",
    "A_source = source_contribution_normal(panels)\n",
    "B_vortex = vortex_contribution_normal(panels)\n",
    "A = build_singularity_matrix(A_source, B_vortex)\n",
    "b = build_freestream_rhs(panels, freestream)\n",
    "strengths = numpy.linalg.solve(A, b)\n",
    "for i , panel in enumerate(panels):\n",
    "    panel.sigma = strengths[i]\n",
    "gamma = strengths[-1]\n",
    "compute_tangential_velocity(panels, freestream, gamma, A_source, B_vortex)"
   ]
  },
  {
   "cell_type": "code",
   "execution_count": 4,
   "metadata": {
    "collapsed": false
   },
   "outputs": [
    {
     "data": {
      "text/plain": [
       "2.7775835003224971"
      ]
     },
     "execution_count": 4,
     "metadata": {},
     "output_type": "execute_result"
    }
   ],
   "source": [
    "gamma"
   ]
  },
  {
   "cell_type": "code",
   "execution_count": 82,
   "metadata": {
    "collapsed": false
   },
   "outputs": [],
   "source": [
    "class Vortex_point_initial:\n",
    "    def __init__(self,rv1,psi1,zeta1,beta1,miu1,lamda1):\n",
    "        self.x=rv1*numpy.cos(beta1)*numpy.cos(psi1-zeta1)+miu1*zeta1\n",
    "        self.y=rv1*numpy.cos(beta1)*numpy.sin(psi1-zeta1)\n",
    "        self.z=rv1*numpy.sin(beta1)-lamda1*zeta1\n",
    "        self.r=numpy.array([self.x,self.y,self.z])\n",
    "        self.v_induced=0 #induced velocity\n",
    "\n",
    "def define_vortex_points_initial(rv,psi,zeta,beta,miu,lamda):\n",
    "    vortex_points_initial = numpy.empty((N*(N+1)),dtype=object)\n",
    "    for i in range(N*(N+1)):\n",
    "        vortex_points_initial[i]=Vortex_point_initial(rv,psi[i],zeta[i],beta[i],miu[i],lamda[i])\n",
    "    return vortex_points_initial\n",
    "\n"
   ]
  },
  {
   "cell_type": "code",
   "execution_count": 83,
   "metadata": {
    "collapsed": false
   },
   "outputs": [],
   "source": [
    "N=12\n",
    "R=50 #wing span(m)\n",
    "omiga=5*2*numpy.pi  # angular velocity\n",
    "rv=0.5*R\n",
    "d_psi,d_zeta=numpy.pi*2/N,numpy.pi*2/N\n",
    "psi,zeta=numpy.zeros(N*(N+1)),numpy.zeros(N*(N+1))               \n",
    "miu=numpy.zeros(N*(N+1));lamda=numpy.zeros(N*(N+1));beta=numpy.zeros(N*(N+1))\n",
    "## these parameters are zero because we assume helicopter hover\n",
    "j=0;k=0\n",
    "for i in range(N*(N+1)):\n",
    "    if (j==12):\n",
    "        k=k+1\n",
    "        j=0\n",
    "    psi[i]=i*d_psi\n",
    "    zeta[i]=k*d_zeta\n",
    "    j=j+1"
   ]
  },
  {
   "cell_type": "code",
   "execution_count": 84,
   "metadata": {
    "collapsed": false
   },
   "outputs": [],
   "source": [
    "vortex_points_initial=define_vortex_points_initial(rv,psi,zeta,beta,miu,lamda)\n",
    "vortex_points= [[0 for k in range(N)]  for j in range(N+1)]\n",
    "for j in range(N):\n",
    "    vortex_points[0][j]=vortex_points_initial[j].r #initial condition\n",
    "\n",
    "for k in range(N):\n",
    "    for j in range(N):\n",
    "        if j<11:\n",
    "            vortex_points[k+1][j+1]=vortex_points[k][j]\n",
    "        elif j==11:\n",
    "            vortex_points[k+1][0]=vortex_points[k][j]\n"
   ]
  },
  {
   "cell_type": "code",
   "execution_count": 85,
   "metadata": {
    "collapsed": false
   },
   "outputs": [],
   "source": [
    "def induced_velocity(point,vortex_points,gamma,zeta,omiga,n,N,i):\n",
    "    v_induced=numpy.array([0,0,0])\n",
    "    #calculate induced velocity at point(j,k)\n",
    "    for a in range (N):\n",
    "        for b in range (N):\n",
    "            r1=point-vortex_points[a][b] # vector from  p(a,b) to p\n",
    "            r2=point-vortex_points[a+1][b] # vector from  p(a,b+1) to p\n",
    "            r1_value=numpy.sqrt(r1[0]**2+r1[1]**2+r1[2]**2)\n",
    "            r2_value=numpy.sqrt(r2[0]**2+r2[1]**2+r2[2]**2)\n",
    "            if r1_value*r2_value!=0:\n",
    "                l=vortex_points[a+1][b]-vortex_points[a][b]  # one vortex line\n",
    "                l_value=numpy.sqrt(l[0]**2+l[1]**2+l[2]**2)\n",
    "                theta1=numpy.arccos(numpy.dot(l,r1)/l_value/r1_value)\n",
    "                theta2=numpy.arccos(numpy.dot(l,r2)/l_value/r2_value)\n",
    "                h=r1_value*numpy.sin(theta1)\n",
    "                cross=numpy.cross(l,r1)\n",
    "                e=cross/numpy.sqrt(cross[0]**2+cross[1]**2+cross[2]**2)\n",
    "                rc=1.12*numpy.sqrt(4*(0.1*gamma+0.000146)*zeta[i]/omiga) #radius of vortex core \n",
    "                v=gamma/4/numpy.pi*h/((rc**(2*n)+h**(2*n))**(1/n))*(numpy.cos(theta1)-numpy.cos(theta2))*e\n",
    "                v_induced=v_induced+v\n",
    "            elif r1_value*r2_value==0:\n",
    "                v_induced=v_induced\n",
    "    return v_induced\n",
    "    "
   ]
  },
  {
   "cell_type": "code",
   "execution_count": 202,
   "metadata": {
    "collapsed": false
   },
   "outputs": [],
   "source": [
    "def vortex_points_iteration(vortex_points,gamma,zeta,omiga,d_psi,n,N):\n",
    "    vortex_points_new= [[0 for k in range(N)]  for j in range(N+1)]\n",
    "    for j in range(N):\n",
    "        vortex_points_new[0][j]=vortex_points[0][j] #initial condition\n",
    "    for k in range (N):\n",
    "        for j in range(N):\n",
    "            a=k;b=j;c=k+1;d=j+1\n",
    "            if j==11:\n",
    "                d=0 # periodic boundary condition\n",
    "            i=k     # set the zeta[i]\n",
    "            point1=vortex_points[a][b]\n",
    "            point2=vortex_points[c][b]\n",
    "            point3=vortex_points[a][d]\n",
    "            point4=vortex_points[c][d]\n",
    "            v1=induced_velocity(point1,vortex_points,gamma,zeta,omiga,n,N,i)\n",
    "            v2=induced_velocity(point2,vortex_points,gamma,zeta,omiga,n,N,i)\n",
    "            v3=induced_velocity(point3,vortex_points,gamma,zeta,omiga,n,N,i)\n",
    "            v4=induced_velocity(point4,vortex_points,gamma,zeta,omiga,n,N,i)\n",
    "            v=(v1+v2+v3+v4)/4\n",
    "            if j<11:\n",
    "                vortex_points_new[k+1][j+1]=vortex_points[k][j]+v/omiga*d_psi\n",
    "            elif j==11:\n",
    "                vortex_points_new[k+1][0]=vortex_points[k][j]+v/omiga*d_psi #periodic boundary condition\n",
    "    return vortex_points_new"
   ]
  },
  {
   "cell_type": "code",
   "execution_count": 198,
   "metadata": {
    "collapsed": false
   },
   "outputs": [],
   "source": [
    "def wake_convergence_erro(n,N,vortex_points_1,vortex_points_2):\n",
    "    for k in range(N):\n",
    "        for j in range(N):\n",
    "            deference=vortex_points_1[k][j]-vortex_points_2[k][j]\n",
    "            erro=numpy.sqrt(deference[0]**2+deference[1]**2+deference[2]**2)/N/N\n",
    "    return erro\n"
   ]
  },
  {
   "cell_type": "code",
   "execution_count": null,
   "metadata": {
    "collapsed": false
   },
   "outputs": [],
   "source": [
    "erro=0;m=0;n=1;\n",
    "vortex_points_n=vortex_points_iteration(vortex_points,gamma,zeta,omiga,d_psi,n,N)\n",
    "while m<10:\n",
    "    n=n+1\n",
    "    vortex_points_n_plus1=vortex_points_iteration(vortex_points_n,gamma,zeta,omiga,d_psi,n,N)\n",
    "    erro=wake_convergence_erro(n,N,vortex_points_n,vortex_points_n_plus1)\n",
    "    vortex_points_n=vortex_points_n_plus1\n",
    "    m=m+1\n",
    "    \n",
    "    "
   ]
  },
  {
   "cell_type": "code",
   "execution_count": 221,
   "metadata": {
    "collapsed": false
   },
   "outputs": [
    {
     "data": {
      "text/plain": [
       "10"
      ]
     },
     "execution_count": 221,
     "metadata": {},
     "output_type": "execute_result"
    }
   ],
   "source": [
    "m"
   ]
  },
  {
   "cell_type": "code",
   "execution_count": 222,
   "metadata": {
    "collapsed": false
   },
   "outputs": [
    {
     "data": {
      "text/plain": [
       "0.00076817156491559662"
      ]
     },
     "execution_count": 222,
     "metadata": {},
     "output_type": "execute_result"
    }
   ],
   "source": [
    "erro"
   ]
  },
  {
   "cell_type": "code",
   "execution_count": null,
   "metadata": {
    "collapsed": true
   },
   "outputs": [],
   "source": []
  },
  {
   "cell_type": "code",
   "execution_count": null,
   "metadata": {
    "collapsed": true
   },
   "outputs": [],
   "source": []
  },
  {
   "cell_type": "code",
   "execution_count": null,
   "metadata": {
    "collapsed": false,
    "scrolled": false
   },
   "outputs": [],
   "source": []
  },
  {
   "cell_type": "code",
   "execution_count": 203,
   "metadata": {
    "collapsed": false
   },
   "outputs": [],
   "source": [
    "n=1;\n",
    "a1=vortex_points_iteration(vortex_points,gamma,zeta,omiga,d_psi,n,N)"
   ]
  },
  {
   "cell_type": "code",
   "execution_count": 204,
   "metadata": {
    "collapsed": false
   },
   "outputs": [
    {
     "data": {
      "text/plain": [
       "array([ 12.3390761 ,  21.31615134,  -0.35529844])"
      ]
     },
     "execution_count": 204,
     "metadata": {},
     "output_type": "execute_result"
    }
   ],
   "source": [
    "a1[4][6]"
   ]
  },
  {
   "cell_type": "code",
   "execution_count": 205,
   "metadata": {
    "collapsed": false
   },
   "outputs": [],
   "source": [
    "a2=vortex_points_iteration(a1,gamma,zeta,omiga,d_psi,n,N)"
   ]
  },
  {
   "cell_type": "code",
   "execution_count": 206,
   "metadata": {
    "collapsed": false
   },
   "outputs": [
    {
     "data": {
      "text/plain": [
       "array([ 12.33249498,  21.30056609,  -0.30938116])"
      ]
     },
     "execution_count": 206,
     "metadata": {},
     "output_type": "execute_result"
    }
   ],
   "source": [
    "a2[4][6]"
   ]
  },
  {
   "cell_type": "code",
   "execution_count": 207,
   "metadata": {
    "collapsed": true
   },
   "outputs": [],
   "source": [
    "a3=vortex_points_iteration(a2,gamma,zeta,omiga,d_psi,n,N)"
   ]
  },
  {
   "cell_type": "code",
   "execution_count": 208,
   "metadata": {
    "collapsed": false
   },
   "outputs": [
    {
     "data": {
      "text/plain": [
       "array([ 12.33610394,  21.30701079,  -0.26086716])"
      ]
     },
     "execution_count": 208,
     "metadata": {},
     "output_type": "execute_result"
    }
   ],
   "source": [
    "a3[4][6]"
   ]
  },
  {
   "cell_type": "code",
   "execution_count": null,
   "metadata": {
    "collapsed": false
   },
   "outputs": [],
   "source": []
  },
  {
   "cell_type": "code",
   "execution_count": 211,
   "metadata": {
    "collapsed": true
   },
   "outputs": [],
   "source": [
    "deference=a2[4][6]-a3[4][6]\n",
    "erro=numpy.sqrt(deference[0]**2+deference[1]**2+deference[2]**2)/N/N"
   ]
  },
  {
   "cell_type": "code",
   "execution_count": null,
   "metadata": {
    "collapsed": false
   },
   "outputs": [],
   "source": []
  },
  {
   "cell_type": "code",
   "execution_count": null,
   "metadata": {
    "collapsed": false
   },
   "outputs": [],
   "source": []
  },
  {
   "cell_type": "code",
   "execution_count": null,
   "metadata": {
    "collapsed": false
   },
   "outputs": [],
   "source": []
  },
  {
   "cell_type": "code",
   "execution_count": null,
   "metadata": {
    "collapsed": true
   },
   "outputs": [],
   "source": []
  },
  {
   "cell_type": "code",
   "execution_count": null,
   "metadata": {
    "collapsed": true
   },
   "outputs": [],
   "source": []
  },
  {
   "cell_type": "code",
   "execution_count": null,
   "metadata": {
    "collapsed": true
   },
   "outputs": [],
   "source": []
  },
  {
   "cell_type": "code",
   "execution_count": 43,
   "metadata": {
    "collapsed": false
   },
   "outputs": [],
   "source": [
    "x_wake=numpy.zeros(N)\n",
    "y_wake=numpy.zeros(N)\n",
    "for k in range(N):\n",
    "    x_wake[k]=vortex_points_n[k][0][1]\n",
    "    y_wake[k]=vortex_points_n[k][0][2]\n"
   ]
  },
  {
   "cell_type": "code",
   "execution_count": null,
   "metadata": {
    "collapsed": true
   },
   "outputs": [],
   "source": []
  }
 ],
 "metadata": {
  "anaconda-cloud": {},
  "kernelspec": {
   "display_name": "Python [conda root]",
   "language": "python",
   "name": "conda-root-py"
  },
  "language_info": {
   "codemirror_mode": {
    "name": "ipython",
    "version": 3
   },
   "file_extension": ".py",
   "mimetype": "text/x-python",
   "name": "python",
   "nbconvert_exporter": "python",
   "pygments_lexer": "ipython3",
   "version": "3.5.2"
  }
 },
 "nbformat": 4,
 "nbformat_minor": 1
}
