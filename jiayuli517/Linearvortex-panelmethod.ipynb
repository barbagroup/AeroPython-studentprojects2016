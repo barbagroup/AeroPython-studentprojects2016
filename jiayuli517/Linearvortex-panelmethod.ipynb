{
 "cells": [
  {
   "cell_type": "markdown",
   "metadata": {
    "collapsed": true
   },
   "source": [
    "# Linear vortex panel method"
   ]
  },
  {
   "cell_type": "markdown",
   "metadata": {},
   "source": [
    "By Jiayu Li"
   ]
  },
  {
   "cell_type": "markdown",
   "metadata": {},
   "source": [
    "Welcome to the final project! During this semester, I think I really learn a lot from this class. "
   ]
  },
  {
   "cell_type": "markdown",
   "metadata": {},
   "source": [
    "In lesson 11, we have already learned how to solve the problem with constant vortex strength. This time I will make the strength linearly varying."
   ]
  },
  {
   "cell_type": "markdown",
   "metadata": {},
   "source": [
    "# Derivation of the linearly varying vortex panel method"
   ]
  },
  {
   "cell_type": "markdown",
   "metadata": {},
   "source": [
    "Linearly varying vortex strength means:   \n",
    "\\begin{equation}\n",
    "\\begin{split} \\gamma(x)=\\gamma_{0}+\\gamma_1(x-x_1)\n",
    "\\end{split}\n",
    "\\end{equation}"
   ]
  },
  {
   "cell_type": "markdown",
   "metadata": {},
   "source": [
    "$γ_0$ is a constant part, and $γ_1(x-x_1)$ is the slope. By superposition, we can divide it into two parts, the constant part and varying part, and then add them together."
   ]
  },
  {
   "cell_type": "markdown",
   "metadata": {},
   "source": [
    "From lesson 11 we have already learned that the potential at location $(x, y)$ induced by an uniform flow and a vortex sheet can be represented as: "
   ]
  },
  {
   "cell_type": "markdown",
   "metadata": {},
   "source": [
    "\\begin{equation}\n",
    "\\begin{split}\n",
    "\\phi(x, y) \n",
    "&= \\phi_{freestream}(x, y)+ \\phi_{vortex}(x, y)\n",
    "\\end{split}\n",
    "\\end{equation}"
   ]
  },
  {
   "cell_type": "markdown",
   "metadata": {},
   "source": [
    "\\begin{equation}\n",
    "\\begin{split}\n",
    "\\phi(x, y) &= xU_{\\infty}\\cos(\\alpha) + yU_{\\infty}\\sin(\\alpha) &-\n",
    "\\frac{1}{2\\pi} \\int_{sheet} \\gamma(s)\\tan^{-1} (\\frac{y-\\eta(s)}{x-\\xi(s)})ds= xU_{\\infty}\\cos(\\alpha) + yU_{\\infty}\\sin(\\alpha)- \\sum_{j=1}^N \\frac{1}{2\\pi} \\int_j\\gamma_j(s) \\tan^{-1} \\left(\\frac{y-\\eta_j(s)}{x-\\xi_j(s)}\\right) {\\rm d}s_j\n",
    "\\end{split}\n",
    "\\end{equation}"
   ]
  },
  {
   "cell_type": "markdown",
   "metadata": {},
   "source": [
    "\\begin{equation}\n",
    "\\left\\{\n",
    "\\begin{array}{l}\n",
    "\\xi_j(s)=x_j-s\\sin\\beta_j \\\\\n",
    "\\eta_j(s)=y_j+s\\cos\\beta_j\n",
    "\\end{array}\n",
    ",\\ \\ \\ \n",
    "0\\le s \\le l_j\n",
    "\\right.\n",
    "\\end{equation}"
   ]
  },
  {
   "cell_type": "markdown",
   "metadata": {},
   "source": [
    "When the vortex strength is linearly varying, we can derive:"
   ]
  },
  {
   "cell_type": "markdown",
   "metadata": {},
   "source": [
    "\\begin{equation}\n",
    "\\begin{split} \\gamma_j(s)=\\gamma_j+(\\frac{\\gamma_{j+1}-\\gamma_j}{l_j})s\n",
    "\\end{split}\n",
    "\\end{equation}"
   ]
  },
  {
   "cell_type": "markdown",
   "metadata": {},
   "source": [
    "$$\n",
    "\\begin{align*}\n",
    "\\phi\\left(x,y\\right) &= xU_{\\infty}\\cos(\\alpha) + yU_{\\infty}\\sin(\\alpha)- \\sum_{j=1}^N \\frac{\\gamma_j}{2\\pi} \\int_j \\tan^{-1} \\left(\\frac{y-\\eta_j(s)}{x-\\xi_j(s)}\\right) {\\rm d}s_j- \\sum_{j=1}^N \\frac{1}{2\\pi}(\\frac{\\gamma_{j+1}-\\gamma_j}{l_j}) \\int_j s\\tan^{-1} \\left(\\frac{y-\\eta_j(s)}{x-\\xi_j(s)}\\right) {\\rm d}s_j\n",
    "\\end{align*}\n",
    "$$"
   ]
  },
  {
   "cell_type": "markdown",
   "metadata": {},
   "source": [
    "# Part 1: Angle of attack: 0"
   ]
  },
  {
   "cell_type": "markdown",
   "metadata": {},
   "source": [
    "# Discretization into panels"
   ]
  },
  {
   "cell_type": "markdown",
   "metadata": {},
   "source": [
    "Let's first import our favorite libraries, and the function integrate and linalg from SciPy, as in Lesson 11."
   ]
  },
  {
   "cell_type": "code",
   "execution_count": 1,
   "metadata": {
    "collapsed": false
   },
   "outputs": [],
   "source": [
    "# import libraries and modules needed\n",
    "import os\n",
    "import math\n",
    "import numpy\n",
    "from scipy import integrate, linalg\n",
    "from matplotlib import pyplot\n",
    "# display the figures in the Notebook\n",
    "%matplotlib inline"
   ]
  },
  {
   "cell_type": "markdown",
   "metadata": {},
   "source": [
    "We start by importing the NACA0012 geometry from a data file:"
   ]
  },
  {
   "cell_type": "code",
   "execution_count": 2,
   "metadata": {
    "collapsed": false
   },
   "outputs": [],
   "source": [
    "# load geometry from data file\n",
    "naca_filepath = os.path.join('naca0012.dat')\n",
    "with open(naca_filepath, 'r') as infile:\n",
    "    x, y = numpy.loadtxt(infile, dtype=float, unpack=True)"
   ]
  },
  {
   "cell_type": "markdown",
   "metadata": {},
   "source": [
    "Then we plot the airfoil:"
   ]
  },
  {
   "cell_type": "code",
   "execution_count": 3,
   "metadata": {
    "collapsed": false
   },
   "outputs": [
    {
     "data": {
      "image/png": "[encoded data removed]",
      "text/plain": [
       "<matplotlib.figure.Figure at 0x7f7cee79dfd0>"
      ]
     },
     "metadata": {},
     "output_type": "display_data"
    }
   ],
   "source": [
    "# plot the geometry\n",
    "width = 10\n",
    "pyplot.figure(figsize=(width, width))\n",
    "pyplot.grid()\n",
    "pyplot.xlabel('x', fontsize=16)\n",
    "pyplot.ylabel('y', fontsize=16)\n",
    "pyplot.plot(x, y, color='k', linestyle='-', linewidth=2)\n",
    "pyplot.axis('scaled', adjustable='box')\n",
    "pyplot.xlim(-0.1, 1.1)\n",
    "pyplot.ylim(-0.1, 0.1);"
   ]
  },
  {
   "cell_type": "markdown",
   "metadata": {},
   "source": [
    "We define a class Panel that will store all information about one panel: start and end points, center point, length, orientation, tangential velocity and pressure coefficient, as the same in lesson 11."
   ]
  },
  {
   "cell_type": "code",
   "execution_count": 4,
   "metadata": {
    "collapsed": true
   },
   "outputs": [],
   "source": [
    "class Panel:\n",
    "    \"\"\"\n",
    "    Contains information related to a panel.\n",
    "    \"\"\"\n",
    "    def __init__(self, xa, ya, xb, yb):\n",
    "        \"\"\"\n",
    "        Initializes the panel.\n",
    "        \n",
    "        Sets the end-points and calculates the center-point, length,\n",
    "        and angle (with the x-axis) of the panel.\n",
    "        Defines if the panel is located on the upper or lower surface of the geometry.\n",
    "        Initializes the tangential velocity, and pressure coefficient\n",
    "        of the panel to zero.\n",
    "        \n",
    "        Parameters\n",
    "        ---------_\n",
    "        xa: float\n",
    "            x-coordinate of the first end-point.\n",
    "        ya: float\n",
    "            y-coordinate of the first end-point.\n",
    "        xb: float\n",
    "            x-coordinate of the second end-point.\n",
    "        yb: float\n",
    "            y-coordinate of the second end-point.\n",
    "        \"\"\"\n",
    "        self.xa, self.ya = xa, ya                       # panel starting-point\n",
    "        self.xb, self.yb = xb, yb                       # panel ending-point\n",
    "        \n",
    "        self.xc, self.yc = (xa+xb)/2, (ya+yb)/2         # panel center\n",
    "        self.length = numpy.sqrt((xb-xa)**2+(yb-ya)**2) # panel length\n",
    "        \n",
    "        # orientation of panel (angle between x-axis and panel's normal)\n",
    "        if xb-xa <= 0.0:\n",
    "            self.beta = numpy.arccos((yb-ya)/self.length)\n",
    "        elif xb-xa > 0.0:\n",
    "            self.beta = numpy.pi + numpy.arccos(-(yb-ya)/self.length)\n",
    "        \n",
    "        # panel location\n",
    "        if self.beta <= numpy.pi:\n",
    "            self.loc = 'upper'                          # upper surface\n",
    "        else:\n",
    "            self.loc = 'lower'                          # lower surface\n",
    "        \n",
    "        \n",
    "        self.vt = 0.0                                   # tangential velocity\n",
    "        self.cp = 0.0                                   # pressure coefficient"
   ]
  },
  {
   "cell_type": "markdown",
   "metadata": {},
   "source": [
    "Like before, we call the function define_panels to discretize the airfoil geometry in N panels. We are going to generate the y_ends using the equation for a symmetrical 4-digit NACA airfoil with the correction for zero-thickness trailing edge."
   ]
  },
  {
   "cell_type": "code",
   "execution_count": 5,
   "metadata": {
    "collapsed": true
   },
   "outputs": [],
   "source": [
    "def define_panels(N):\n",
    "    \"\"\"Discretizes the geometry into panels using 'cosine' method.\n",
    "    \n",
    "    Arguments\n",
    "    ---------\n",
    "    N: number of panels \n",
    "    \n",
    "    Returns\n",
    "    -------\n",
    "    panels: Numpy array of panels\n",
    "    \"\"\"\n",
    "    \n",
    "    R = (x.max()-x.min())/2.                            \n",
    "    x_center = (x.max()+x.min())/2.                     \n",
    "    \n",
    "    theta = numpy.linspace(0, 2*numpy.pi, N+1)          \n",
    "    x_circle = x_center +  R*numpy.cos(theta)           \n",
    "    \n",
    "    x_ends = numpy.copy(x_circle)                       \n",
    "    y_ends = numpy.empty_like(x_ends)                   \n",
    "    y_t = numpy.empty_like(x_ends)                      \n",
    "    \n",
    "    x_ends = numpy.append(x_ends, x_ends[0])            \n",
    "    \n",
    "    t=0.12                                              \n",
    "                                                        \n",
    "    c=1.                                                \n",
    "    \n",
    "    y_t = 5.*t*c*(0.2969*numpy.sqrt(x_ends/c) + (-0.1260)*(x_ends/c)+\\\n",
    "                    (-0.3516)*(x_ends/c)**2 + (0.2843)*(x_ends/c)**3 +\\\n",
    "                    (-0.1036)*(x_ends/c)**4)\n",
    "    \n",
    "    # computes the y_end\n",
    "    \n",
    "    y_ends[0:N/2] = y_t[0:N/2]\n",
    "    y_ends[N/2:N+1] = -y_t[N/2:N+1]\n",
    "    \n",
    "    \n",
    "    panels = numpy.empty(N, dtype=object)\n",
    "    for i in range(N):\n",
    "        panels[i] = Panel(x_ends[i], y_ends[i], x_ends[i+1], y_ends[i+1])\n",
    "    \n",
    "    return panels"
   ]
  },
  {
   "cell_type": "markdown",
   "metadata": {},
   "source": [
    "Now we can use the new function to define the geometry for the airfoil panels, and then plot the panel nodes on the geometry."
   ]
  },
  {
   "cell_type": "code",
   "execution_count": 6,
   "metadata": {
    "collapsed": false
   },
   "outputs": [
    {
     "name": "stderr",
     "output_type": "stream",
     "text": [
      "/home/gil/anaconda3/lib/python3.5/site-packages/ipykernel/__main__.py:33: VisibleDeprecationWarning: using a non-integer number instead of an integer will result in an error in the future\n",
      "/home/gil/anaconda3/lib/python3.5/site-packages/ipykernel/__main__.py:34: VisibleDeprecationWarning: using a non-integer number instead of an integer will result in an error in the future\n"
     ]
    }
   ],
   "source": [
    "# discretize geoemetry into panels\n",
    "N = 100                            # number of panels\n",
    "panels = define_panels(N)          # discretizes of the geometry into panels"
   ]
  },
  {
   "cell_type": "code",
   "execution_count": 7,
   "metadata": {
    "collapsed": false
   },
   "outputs": [
    {
     "data": {
      "image/png": "[encoded data removed]",
      "text/plain": [
       "<matplotlib.figure.Figure at 0x7f7cee79d630>"
      ]
     },
     "metadata": {},
     "output_type": "display_data"
    }
   ],
   "source": [
    "# plot discretized geometry\n",
    "width = 10\n",
    "pyplot.figure(figsize=(width, width))\n",
    "pyplot.grid()\n",
    "pyplot.xlabel('x', fontsize=16)\n",
    "pyplot.ylabel('y', fontsize=16)\n",
    "pyplot.plot(x, y, color='k', linestyle='-', linewidth=2)\n",
    "pyplot.plot(numpy.append([panel.xa for panel in panels], panels[0].xa),\n",
    "            numpy.append([panel.ya for panel in panels], panels[0].ya),\n",
    "            linestyle='-', linewidth=1, marker='o', markersize=6, color='#CD2305')\n",
    "pyplot.axis('scaled', adjustable='box')\n",
    "pyplot.xlim(-0.1, 1.1)\n",
    "pyplot.ylim(-0.1, 0.1);"
   ]
  },
  {
   "cell_type": "markdown",
   "metadata": {},
   "source": [
    "# Freestream Condition"
   ]
  },
  {
   "cell_type": "markdown",
   "metadata": {},
   "source": [
    "The airfoil is immersed in a freestream $(U_\\infty$,$\\alpha)$ where $U_\\infty$ and $\\alpha$ are the velocity magnitude and angle of attack, respectively. "
   ]
  },
  {
   "cell_type": "code",
   "execution_count": 8,
   "metadata": {
    "collapsed": true
   },
   "outputs": [],
   "source": [
    "class Freestream:\n",
    "    \"\"\"\n",
    "    Freestream conditions.\n",
    "    \"\"\"\n",
    "    def __init__(self, u_inf, alpha):\n",
    "        \"\"\"\n",
    "        Sets the freestream speed and angle (in degrees).\n",
    "        \n",
    "        Parameters\n",
    "        ----------\n",
    "        u_inf: float, optional\n",
    "            Freestream speed;\n",
    "            \n",
    "        alpha: float, optional\n",
    "            Angle of attack in degrees;\n",
    "            \n",
    "        \"\"\"\n",
    "        self.u_inf = u_inf\n",
    "        self.alpha = alpha*numpy.pi/180.0 # degrees to radians"
   ]
  },
  {
   "cell_type": "code",
   "execution_count": 9,
   "metadata": {
    "collapsed": true
   },
   "outputs": [],
   "source": [
    "# define freestream conditions\n",
    "u_inf = 1.0                                # freestream speed\n",
    "alpha = 0.0                                # angle of attack (in degrees)\n",
    "freestream = Freestream(u_inf, alpha)      # instantiation of the object freestream"
   ]
  },
  {
   "cell_type": "markdown",
   "metadata": {},
   "source": [
    "# Flow tangency boundary condition"
   ]
  },
  {
   "cell_type": "markdown",
   "metadata": {},
   "source": [
    "From lesson 11 we have already learned:"
   ]
  },
  {
   "cell_type": "markdown",
   "metadata": {},
   "source": [
    "\\begin{equation}\n",
    "\\left\\{\n",
    "\\begin{array}{l}\n",
    "U_n(x, y)=\\frac{\\partial \\phi}{\\partial x}(x, y) n_x(x, y)+\\frac{\\partial \\phi}{\\partial y}(x, y) n_y(x, y) \\\\\n",
    "U_t(x, y)=\\frac{\\partial \\phi}{\\partial x}(x, y) t_x(x, y)+\\frac{\\partial \\phi}{\\partial y}(x, y) t_y(x, y)\n",
    "\\end{array}\n",
    "\\right.\n",
    "\\end{equation}"
   ]
  },
  {
   "cell_type": "markdown",
   "metadata": {},
   "source": [
    "\\begin{equation}\n",
    "\\left\\{\n",
    "\\begin{array}{l}\n",
    "n_x= cos(\\beta_i), n_y= sin(\\beta_i) \\\\\n",
    "t_x= -sin(\\beta_i), t_y= cos(\\beta_i)\n",
    "\\end{array}\n",
    "\\right.\n",
    "\\end{equation}"
   ]
  },
  {
   "cell_type": "markdown",
   "metadata": {},
   "source": [
    "So we can derive:"
   ]
  },
  {
   "cell_type": "markdown",
   "metadata": {},
   "source": [
    "\\begin{equation}\n",
    "\\left\\{\n",
    "\\begin{array}{l}\n",
    "U_n(x,y)=U_{\\infty}\\cos(\\alpha-\\beta_i)+\\frac{1}{2\\pi}\\sum_{j=1}^N \\gamma_j(\\int_{j} f_j(s)ds\\cos(\\beta_i)-\\int_{j} g_j(s)ds\\sin(\\beta_i))-\\frac{1}{2\\pi}\\sum_{j=1}^N \\frac{\\gamma_j}{l_j}(\\int_{j} sf_j(s)ds\\cos(\\beta_i)-\\int_{j} sg_j(s)ds\\sin(\\beta_i))+\\frac{1}{2\\pi}\\sum_{j=1}^N \\frac{\\gamma_{j+1}}{l_j}(\\int_{j} sf_j(s)ds\\cos(\\beta_i)-\\int_{j} sg_j(s)ds\\sin(\\beta_i)) \\\\\n",
    "U_t(x,y)=U_{\\infty}\\sin(\\alpha-\\beta_i)+\\frac{1}{2\\pi}\\sum_{j=1}^N \\gamma_j(\\int_{j} f_j(s)ds(-sin(\\beta_i))-\\int_{j} g_j(s)ds\\cos(\\beta_i))-\\frac{1}{2\\pi}\\sum_{j=1}^N \\frac{\\gamma_j}{l_j}(\\int_{j} sf_j(s)ds(-sin(\\beta_i))-\\int_{j} sg_j(s)ds\\cos(\\beta_i))+\\frac{1}{2\\pi}\\sum_{j=1}^N \\frac{\\gamma_{j+1}}{l_j}(\\int_{j} sf_j(s)ds(-sin(\\beta_i))-\\int_{j} sg_j(s)ds\\cos(\\beta_i))\n",
    "\\end{array}\n",
    "\\right.\n",
    "\\end{equation}"
   ]
  },
  {
   "cell_type": "markdown",
   "metadata": {},
   "source": [
    "\\begin{equation}\n",
    "\\left\\{\n",
    "\\begin{array}{l}\n",
    "f_j(s)=\\frac{(y-\\eta_j(s))}{(x-\\xi_j(s))^2+(y-\\eta_j(s))^2} \\\\\n",
    "g_j(s)=\\frac{(x-\\xi_j(s))}{(x-\\xi_j(s))^2+(y-\\eta_j(s))^2}\n",
    "\\end{array}\n",
    "\\right.\n",
    "\\end{equation}"
   ]
  },
  {
   "cell_type": "code",
   "execution_count": 10,
   "metadata": {
    "collapsed": true
   },
   "outputs": [],
   "source": [
    "def integral_1(x, y, panel, dxdk, dydk):\n",
    "    \"\"\"\n",
    "    Evaluates the contribution from a panel at a given point.\n",
    "    \n",
    "    Parameters\n",
    "    ----------\n",
    "    x: float\n",
    "        x-coordinate of the target point.\n",
    "    y: float\n",
    "        y-coordinate of the target point.\n",
    "    panel: Panel object\n",
    "        Panel whose contribution is evaluated.\n",
    "    dxdk: float\n",
    "        Value of the derivative of x in a certain direction.\n",
    "    dydk: float\n",
    "        Value of the derivative of y in a certain direction.\n",
    "    \n",
    "    Returns\n",
    "    -------\n",
    "    Contribution from the panel at a given point (x, y).\n",
    "    \"\"\"\n",
    "    def integrand(s):\n",
    "        return ( ((x - (panel.xa - numpy.sin(panel.beta)*s))*dxdk\n",
    "                  +(y - (panel.ya + numpy.cos(panel.beta)*s))*dydk)\n",
    "                / ((x - (panel.xa - numpy.sin(panel.beta)*s))**2\n",
    "                   +(y - (panel.ya + numpy.cos(panel.beta)*s))**2) )\n",
    "    return integrate.quad(integrand, 0.0, panel.length)[0]"
   ]
  },
  {
   "cell_type": "code",
   "execution_count": 11,
   "metadata": {
    "collapsed": true
   },
   "outputs": [],
   "source": [
    "def integral_2(x, y, panel, dxdk, dydk):\n",
    "    \"\"\"\n",
    "    Evaluates the contribution from a panel at a given point.\n",
    "    \n",
    "    Parameters\n",
    "    ----------\n",
    "    x: float\n",
    "        x-coordinate of the target point.\n",
    "    y: float\n",
    "        y-coordinate of the target point.\n",
    "    panel: Panel object\n",
    "        Panel whose contribution is evaluated.\n",
    "    dxdk: float\n",
    "        Value of the derivative of x in a certain direction.\n",
    "    dydk: float\n",
    "        Value of the derivative of y in a certain direction.\n",
    "    \n",
    "    Returns\n",
    "    -------\n",
    "    Contribution from the panel at a given point (x, y).\n",
    "    \"\"\"\n",
    "    def integrand(s):\n",
    "        return (s* ((x - (panel.xa - numpy.sin(panel.beta)*s))*dxdk\n",
    "                  +(y - (panel.ya + numpy.cos(panel.beta)*s))*dydk)\n",
    "                / ((x - (panel.xa - numpy.sin(panel.beta)*s))**2\n",
    "                   +(y - (panel.ya + numpy.cos(panel.beta)*s))**2) )\n",
    "    return integrate.quad(integrand, 0.0, panel.length)[0]"
   ]
  },
  {
   "cell_type": "code",
   "execution_count": 12,
   "metadata": {
    "collapsed": false
   },
   "outputs": [],
   "source": [
    "def vortex_normal_1(panels):\n",
    "    \"\"\"\n",
    "    Builds the vortex contribution matrix for the normal velocity.\n",
    "    \n",
    "    Parameters\n",
    "    ----------\n",
    "    panels: 1D array of Panel objects\n",
    "        List of panels.\n",
    "    \n",
    "    Returns\n",
    "    -------\n",
    "    A1: 2D Numpy array of floats\n",
    "        The first part vortex contribution matrix.\n",
    "    A2: 2D Numpy array of floats\n",
    "        The second part vortex contribution matrix.\n",
    "    A3: 2D Numpy array of floats\n",
    "        The third part vortex contribution matrix.\n",
    "    \"\"\"\n",
    "    N = len(panels)\n",
    "    A1 = numpy.empty((N, N), dtype=float)  \n",
    "    numpy.fill_diagonal(A1, 0.)  \n",
    "    \n",
    "\n",
    "    for i, p_i in enumerate(panels):\n",
    "        for j, p_j in enumerate(panels):                \n",
    "            if i != j:\n",
    "                A1[i,j] = 0.5/numpy.pi*(integral_1(p_i.xc, p_i.yc, p_j, -numpy.sin(p_i.beta),numpy.cos(p_i.beta)))\n",
    "                         \n",
    "    return A1"
   ]
  },
  {
   "cell_type": "code",
   "execution_count": 13,
   "metadata": {
    "collapsed": true
   },
   "outputs": [],
   "source": [
    "def vortex_normal_2(panels):\n",
    "    \"\"\"\n",
    "    Builds the vortex contribution matrix for the normal velocity.\n",
    "    \n",
    "    Parameters\n",
    "    ----------\n",
    "    panels: 1D array of Panel objects\n",
    "        List of panels.\n",
    "    \n",
    "    Returns\n",
    "    -------\n",
    "    A1: 2D Numpy array of floats\n",
    "        The first part vortex contribution matrix.\n",
    "    A2: 2D Numpy array of floats\n",
    "        The second part vortex contribution matrix.\n",
    "    A3: 2D Numpy array of floats\n",
    "        The third part vortex contribution matrix.\n",
    "    \"\"\"\n",
    "    N = len(panels)\n",
    "    A2 = numpy.empty((N, N), dtype=float)          \n",
    "    numpy.fill_diagonal(A2, -0.5/numpy.pi) \n",
    "    for i, p_i in enumerate(panels):\n",
    "        for j, p_j in enumerate(panels):    \n",
    "            if i != j:\n",
    "                A2[i,j] = (0.5/numpy.pi)*(1./p_j.length)*(integral_2(p_i.xc, p_i.yc, p_j, -numpy.sin(p_i.beta),numpy.cos(p_i.beta)))\n",
    "                         \n",
    "    return A2"
   ]
  },
  {
   "cell_type": "code",
   "execution_count": 14,
   "metadata": {
    "collapsed": true
   },
   "outputs": [],
   "source": [
    "def vortex_normal_3(panels, A2):\n",
    "    \"\"\"\n",
    "    Builds the vortex contribution matrix for the normal velocity.\n",
    "    \n",
    "    Parameters\n",
    "    ----------\n",
    "    panels: 1D array of Panel objects\n",
    "        List of panels.\n",
    "    \n",
    "    Returns\n",
    "    -------\n",
    "    A1: 2D Numpy array of floats\n",
    "        The first part vortex contribution matrix.\n",
    "    A2: 2D Numpy array of floats\n",
    "        The second part vortex contribution matrix.\n",
    "    A3: 2D Numpy array of floats\n",
    "        The third part vortex contribution matrix.\n",
    "    \"\"\"\n",
    "    N = len(panels)\n",
    "    A3 = A2\n",
    "                         \n",
    "    return A3"
   ]
  },
  {
   "cell_type": "code",
   "execution_count": 15,
   "metadata": {
    "collapsed": false
   },
   "outputs": [],
   "source": [
    "#Let's call this functions to create A1,A2,A3.\n",
    "A1 = vortex_normal_1(panels)\n",
    "A2 = vortex_normal_2(panels)\n",
    "A3 = vortex_normal_3(panels,A2)"
   ]
  },
  {
   "cell_type": "code",
   "execution_count": 16,
   "metadata": {
    "collapsed": true
   },
   "outputs": [],
   "source": [
    "def A_normal(panels,A1,A2,A3):\n",
    "    \"\"\"Builds the normal matrix\n",
    "    \n",
    "    Arguments\n",
    "    ---------\n",
    "    panels: panels of the geometry\n",
    "    A1: term related to the first integral in U_n\n",
    "    A2: term related to the second integral in U_n\n",
    "    A3: term related to the third integral in U_n\n",
    "    \n",
    "    Returns\n",
    "    -------\n",
    "    A_n: Nx(N+1) matrix, where N is number of panels. \n",
    "    \n",
    "    \"\"\"\n",
    "    N = len(panels)\n",
    "    A_n = numpy.zeros((N, N+1), dtype=float) \n",
    "    \n",
    "    for i in range(N):\n",
    "        \n",
    "        A_n[i,0] = A1[i,0] - A2[i,0]\n",
    "        A_n[i,-1] = A3[i,-1]\n",
    "        \n",
    "        for j in range(N-1):\n",
    "            \n",
    "            A_n[i,j+1] = A1[i,j+1] - A2[i,j+1] + A3[i,j]\n",
    "    \n",
    "    return A_n"
   ]
  },
  {
   "cell_type": "markdown",
   "metadata": {},
   "source": [
    "# Kutta condition"
   ]
  },
  {
   "cell_type": "markdown",
   "metadata": {},
   "source": [
    "In this case, the Kutta condition must meet: $\\gamma_0+\\gamma_N=0$"
   ]
  },
  {
   "cell_type": "code",
   "execution_count": 17,
   "metadata": {
    "collapsed": true
   },
   "outputs": [],
   "source": [
    "#Kutta condition\n",
    "\n",
    "def kutta_array(N):\n",
    "    \"\"\"Builds the kutta array.\n",
    "    \n",
    "    Arguments\n",
    "    ---------\n",
    "    N: number of panels\n",
    "    \n",
    "    Returns\n",
    "    -------\n",
    "    k_a -- 1D array ((N+1)x1, N is the number of panels). kutta array\n",
    "    \"\"\"\n",
    "    k_a = numpy.zeros(N+1,dtype=float)\n",
    "\n",
    "    k_a[0] = 1.\n",
    "    k_a[-1] = 1.\n",
    "    \n",
    "    return k_a"
   ]
  },
  {
   "cell_type": "markdown",
   "metadata": {},
   "source": [
    "# Build the matrix"
   ]
  },
  {
   "cell_type": "markdown",
   "metadata": {},
   "source": [
    "Here, we build and solve the linear system of equations of the form\n",
    "\n",
    "$$[A][\\gamma] = [b]$$"
   ]
  },
  {
   "cell_type": "code",
   "execution_count": 18,
   "metadata": {
    "collapsed": true
   },
   "outputs": [],
   "source": [
    "def build_matrix(A_n, k_a, N):\n",
    "    \"\"\"Builds the A matrix to solve the linear system.\n",
    "    \n",
    "    Arguments\n",
    "    ---------\n",
    "    panels: array of panels.\n",
    "    A_n: Nx(N+1) matrix (N is the number of panels).\n",
    "    k_a -- 1D array ((N+1)x1, N is the number of panels).\n",
    "    Returns\n",
    "    -------\n",
    "    A_solve: (N+1)x(N+1) matrix (N is the number of panels).\n",
    "    \"\"\"\n",
    "\n",
    "    #Matrix A_solve (N+1)x(N+1)\n",
    "\n",
    "    A_solve = numpy.empty((N+1, N+1), dtype=float)\n",
    "    \n",
    "    A_solve[0:N,:] = A_n[:,:]\n",
    "    A_solve[-1,:] = k_a[:]\n",
    "\n",
    "    return A_solve\n"
   ]
  },
  {
   "cell_type": "code",
   "execution_count": 19,
   "metadata": {
    "collapsed": true
   },
   "outputs": [],
   "source": [
    "def build_rhs(panels, freestream):\n",
    "    \"\"\"Builds the RHS of the linear system.\n",
    "    \n",
    "    Arguments\n",
    "    ---------\n",
    "    panels: array of panels.\n",
    "    freestream: farfield conditions.\n",
    "    \n",
    "    Returns\n",
    "    -------\n",
    "    b: 1D array ((N+1)x1, N is the number of panels).\n",
    "    \"\"\"\n",
    "    N = len(panels)\n",
    "    b = numpy.empty(N+1,dtype=float)\n",
    "    \n",
    "    for i, panel in enumerate(panels):\n",
    "        b[i] = -freestream.u_inf * numpy.cos(freestream.alpha - panel.beta)\n",
    "    b[-1] = 0.\n",
    "    \n",
    "    return b"
   ]
  },
  {
   "cell_type": "code",
   "execution_count": 20,
   "metadata": {
    "collapsed": false
   },
   "outputs": [],
   "source": [
    "N=len(panels)\n",
    "A_n =A_normal(panels,A1,A2,A3)\n",
    "k_a = kutta_array(N)\n",
    "\n",
    "# compute the matrix\n",
    "A = build_matrix(A_n, k_a, N)\n",
    "\n",
    "# compute the freestream RHS\n",
    "b = build_rhs(panels, freestream)"
   ]
  },
  {
   "cell_type": "code",
   "execution_count": 21,
   "metadata": {
    "collapsed": false
   },
   "outputs": [],
   "source": [
    "# solves the linear system\n",
    "gammas = linalg.solve(A, b)"
   ]
  },
  {
   "cell_type": "markdown",
   "metadata": {},
   "source": [
    "# Surface pressure coefficient"
   ]
  },
  {
   "cell_type": "markdown",
   "metadata": {},
   "source": [
    "From Bernoulli's equation, the pressure coefficient is:"
   ]
  },
  {
   "cell_type": "markdown",
   "metadata": {},
   "source": [
    "\\begin{equation}C_{p} = 1-\\left(\\frac{v_{t}}{U_\\infty}\\right)^2\n",
    "\\end{equation}"
   ]
  },
  {
   "cell_type": "code",
   "execution_count": 22,
   "metadata": {
    "collapsed": true
   },
   "outputs": [],
   "source": [
    "def vortex_tangential_1(panels):\n",
    "    \n",
    "    \"\"\"\n",
    "    Computes the tangential surface velocity.\n",
    "    \n",
    "    Parameters\n",
    "    ----------\n",
    "    panels: 1D array of Panel objects\n",
    "        List of panels.\n",
    "    freestream: Freestream object\n",
    "        Freestream conditions.\n",
    "    gamma: float\n",
    "        Circulation density.\n",
    "    B1: 2D Numpy array of floats\n",
    "        The first part contribution matrix\n",
    "    B2: 2D Numpy array of floats\n",
    "        The second part contribution matrix\n",
    "    B3: 2D Numpy array of floats\n",
    "        The third part contribution matrix\n",
    "    \"\"\"\n",
    "\n",
    "    N = len(panels)\n",
    "    B1 = numpy.empty((N, N), dtype=float)          \n",
    "    numpy.fill_diagonal(B1, -0.5)\n",
    "\n",
    "    for i, p_i in enumerate(panels):\n",
    "        for j, p_j in enumerate(panels):                \n",
    "            if i != j:\n",
    "                B1[i,j] = 0.5/numpy.pi*(integral_1(p_i.xc, p_i.yc, p_j,-numpy.cos(p_i.beta), -numpy.sin(p_i.beta)))\n",
    "                         \n",
    "    return B1"
   ]
  },
  {
   "cell_type": "code",
   "execution_count": 23,
   "metadata": {
    "collapsed": true
   },
   "outputs": [],
   "source": [
    "def vortex_tangential_2(panels):\n",
    "    \n",
    "    \"\"\"\n",
    "    Computes the tangential surface velocity.\n",
    "    \n",
    "    Parameters\n",
    "    ----------\n",
    "    panels: 1D array of Panel objects\n",
    "        List of panels.\n",
    "    freestream: Freestream object\n",
    "        Freestream conditions.\n",
    "    gamma: float\n",
    "        Circulation density.\n",
    "    B1: 2D Numpy array of floats\n",
    "        The first part contribution matrix\n",
    "    B2: 2D Numpy array of floats\n",
    "        The second part contribution matrix\n",
    "    B3: 2D Numpy array of floats\n",
    "        The third part contribution matrix\n",
    "    \"\"\"\n",
    "    N = len(panels)\n",
    "    B2 = numpy.empty((N, N), dtype=float)          \n",
    "    numpy.fill_diagonal(B2, -0.25)\n",
    "\n",
    "    for i, p_i in enumerate(panels):\n",
    "        for j, p_j in enumerate(panels):                \n",
    "            if i != j:\n",
    "                B2[i,j] = 0.5/numpy.pi*(1./p_j.length)*(integral_2(p_i.xc, p_i.yc, p_j,-numpy.cos(p_i.beta), -numpy.sin(p_i.beta)))\n",
    "                        \n",
    "    return B2"
   ]
  },
  {
   "cell_type": "code",
   "execution_count": 24,
   "metadata": {
    "collapsed": true
   },
   "outputs": [],
   "source": [
    "def vortex_tangential_3(panels, B2):\n",
    "   \n",
    "    \"\"\"\n",
    "    Computes the tangential surface velocity.\n",
    "    \n",
    "    Parameters\n",
    "    ----------\n",
    "    panels: 1D array of Panel objects\n",
    "        List of panels.\n",
    "    freestream: Freestream object\n",
    "        Freestream conditions.\n",
    "    gamma: float\n",
    "        Circulation density.\n",
    "    B1: 2D Numpy array of floats\n",
    "        The first part contribution matrix\n",
    "    B2: 2D Numpy array of floats\n",
    "        The second part contribution matrix\n",
    "    B3: 2D Numpy array of floats\n",
    "        The third part contribution matrix\n",
    "    \"\"\"\n",
    "    N = len(panels)\n",
    "    B3 = B2\n",
    "                         \n",
    "    return B3"
   ]
  },
  {
   "cell_type": "code",
   "execution_count": 25,
   "metadata": {
    "collapsed": false
   },
   "outputs": [],
   "source": [
    "#Let's call this functions to create B1,B2,B3.\n",
    "B1 = vortex_tangential_1(panels)\n",
    "B2 = vortex_tangential_2(panels)\n",
    "B3 = vortex_tangential_3(panels,B2)"
   ]
  },
  {
   "cell_type": "code",
   "execution_count": 26,
   "metadata": {
    "collapsed": true
   },
   "outputs": [],
   "source": [
    "def A_tangential(panels,B1,B2,B3):\n",
    "    \"\"\"Builds the tangential matrix\n",
    "    \n",
    "    Arguments\n",
    "    ---------\n",
    "    panels: panels of the geometry\n",
    "    B1: term related to the first integral in U_t\n",
    "    B2: term related to the second integral in U_t\n",
    "    B3: term related to the third integral in U_t\n",
    "    \n",
    "    Returns\n",
    "    -------\n",
    "    A_t: Nx(N+1) matrix, where N is number of panels. \n",
    "    \"\"\"\n",
    "    N = len(panels)\n",
    "    A_t = numpy.zeros((N, N+1), dtype=float) \n",
    "    \n",
    "    for i in range(N):\n",
    "        \n",
    "        A_t[i,0] = B1[i,0] - B2[i,0]\n",
    "        A_t[i,-1] = B3[i,-1]\n",
    "        \n",
    "        for j in range(N-1):\n",
    "            \n",
    "            A_t[i,j+1] = B1[i,j+1] - B2[i,j+1] + B3[i,j]\n",
    "    \n",
    "    return A_t"
   ]
  },
  {
   "cell_type": "code",
   "execution_count": 27,
   "metadata": {
    "collapsed": true
   },
   "outputs": [],
   "source": [
    "A_t = A_tangential(panels,B1,B2,B3)\n",
    "b_t = freestream.u_inf * numpy.sin([freestream.alpha - panel.beta for panel in panels])\n",
    "\n",
    "v_t = numpy.dot(A_t, gammas) + b_t\n",
    "for i, panel in enumerate(panels):\n",
    "        panel.vt = v_t[i]"
   ]
  },
  {
   "cell_type": "code",
   "execution_count": 28,
   "metadata": {
    "collapsed": true
   },
   "outputs": [],
   "source": [
    "def get_pressure_coefficient(panels, freestream):\n",
    "    \"\"\"\n",
    "    Computes the surface pressure coefficients.\n",
    "    \n",
    "    Parameters\n",
    "    ----------\n",
    "    panels: 1D array of Panel objects\n",
    "        List of panels.\n",
    "    freestream: Freestream object\n",
    "        Freestream conditions.\n",
    "    \"\"\"\n",
    "    for panel in panels:\n",
    "        panel.cp = 1.0 - (panel.vt/freestream.u_inf)**2"
   ]
  },
  {
   "cell_type": "code",
   "execution_count": 29,
   "metadata": {
    "collapsed": true
   },
   "outputs": [],
   "source": [
    "# surface pressure coefficient\n",
    "get_pressure_coefficient(panels, freestream)"
   ]
  },
  {
   "cell_type": "markdown",
   "metadata": {},
   "source": [
    "# Theoretical solution"
   ]
  },
  {
   "cell_type": "code",
   "execution_count": 30,
   "metadata": {
    "collapsed": false
   },
   "outputs": [
    {
     "name": "stdout",
     "output_type": "stream",
     "text": [
      "[ 0.     0.64   1.01   1.241  1.378  1.402  1.411  1.411  1.399  1.378\n",
      "  1.35   1.288  1.228  1.166  1.109  1.044  0.956  0.906  0.   ]\n"
     ]
    }
   ],
   "source": [
    "voverVsquared=numpy.array([0, 0.64, 1.01, 1.241, 1.378, 1.402, 1.411, 1.411, 1.399, 1.378, 1.35, 1.288, 1.228, 1.166, 1.109, 1.044, 0.956, 0.906, 0])\n",
    "print(voverVsquared)"
   ]
  },
  {
   "cell_type": "code",
   "execution_count": 31,
   "metadata": {
    "collapsed": false
   },
   "outputs": [
    {
     "name": "stdout",
     "output_type": "stream",
     "text": [
      "[ 0.      0.005   0.0125  0.025   0.05    0.075   0.1     0.15    0.2     0.25\n",
      "  0.3     0.4     0.5     0.6     0.7     0.8     0.9     0.95    1.    ]\n"
     ]
    }
   ],
   "source": [
    "xtheo=numpy.array([0, 0.5, 1.25, 2.5, 5.0, 7.5, 10, 15, 20, 25, 30, 40, 50, 60, 70, 80, 90, 95, 100])\n",
    "xtheo = xtheo/100\n",
    "print(xtheo)"
   ]
  },
  {
   "cell_type": "code",
   "execution_count": 32,
   "metadata": {
    "collapsed": false
   },
   "outputs": [
    {
     "data": {
      "image/png": "[encoded data removed]",
      "text/plain": [
       "<matplotlib.figure.Figure at 0x7f7cee7b77b8>"
      ]
     },
     "metadata": {},
     "output_type": "display_data"
    }
   ],
   "source": [
    "# plot the surface pressure coefficient\n",
    "pyplot.figure(figsize=(10, 6))\n",
    "pyplot.grid()\n",
    "pyplot.xlabel('x', fontsize=16)\n",
    "pyplot.ylabel('$C_p$', fontsize=16)\n",
    "pyplot.plot([panel.xc for panel in panels if panel.loc == 'upper'],\n",
    "            [panel.cp for panel in panels if panel.loc == 'upper'],\n",
    "            label='upper',\n",
    "            color='r', linewidth=1, marker='x', markersize=8)\n",
    "pyplot.plot([panel.xc for panel in panels if panel.loc == 'lower'],\n",
    "            [panel.cp for panel in panels if panel.loc == 'lower'],\n",
    "            label='lower',\n",
    "            color='b', linewidth=0, marker='d', markersize=6)\n",
    "pyplot.plot(xtheo, 1-voverVsquared,\n",
    "            label='theoretical',\n",
    "            color='k', linestyle='--',linewidth=2)\n",
    "pyplot.legend(loc='best', prop={'size':14})\n",
    "pyplot.xlim(-0.1, 1.1)\n",
    "pyplot.ylim(1.0, -0.6)\n",
    "pyplot.title('Number of panels : %d' % N);"
   ]
  },
  {
   "cell_type": "markdown",
   "metadata": {},
   "source": [
    "Well, the only place where the panel method doesn't quite match with the theoretical data is at the trailing edge. But note that the flow-tangency boundary condition in the panel method is applied at the control point of the panel (not at the endpoints), so this discrepancy is not surprising."
   ]
  },
  {
   "cell_type": "markdown",
   "metadata": {},
   "source": [
    "# Part 2: Angle of attack: 10"
   ]
  },
  {
   "cell_type": "code",
   "execution_count": 33,
   "metadata": {
    "collapsed": true
   },
   "outputs": [],
   "source": [
    "u_inf = 1.0                                 # freestream speed\n",
    "alpha = 10.0                                # angle of attack (in degrees)\n",
    "freestream_1 = Freestream(u_inf, alpha)      # instantiation of the object freestream"
   ]
  },
  {
   "cell_type": "code",
   "execution_count": 34,
   "metadata": {
    "collapsed": true
   },
   "outputs": [],
   "source": [
    "b_1 = build_rhs(panels, freestream_1)\n",
    "gammas_1 = linalg.solve(A, b_1)\n",
    "b_t_1 = freestream.u_inf * numpy.sin([freestream_1.alpha - panel.beta for panel in panels])\n",
    "v_t_1 = numpy.dot(A_t, gammas_1) + b_t_1\n",
    "for i, panel in enumerate(panels):\n",
    "        panel.vt = v_t_1[i]\n",
    "get_pressure_coefficient(panels, freestream_1)"
   ]
  },
  {
   "cell_type": "markdown",
   "metadata": {},
   "source": [
    "We next load the experimental data for the coefficient of pressure of the upper face when the angle of attack is 10 degrees."
   ]
  },
  {
   "cell_type": "code",
   "execution_count": 35,
   "metadata": {
    "collapsed": false
   },
   "outputs": [],
   "source": [
    "x_exp , Cp_exp = numpy.loadtxt('CP_Gregory_expdata.dat', dtype=float, delimiter=' ', unpack=True)"
   ]
  },
  {
   "cell_type": "markdown",
   "metadata": {},
   "source": [
    "Time to plot the result!"
   ]
  },
  {
   "cell_type": "code",
   "execution_count": 36,
   "metadata": {
    "collapsed": false
   },
   "outputs": [
    {
     "data": {
      "image/png": "[encoded data removed]",
      "text/plain": [
       "<matplotlib.figure.Figure at 0x7f7cedca5978>"
      ]
     },
     "metadata": {},
     "output_type": "display_data"
    }
   ],
   "source": [
    "# plot surface pressure coefficient\n",
    "pyplot.figure(figsize=(10, 6))\n",
    "pyplot.grid()\n",
    "pyplot.xlabel('$x$', fontsize=16)\n",
    "pyplot.ylabel('$C_p$', fontsize=16)\n",
    "pyplot.plot([panel.xc for panel in panels if panel.loc == 'upper'],\n",
    "            [panel.cp for panel in panels if panel.loc == 'upper'],\n",
    "            label='upper surface',\n",
    "            color='r', linestyle='-', linewidth=2, marker='o', markersize=6)\n",
    "pyplot.plot([panel.xc for panel in panels if panel.loc == 'lower'],\n",
    "            [panel.cp for panel in panels if panel.loc == 'lower'],\n",
    "            label= 'lower surface',\n",
    "            color='b', linestyle='-', linewidth=1, marker='o', markersize=6)\n",
    "\n",
    "pyplot.plot(x_exp,Cp_exp,color='g', linewidth=0, marker='D', markersize=8, markeredgecolor='g',\n",
    "markerfacecolor='None', markeredgewidth=1.5)\n",
    "pyplot.xlim(-0.1, 1.1)\n",
    "pyplot.ylim(-6.0, 2.0)\n",
    "pyplot.legend(['upper', 'lower', 'exp_data (upper)'], loc='best', prop={'size':14})\n",
    "pyplot.gca().invert_yaxis()\n",
    "pyplot.title('Angle of attack: 10. Number of panels : %d' % N, fontsize=16);"
   ]
  },
  {
   "cell_type": "markdown",
   "metadata": {},
   "source": [
    "Well, the pressure coefficient match well with the experimental data of the upper surface."
   ]
  },
  {
   "cell_type": "markdown",
   "metadata": {},
   "source": [
    "# Part 3: Percentage error"
   ]
  },
  {
   "cell_type": "markdown",
   "metadata": {},
   "source": [
    "When the angle of attack is 10 degrees, the experimental data of lift is 1.2219. By using this data and the percentage error, we can see how our model behaves."
   ]
  },
  {
   "cell_type": "code",
   "execution_count": 37,
   "metadata": {
    "collapsed": true
   },
   "outputs": [],
   "source": [
    "def get_lift(freestream, Np):\n",
    "    \"\"\"\n",
    "    Get the lift coefficient for a number of panels Np\n",
    "    \"\"\"\n",
    "    #define panels\n",
    "    panels = define_panels(Np)\n",
    "    \n",
    "    #coefficients to build A\n",
    "    A1 = vortex_normal_1(panels)\n",
    "    A2 = vortex_normal_2(panels)\n",
    "    A3 = vortex_normal_3(panels,A2)\n",
    "    \n",
    "    #To build A\n",
    "    A_n =A_normal(panels,A1,A2,A3)\n",
    "    k_a = kutta_array(Np)\n",
    "\n",
    "    #Putting all together to get A\n",
    "    A = build_matrix(A_n, k_a, Np)\n",
    "\n",
    "    #RHS\n",
    "    b = build_rhs(panels, freestream)\n",
    "\n",
    "    # solves the linear system\n",
    "    gammas = linalg.solve(A, b)\n",
    "    \n",
    "    #Coefficients to get A_tangential.\n",
    "    B1 = vortex_tangential_1(panels)\n",
    "    B2 = vortex_tangential_2(panels)\n",
    "    B3 = vortex_tangential_3(panels,B2)\n",
    "    \n",
    "    #A_tangential\n",
    "    A_t = A_tangential(panels,B1,B2,B3)\n",
    "    \n",
    "    #The vector associated with the free-stream for U_t\n",
    "    b_t = freestream.u_inf * numpy.sin([freestream.alpha - panel.beta for panel in panels])\n",
    "\n",
    "    #Get tangential velocity\n",
    "    v_t = numpy.dot(A_t, gammas) + b_t\n",
    "    \n",
    "    for i, panel in enumerate(panels):\n",
    "        panel.vt = v_t[i]\n",
    "    \n",
    "    #Get Cp\n",
    "    get_pressure_coefficient(panels, freestream)\n",
    "    \n",
    "    L = 0.\n",
    "    for panel in panels:\n",
    "        L -= panel.cp*panel.length*numpy.sin(panel.beta)\n",
    "    \n",
    "    return L"
   ]
  },
  {
   "cell_type": "code",
   "execution_count": 38,
   "metadata": {
    "collapsed": false
   },
   "outputs": [
    {
     "name": "stderr",
     "output_type": "stream",
     "text": [
      "/home/gil/anaconda3/lib/python3.5/site-packages/ipykernel/__main__.py:33: VisibleDeprecationWarning: using a non-integer number instead of an integer will result in an error in the future\n",
      "/home/gil/anaconda3/lib/python3.5/site-packages/ipykernel/__main__.py:34: VisibleDeprecationWarning: using a non-integer number instead of an integer will result in an error in the future\n"
     ]
    }
   ],
   "source": [
    "L_np=[]\n",
    "Np_list=[20,40,60,80,100,120,140,160,180,200]\n",
    "for i in Np_list:\n",
    "    L_np.append(get_lift(freestream_1, i))"
   ]
  },
  {
   "cell_type": "code",
   "execution_count": 39,
   "metadata": {
    "collapsed": true
   },
   "outputs": [],
   "source": [
    "L_exp = 1.2219\n",
    "#percentage error\n",
    "per_err = []\n",
    "for i in L_np:\n",
    "    per_err.append(100*numpy.abs(L_exp - i)/L_exp)"
   ]
  },
  {
   "cell_type": "code",
   "execution_count": 40,
   "metadata": {
    "collapsed": false
   },
   "outputs": [
    {
     "data": {
      "image/png": "[encoded data removed]",
      "text/plain": [
       "<matplotlib.figure.Figure at 0x7f7cedf9afd0>"
      ]
     },
     "metadata": {},
     "output_type": "display_data"
    }
   ],
   "source": [
    "#Plotting\n",
    "pyplot.figure(figsize=(10, 6))\n",
    "pyplot.grid(True)\n",
    "pyplot.xlabel('Np', fontsize=16)\n",
    "pyplot.ylabel('percentage error $\\%$', fontsize=16)\n",
    "pyplot.xlim(10, 200)\n",
    "pyplot.ylim(0, 10)\n",
    "pyplot.xticks(numpy.linspace(10, 200, 20)) \n",
    "pyplot.yticks(numpy.linspace(1, 10, 10))\n",
    "pyplot.plot(Np_list, per_err,color='r', linewidth=0, marker='o', markersize=6);"
   ]
  },
  {
   "cell_type": "markdown",
   "metadata": {
    "collapsed": false
   },
   "source": [
    "Therefore, when the Np is increasing, the percentage error will be decreasing. So, this is a good method to solve a problem when Np is big enough."
   ]
  },
  {
   "cell_type": "markdown",
   "metadata": {},
   "source": [
    "# Conclusions"
   ]
  },
  {
   "cell_type": "markdown",
   "metadata": {},
   "source": [
    "From part 1 we can see that the coefficient of pressure matches well with the theoretical one, excluding the trailing edge. But flow-tangency boundary condition is not applied at endpoints, so this discrepancy is not surprising.  "
   ]
  },
  {
   "cell_type": "markdown",
   "metadata": {},
   "source": [
    "In addition, the purpouse of using vortices as our singularities is to get some lift and see how our model behaves. From part 2, when the angle of attack is 10 degrees, our results of upper surface seem to match the experimental data. "
   ]
  },
  {
   "cell_type": "markdown",
   "metadata": {},
   "source": [
    "In part 3, we calculate the value of the lift coefficients for different number of panels and compare it with the value of the experimental data. Therefore, we can see how the error behaves for different number of panels. When the number of panels increases, the percentage of error decreases."
   ]
  },
  {
   "cell_type": "markdown",
   "metadata": {},
   "source": [
    "# References"
   ]
  },
  {
   "cell_type": "markdown",
   "metadata": {
    "collapsed": true
   },
   "source": [
    "1. Katz, J. & Plotkin, A. Low speed aerodynamics. 1947.\n",
    "2. https://turbmodels.larc.nasa.gov/naca0012_val.html\n",
    "3. https://en.wikipedia.org/wiki/NACA_airfoil"
   ]
  }
 ],
 "metadata": {
  "anaconda-cloud": {},
  "kernelspec": {
   "display_name": "Python [conda root]",
   "language": "python",
   "name": "conda-root-py"
  },
  "language_info": {
   "codemirror_mode": {
    "name": "ipython",
    "version": 3
   },
   "file_extension": ".py",
   "mimetype": "text/x-python",
   "name": "python",
   "nbconvert_exporter": "python",
   "pygments_lexer": "ipython3",
   "version": "3.5.2"
  }
 },
 "nbformat": 4,
 "nbformat_minor": 1
}
