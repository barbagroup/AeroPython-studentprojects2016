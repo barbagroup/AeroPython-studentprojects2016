{
 "cells": [
  {
   "cell_type": "code",
   "execution_count": 16,
   "metadata": {
    "collapsed": true
   },
   "outputs": [],
   "source": [
    "%matplotlib inline\n",
    "import math\n",
    "import matplotlib.pyplot as pyplot\n",
    "import numpy as np"
   ]
  },
  {
   "cell_type": "code",
   "execution_count": 17,
   "metadata": {
    "collapsed": true
   },
   "outputs": [],
   "source": [
    "def camber_line( x, m, p, c ):\n",
    "    return np.where((x>=0)&(x<=(c*p)),\n",
    "                    m * (x / np.power(p,2)) * (2.0 * p - (x / c)),\n",
    "                    m * ((c - x) / np.power(1-p,2)) * (1.0 + (x / c) - 2.0 * p ))\n",
    "\n",
    "def dyc_over_dx( x, m, p, c ):\n",
    "    return np.where((x>=0)&(x<=(c*p)),\n",
    "                    ((2.0 * m) / np.power(p,2)) * (p - x / c),\n",
    "                    ((2.0 * m ) / np.power(1-p,2)) * (p - x / c ))\n",
    "\n",
    "def thickness( x, t, c ):\n",
    "    term1 =  0.2969 * (np.sqrt(x/c))\n",
    "    term2 = -0.1260 * (x/c)\n",
    "    term3 = -0.3516 * np.power(x/c,2)\n",
    "    term4 =  0.2843 * np.power(x/c,3)\n",
    "    term5 = -0.1015 * np.power(x/c,4)\n",
    "    return 5 * t * c * (term1 + term2 + term3 + term4 + term5)\n",
    "\n",
    "def naca4(x, m, p, t, c=1):\n",
    "    dyc_dx = dyc_over_dx(x, m, p, c)\n",
    "    th = np.arctan(dyc_dx)\n",
    "    yt = thickness(x, t, c)\n",
    "    yc = camber_line(x, m, p, c)  \n",
    "    return ((x - yt*np.sin(th), yc + yt*np.cos(th)), \n",
    "            (x + yt*np.sin(th), yc - yt*np.cos(th)))\n"
   ]
  },
  {
   "cell_type": "code",
   "execution_count": 49,
   "metadata": {
    "collapsed": false
   },
   "outputs": [
    {
     "name": "stdout",
     "output_type": "stream",
     "text": [
      "((array([ 0.        ,  0.01776826,  0.03710674,  0.05674978,  0.07656519,\n",
      "        0.09649776,  0.1165168 ,  0.13660249,  0.15674077,  0.17692101,\n",
      "        0.19713481,  0.21737527,  0.23763664,  0.25791399,  0.27820303,\n",
      "        0.29850004,  0.31880168,  0.33910502,  0.3594074 ,  0.37970644,\n",
      "        0.4       ,  0.42012717,  0.44025025,  0.46036854,  0.48048138,\n",
      "        0.50058819,  0.52068841,  0.54078153,  0.5608671 ,  0.58094467,\n",
      "        0.60101383,  0.6210742 ,  0.64112541,  0.66116711,  0.68119896,\n",
      "        0.70122062,  0.72123178,  0.74123209,  0.76122124,  0.78119888,\n",
      "        0.80116468,  0.82111828,  0.84105932,  0.8609874 ,  0.88090212,\n",
      "        0.90080305,  0.92068973,  0.94056169,  0.96041839,  0.9802593 ,\n",
      "        1.00008381]), array([ 0.        ,  0.025442  ,  0.03594729,  0.04378792,  0.05013513,\n",
      "        0.05544655,  0.05996005,  0.06381944,  0.06712052,  0.06993158,\n",
      "        0.07230384,  0.07427725,  0.07588392,  0.07715036,  0.07809886,\n",
      "        0.07874852,  0.0791159 ,  0.07921554,  0.07906032,  0.07866173,\n",
      "        0.07803011,  0.07720312,  0.0762175 ,  0.07508087,  0.07380009,\n",
      "        0.07238143,  0.07083055,  0.06915258,  0.06735215,  0.06543345,\n",
      "        0.06340021,  0.06125574,  0.05900298,  0.05664449,  0.05418245,\n",
      "        0.05161873,  0.04895482,  0.04619192,  0.0433309 ,  0.04037231,\n",
      "        0.03731642,  0.03416319,  0.03091228,  0.02756309,  0.02411472,\n",
      "        0.02056599,  0.01691548,  0.01316145,  0.00930194,  0.00533469,\n",
      "        0.00125721])), (array([ 0.        ,  0.02223174,  0.04289326,  0.06325022,  0.08343481,\n",
      "        0.10350224,  0.1234832 ,  0.14339751,  0.16325923,  0.18307899,\n",
      "        0.20286519,  0.22262473,  0.24236336,  0.26208601,  0.28179697,\n",
      "        0.30149996,  0.32119832,  0.34089498,  0.3605926 ,  0.38029356,\n",
      "        0.4       ,  0.41987283,  0.43974975,  0.45963146,  0.47951862,\n",
      "        0.49941181,  0.51931159,  0.53921847,  0.5591329 ,  0.57905533,\n",
      "        0.59898617,  0.6189258 ,  0.63887459,  0.65883289,  0.67880104,\n",
      "        0.69877938,  0.71876822,  0.73876791,  0.75877876,  0.77880112,\n",
      "        0.79883532,  0.81888172,  0.83894068,  0.8590126 ,  0.87909788,\n",
      "        0.89919695,  0.91931027,  0.93943831,  0.95958161,  0.9797407 ,\n",
      "        0.99991619]), array([ 0.        , -0.021542  , -0.02834729, -0.03268792, -0.03573513,\n",
      "       -0.03794655, -0.03956005, -0.04071944, -0.04152052, -0.04203158,\n",
      "       -0.04230384, -0.04237725, -0.04228392, -0.04205036, -0.04169886,\n",
      "       -0.04124852, -0.0407159 , -0.04011554, -0.03946032, -0.03876173,\n",
      "       -0.03803011, -0.03724756, -0.03639528, -0.03548087, -0.0345112 ,\n",
      "       -0.03349254, -0.03243055, -0.03133035, -0.0301966 , -0.02903345,\n",
      "       -0.02784465, -0.02663352, -0.02540298, -0.0241556 , -0.02289357,\n",
      "       -0.02161873, -0.0203326 , -0.01903637, -0.0177309 , -0.01641676,\n",
      "       -0.0150942 , -0.01376319, -0.01242339, -0.0110742 , -0.00971472,\n",
      "       -0.00834377, -0.00695992, -0.00556145, -0.00414638, -0.00271247,\n",
      "       -0.00125721])))\n"
     ]
    },
    {
     "data": {
      "image/png": "[encoded data removed]",
      "text/plain": [
       "<matplotlib.figure.Figure at 0x7f7206e71668>"
      ]
     },
     "metadata": {},
     "output_type": "display_data"
    }
   ],
   "source": [
    "#naca2212\n",
    "m = 0.02\n",
    "p = 0.2\n",
    "t = 0.12\n",
    "c = 1.0\n",
    "x = np.linspace(0,1,51)\n",
    "yc = naca4(x, m, p, t, c=1) \n",
    "for item in naca4(x, m, p, t, c):\n",
    "    pyplot.plot(item[0], item[1], 'b')\n",
    "\n",
    "pyplot.plot(x, camber_line(x, m, p, c), 'r')\n",
    "pyplot.axis('equal')\n",
    "pyplot.xlim((-0.05, 1.05))\n",
    "print(naca4(x, m, p, t, c))"
   ]
  },
  {
   "cell_type": "code",
   "execution_count": null,
   "metadata": {
    "collapsed": true
   },
   "outputs": [],
   "source": [
    "\n"
   ]
  },
  {
   "cell_type": "code",
   "execution_count": null,
   "metadata": {
    "collapsed": true
   },
   "outputs": [],
   "source": []
  }
 ],
 "metadata": {
  "kernelspec": {
   "display_name": "Python [conda root]",
   "language": "python",
   "name": "conda-root-py"
  },
  "language_info": {
   "codemirror_mode": {
    "name": "ipython",
    "version": 3
   },
   "file_extension": ".py",
   "mimetype": "text/x-python",
   "name": "python",
   "nbconvert_exporter": "python",
   "pygments_lexer": "ipython3",
   "version": "3.5.2"
  }
 },
 "nbformat": 4,
 "nbformat_minor": 1
}
