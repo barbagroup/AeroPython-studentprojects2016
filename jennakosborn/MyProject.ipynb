{
 "cells": [
  {
   "cell_type": "markdown",
   "metadata": {
    "collapsed": true
   },
   "source": [
    "# Vortex Lattice Method: Effect of Aspect Ratio and Wing Shape on Lift\n",
    "\n",
    "*By Jenna Osborn*\n",
    "\n",
    "*MAE 6226 Spring 2017*\n",
    "\n",
    "For this project, my goal was to develop a model that allows someone to quickly assess the wing shape and aspect ratio on the coefficient of lift and drag for a particular style of wing. The only inputs required are...\n",
    "1. Aspect Ratio\n",
    "2. Angle of Attack\n",
    "3. \n",
    "\n",
    "\n",
    "## Background\n",
    "\n",
    "The study of finite wings is critical for the application of potential flow for real-life scenarios. The panel methods we have been using in class have been dealing with an inifinte 2D wing. \n",
    "\n",
    "A method that can be used to assess the lift on a 3D wing shape is the **Vortex Lattice Method** (VLM). The VLM panels the top surface of the wing into square or tetrahedrals. Once the top surface of the wing is panelled. A \"bound\" votex-sheet is placed 1/4 chord of the panel from the leading edge. Then trailing vortices are added to each end of the bound vortex sheet to give the effect of the trailing vortices. This creates a horse shoe vortex effect for a single panel. The circulation strength is assumed to be constant over the horseshoe vortex. \n",
    "\n",
    "Much like the 2D panel method, the circulation strength of the vortex sheet can be solved by a linear equation with the normal velocity components adding up to equal zero. The model below assumes a planar wing (no cambering) and that the wing is thin enough to ignore the the curvature to the cross-sectional airfoil, thus making it a 2D problem. "
   ]
  },
  {
   "cell_type": "code",
   "execution_count": null,
   "metadata": {
    "collapsed": true
   },
   "outputs": [],
   "source": [
    "checking checking"
   ]
  }
 ],
 "metadata": {
  "anaconda-cloud": {},
  "kernelspec": {
   "display_name": "Python 3",
   "language": "python",
   "name": "python3"
  },
  "language_info": {
   "codemirror_mode": {
    "name": "ipython",
    "version": 3
   },
   "file_extension": ".py",
   "mimetype": "text/x-python",
   "name": "python",
   "nbconvert_exporter": "python",
   "pygments_lexer": "ipython3",
   "version": "3.6.0"
  }
 },
 "nbformat": 4,
 "nbformat_minor": 1
}
