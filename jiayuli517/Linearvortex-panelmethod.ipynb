{
 "cells": [
  {
   "cell_type": "markdown",
   "metadata": {
    "collapsed": true
   },
   "source": [
    "# Linear vortex panel method"
   ]
  },
  {
   "cell_type": "markdown",
   "metadata": {},
   "source": [
    "Welcome to the final project! During this semester, I think I really learn a lot from this class. "
   ]
  },
  {
   "cell_type": "markdown",
   "metadata": {},
   "source": [
    "In lesson 11, we know how to solve the problem with constant vortex strength. This time I will make the strength linearly varying."
   ]
  },
  {
   "cell_type": "markdown",
   "metadata": {},
   "source": [
    "# Derivation of the linearly varying vortex panel method"
   ]
  },
  {
   "cell_type": "markdown",
   "metadata": {},
   "source": [
    "Linearly varying vortex strength means:   \n",
    "\\begin{equation}\n",
    "\\begin{split} \\gamma(x)=\\gamma_{0}+\\gamma_1(x-x_1)\n",
    "\\end{split}\n",
    "\\end{equation}"
   ]
  },
  {
   "cell_type": "markdown",
   "metadata": {},
   "source": [
    "$γ_0$ is a constant part, and $γ_1(x-x_1)$ is the slope. By superposition, we can divide it into two parts, the constant part and varying part, and then add them together."
   ]
  },
  {
   "cell_type": "markdown",
   "metadata": {},
   "source": [
    "From lesson 11 we have already learned that the potential at location $(x, y)$ induced by an uniform flow and a vortex sheet can be represented as: "
   ]
  },
  {
   "cell_type": "markdown",
   "metadata": {},
   "source": [
    "\\begin{equation}\n",
    "\\begin{split}\n",
    "\\phi(x, y) \n",
    "&= \\phi_{freestream}(x, y)+ \\phi_{vortex}(x, y)\n",
    "\\end{split}\n",
    "\\end{equation}"
   ]
  },
  {
   "cell_type": "markdown",
   "metadata": {},
   "source": [
    "\\begin{equation}\n",
    "\\begin{split}\n",
    "\\phi(x, y) &= xU_{\\infty}\\cos(\\alpha) + yU_{\\infty}\\sin(\\alpha) &-\n",
    "\\frac{1}{2\\pi} \\int_{sheet} \\gamma(s)\\tan^{-1} (\\frac{y-\\eta(s)}{x-\\xi(s)})ds\n",
    "\\end{split}\n",
    "\\end{equation}"
   ]
  },
  {
   "cell_type": "markdown",
   "metadata": {},
   "source": [
    "$$\n",
    "\\begin{align*}\n",
    "\\phi\\left(x,y\\right) &= xU_{\\infty}\\cos(\\alpha) + yU_{\\infty}\\sin(\\alpha)- \\sum_{j=1}^N \\frac{1}{2\\pi} \\int_j\\gamma_j(s) \\tan^{-1} \\left(\\frac{y-\\eta_j(s)}{x-\\xi_j(s)}\\right) {\\rm d}s_j\n",
    "\\end{align*}\n",
    "$$"
   ]
  },
  {
   "cell_type": "markdown",
   "metadata": {},
   "source": [
    "If we discretize the sheet into $N$ panels, re-write the above equation using discretized integral. Assume $l_j$ represents the length of the panel $j$. And so that\n",
    "\n",
    "\\begin{equation}\n",
    "\\left\\{\n",
    "\\begin{array}{l}\n",
    "\\xi_j(s)=x_j-s\\sin\\beta_j \\\\\n",
    "\\eta_j(s)=y_j+s\\cos\\beta_j\n",
    "\\end{array}\n",
    ",\\ \\ \\ \n",
    "0\\le s \\le l_j\n",
    "\\right.\n",
    "\\end{equation}"
   ]
  },
  {
   "cell_type": "markdown",
   "metadata": {},
   "source": [
    "\\begin{equation}\n",
    "\\begin{split} \\gamma_j(s)=\\gamma_j+(\\frac{\\gamma_{j+1}-\\gamma_j}{l_j})s\n",
    "\\end{split}\n",
    "\\end{equation}"
   ]
  },
  {
   "cell_type": "markdown",
   "metadata": {},
   "source": [
    "$$\n",
    "\\begin{align*}\n",
    "\\phi\\left(x,y\\right) &= xU_{\\infty}\\cos(\\alpha) + yU_{\\infty}\\sin(\\alpha)- \\sum_{j=1}^N \\frac{\\gamma_j}{2\\pi} \\int_j \\tan^{-1} \\left(\\frac{y-\\eta_j(s)}{x-\\xi_j(s)}\\right) {\\rm d}s_j- \\sum_{j=1}^N \\frac{1}{2\\pi}(\\frac{\\gamma_{j+1}-\\gamma_j}{l_j}) \\int_j s\\tan^{-1} \\left(\\frac{y-\\eta_j(s)}{x-\\xi_j(s)}\\right) {\\rm d}s_j\n",
    "\\end{align*}\n",
    "$$"
   ]
  },
  {
   "cell_type": "markdown",
   "metadata": {},
   "source": [
    "# Discretization into panels"
   ]
  },
  {
   "cell_type": "markdown",
   "metadata": {},
   "source": [
    "Let's first import our favorite libraries, and the function integrate and linalg from SciPy, as in Lesson 11."
   ]
  },
  {
   "cell_type": "code",
   "execution_count": 1,
   "metadata": {
    "collapsed": false
   },
   "outputs": [],
   "source": [
    "# import libraries and modules needed\n",
    "import os\n",
    "import math\n",
    "import numpy\n",
    "from scipy import integrate, linalg\n",
    "from matplotlib import pyplot\n",
    "# display the figures in the Notebook\n",
    "%matplotlib inline"
   ]
  },
  {
   "cell_type": "markdown",
   "metadata": {},
   "source": [
    "We start by importing the NACA0012 geometry from a data file:"
   ]
  },
  {
   "cell_type": "code",
   "execution_count": 2,
   "metadata": {
    "collapsed": false
   },
   "outputs": [],
   "source": [
    "# load geometry from data file\n",
    "naca_filepath = os.path.join('naca0012.dat')\n",
    "with open(naca_filepath, 'r') as infile:\n",
    "    x, y = numpy.loadtxt(infile, dtype=float, unpack=True)"
   ]
  },
  {
   "cell_type": "markdown",
   "metadata": {},
   "source": [
    "Then we plot the airfoil:"
   ]
  },
  {
   "cell_type": "code",
   "execution_count": 3,
   "metadata": {
    "collapsed": false
   },
   "outputs": [
    {
     "data": {
      "image/png": "[encoded data removed]",
      "text/plain": [
       "<matplotlib.figure.Figure at 0x7f5f18b5b0f0>"
      ]
     },
     "metadata": {},
     "output_type": "display_data"
    }
   ],
   "source": [
    "# plot the geometry\n",
    "width = 10\n",
    "pyplot.figure(figsize=(width, width))\n",
    "pyplot.grid()\n",
    "pyplot.xlabel('x', fontsize=16)\n",
    "pyplot.ylabel('y', fontsize=16)\n",
    "pyplot.plot(x, y, color='k', linestyle='-', linewidth=2)\n",
    "pyplot.axis('scaled', adjustable='box')\n",
    "pyplot.xlim(-0.1, 1.1)\n",
    "pyplot.ylim(-0.1, 0.1);"
   ]
  },
  {
   "cell_type": "markdown",
   "metadata": {},
   "source": [
    "The contour defining the airfoil will be partitioned into N panels, using the same method as in Lesson 10."
   ]
  },
  {
   "cell_type": "markdown",
   "metadata": {},
   "source": [
    "We define a class Panel that will store all information about one panel: start and end points, center point, length, orientation, tangential velocity and pressure coefficient."
   ]
  },
  {
   "cell_type": "code",
   "execution_count": 4,
   "metadata": {
    "collapsed": true
   },
   "outputs": [],
   "source": [
    "class Panel:\n",
    "    \"\"\"\n",
    "    Contains information related to a panel.\n",
    "    \"\"\"\n",
    "    def __init__(self, xa, ya, xb, yb):\n",
    "        \"\"\"\n",
    "        Initializes the panel.\n",
    "        \n",
    "        Sets the end-points and calculates the center-point, length,\n",
    "        and angle (with the x-axis) of the panel.\n",
    "        Defines if the panel is located on the upper or lower surface of the geometry.\n",
    "        Initializes the tangential velocity, and pressure coefficient\n",
    "        of the panel to zero.\n",
    "        \n",
    "        Parameters\n",
    "        ---------_\n",
    "        xa: float\n",
    "            x-coordinate of the first end-point.\n",
    "        ya: float\n",
    "            y-coordinate of the first end-point.\n",
    "        xb: float\n",
    "            x-coordinate of the second end-point.\n",
    "        yb: float\n",
    "            y-coordinate of the second end-point.\n",
    "        \"\"\"\n",
    "        self.xa, self.ya = xa, ya                       # panel starting-point\n",
    "        self.xb, self.yb = xb, yb                       # panel ending-point\n",
    "        \n",
    "        self.xc, self.yc = (xa+xb)/2, (ya+yb)/2         # panel center\n",
    "        self.length = numpy.sqrt((xb-xa)**2+(yb-ya)**2) # panel length\n",
    "        \n",
    "        # orientation of panel (angle between x-axis and panel's normal)\n",
    "        if xb-xa <= 0.0:\n",
    "            self.beta = numpy.arccos((yb-ya)/self.length)\n",
    "        elif xb-xa > 0.0:\n",
    "            self.beta = numpy.pi + numpy.arccos(-(yb-ya)/self.length)\n",
    "        \n",
    "        # panel location\n",
    "        if self.beta <= numpy.pi:\n",
    "            self.loc = 'upper'                          # upper surface\n",
    "        else:\n",
    "            self.loc = 'lower'                          # lower surface\n",
    "        \n",
    "        \n",
    "        self.vt = 0.0                                   # tangential velocity\n",
    "        self.cp = 0.0                                   # pressure coefficient"
   ]
  },
  {
   "cell_type": "markdown",
   "metadata": {},
   "source": [
    "Like before, we call the function define_panels to discretize the airfoil geometry in N panels. The function will return a NumPy array of N objects of the type Panel."
   ]
  },
  {
   "cell_type": "code",
   "execution_count": 5,
   "metadata": {
    "collapsed": true
   },
   "outputs": [],
   "source": [
    "def define_panels(x, y, N):\n",
    "    \"\"\"\n",
    "    Discretizes the geometry into panels using 'cosine' method.\n",
    "    \n",
    "    Parameters\n",
    "    ----------\n",
    "    x: 1D array of floats\n",
    "        x-coordinate of the points defining the geometry.\n",
    "    y: 1D array of floats\n",
    "        y-coordinate of the points defining the geometry.\n",
    "    N: integer, optional\n",
    "        Number of panels;\n",
    "        \n",
    "    \n",
    "    Returns\n",
    "    -------\n",
    "    panels: 1D Numpy array of Panel objects.\n",
    "        The list of panels.\n",
    "    \"\"\"\n",
    "    \n",
    "    R = (x.max()-x.min())/2.0        # circle radius\n",
    "    x_center = (x.max()+x.min())/2.0 # x-coordinate of circle center\n",
    "    \n",
    "    theta = numpy.linspace(0.0, 2.0*numpy.pi, N+1) # array of angles\n",
    "    x_circle = x_center +  R*numpy.cos(theta)      # x-coordinates of circle\n",
    "    \n",
    "    x_ends = numpy.copy(x_circle)     # x-coordinate of panels end-points\n",
    "    y_ends = numpy.empty_like(x_ends) # y-coordinate of panels end-points\n",
    "    \n",
    "    # extend coordinates to consider closed surface\n",
    "    x, y = numpy.append(x, x[0]), numpy.append(y, y[0])\n",
    "    \n",
    "    # compute y-coordinate of end-points by projection\n",
    "    I = 0\n",
    "    for i in range(N):\n",
    "        while I < len(x)-1:\n",
    "            if (x[I] <= x_ends[i] <= x[I+1]) or (x[I+1] <= x_ends[i] <= x[I]):\n",
    "                break\n",
    "            else:\n",
    "                I += 1\n",
    "        a = (y[I+1]-y[I])/(x[I+1]-x[I])\n",
    "        b = y[I+1] - a*x[I+1]\n",
    "        y_ends[i] = a*x_ends[i] + b\n",
    "    y_ends[N] = y_ends[0]\n",
    "    \n",
    "    # create panels\n",
    "    panels = numpy.empty(N, dtype=object)\n",
    "    for i in range(N):\n",
    "        panels[i] = Panel(x_ends[i], y_ends[i], x_ends[i+1], y_ends[i+1])\n",
    "    \n",
    "    return panels"
   ]
  },
  {
   "cell_type": "markdown",
   "metadata": {},
   "source": [
    "Now we can use the new function to define the geometry for the airfoil panels, and then plot the panel nodes on the geometry."
   ]
  },
  {
   "cell_type": "code",
   "execution_count": 6,
   "metadata": {
    "collapsed": false
   },
   "outputs": [],
   "source": [
    "# discretize geoemetry into panels\n",
    "N = 100                            # number of panels\n",
    "panels = define_panels(x, y, N)   # discretizes of the geometry into panels"
   ]
  },
  {
   "cell_type": "code",
   "execution_count": 7,
   "metadata": {
    "collapsed": false
   },
   "outputs": [
    {
     "data": {
      "image/png": "[encoded data removed]",
      "text/plain": [
       "<matplotlib.figure.Figure at 0x7f5f177f9b38>"
      ]
     },
     "metadata": {},
     "output_type": "display_data"
    }
   ],
   "source": [
    "# plot discretized geometry\n",
    "width = 10\n",
    "pyplot.figure(figsize=(width, width))\n",
    "pyplot.grid()\n",
    "pyplot.xlabel('x', fontsize=16)\n",
    "pyplot.ylabel('y', fontsize=16)\n",
    "pyplot.plot(x, y, color='k', linestyle='-', linewidth=2)\n",
    "pyplot.plot(numpy.append([panel.xa for panel in panels], panels[0].xa),\n",
    "            numpy.append([panel.ya for panel in panels], panels[0].ya),\n",
    "            linestyle='-', linewidth=1, marker='o', markersize=6, color='#CD2305')\n",
    "pyplot.axis('scaled', adjustable='box')\n",
    "pyplot.xlim(-0.1, 1.1)\n",
    "pyplot.ylim(-0.1, 0.1);"
   ]
  },
  {
   "cell_type": "markdown",
   "metadata": {},
   "source": [
    "# Freestream Condition"
   ]
  },
  {
   "cell_type": "markdown",
   "metadata": {},
   "source": [
    "The airfoil is immersed in a freestream $(U_\\infty$,$\\alpha)$ where $U_\\infty$ and $\\alpha$ are the velocity magnitude and angle of attack, respectively. "
   ]
  },
  {
   "cell_type": "code",
   "execution_count": 8,
   "metadata": {
    "collapsed": true
   },
   "outputs": [],
   "source": [
    "class Freestream:\n",
    "    \"\"\"\n",
    "    Freestream conditions.\n",
    "    \"\"\"\n",
    "    def __init__(self, u_inf, alpha):\n",
    "        \"\"\"\n",
    "        Sets the freestream speed and angle (in degrees).\n",
    "        \n",
    "        Parameters\n",
    "        ----------\n",
    "        u_inf: float, optional\n",
    "            Freestream speed;\n",
    "            \n",
    "        alpha: float, optional\n",
    "            Angle of attack in degrees;\n",
    "            \n",
    "        \"\"\"\n",
    "        self.u_inf = u_inf\n",
    "        self.alpha = alpha*numpy.pi/180.0 # degrees to radians"
   ]
  },
  {
   "cell_type": "code",
   "execution_count": 9,
   "metadata": {
    "collapsed": true
   },
   "outputs": [],
   "source": [
    "# define freestream conditions\n",
    "u_inf = 1.0                                # freestream speed\n",
    "alpha = 0.0                                # angle of attack (in degrees)\n",
    "freestream = Freestream(u_inf, alpha)      # instantiation of the object freestream"
   ]
  },
  {
   "cell_type": "markdown",
   "metadata": {},
   "source": [
    "# Flow tangency boundary condition"
   ]
  },
  {
   "cell_type": "markdown",
   "metadata": {},
   "source": [
    "From lesson 11 we have already learned:"
   ]
  },
  {
   "cell_type": "markdown",
   "metadata": {},
   "source": [
    "\\begin{equation}\n",
    "\\left\\{\n",
    "\\begin{array}{l}\n",
    "U_n(x, y)=\\frac{\\partial \\phi}{\\partial x}(x, y) n_x(x, y)+\\frac{\\partial \\phi}{\\partial y}(x, y) n_y(x, y) \\\\\n",
    "U_t(x, y)=\\frac{\\partial \\phi}{\\partial x}(x, y) t_x(x, y)+\\frac{\\partial \\phi}{\\partial y}(x, y) t_y(x, y)\n",
    "\\end{array}\n",
    "\\right.\n",
    "\\end{equation}"
   ]
  },
  {
   "cell_type": "markdown",
   "metadata": {},
   "source": [
    "\\begin{equation}\n",
    "\\left\\{\n",
    "\\begin{array}{l}\n",
    "n_x= cos(\\beta_i), n_y= sin(\\beta_i) \\\\\n",
    "t_x= -sin(\\beta_i), t_y= cos(\\beta_i)\n",
    "\\end{array}\n",
    "\\right.\n",
    "\\end{equation}"
   ]
  },
  {
   "cell_type": "markdown",
   "metadata": {},
   "source": [
    "So we can derive:"
   ]
  },
  {
   "cell_type": "markdown",
   "metadata": {},
   "source": [
    "\\begin{equation}\n",
    "\\left\\{\n",
    "\\begin{array}{l}\n",
    "U_n(x,y)=U_{\\infty}\\cos(\\alpha-\\beta_i)+\\frac{1}{2\\pi}\\sum_{j=1}^N \\gamma_j(\\int_{j} f_j(s)ds\\cos(\\beta_i)-\\int_{j} g_j(s)ds\\sin(\\beta_i))-\\frac{1}{2\\pi}\\sum_{j=1}^N \\frac{\\gamma_j}{l_j}(\\int_{j} sf_j(s)ds\\cos(\\beta_i)-\\int_{j} sg_j(s)ds\\sin(\\beta_i))+\\frac{1}{2\\pi}\\sum_{j=1}^N \\frac{\\gamma_{j+1}}{l_j}(\\int_{j} sf_j(s)ds\\cos(\\beta_i)-\\int_{j} sg_j(s)ds\\sin(\\beta_i)) \\\\\n",
    "U_t(x,y)=U_{\\infty}\\sin(\\alpha-\\beta_i)+\\frac{1}{2\\pi}\\sum_{j=1}^N \\gamma_j(\\int_{j} f_j(s)ds(-sin(\\beta_i))-\\int_{j} g_j(s)ds\\cos(\\beta_i))-\\frac{1}{2\\pi}\\sum_{j=1}^N \\frac{\\gamma_j}{l_j}(\\int_{j} sf_j(s)ds(-sin(\\beta_i))-\\int_{j} sg_j(s)ds\\cos(\\beta_i))+\\frac{1}{2\\pi}\\sum_{j=1}^N \\frac{\\gamma_{j+1}}{l_j}(\\int_{j} sf_j(s)ds(-sin(\\beta_i))-\\int_{j} sg_j(s)ds\\cos(\\beta_i))\n",
    "\\end{array}\n",
    "\\right.\n",
    "\\end{equation}"
   ]
  },
  {
   "cell_type": "markdown",
   "metadata": {},
   "source": [
    "\\begin{equation}\n",
    "\\left\\{\n",
    "\\begin{array}{l}\n",
    "f_j(s)=\\frac{(y-\\eta_j(s))}{(x-\\xi_j(s))^2+(y-\\eta_j(s))^2} \\\\\n",
    "g_j(s)=\\frac{(x-\\xi_j(s))}{(x-\\xi_j(s))^2+(y-\\eta_j(s))^2}\n",
    "\\end{array}\n",
    "\\right.\n",
    "\\end{equation}"
   ]
  },
  {
   "cell_type": "code",
   "execution_count": 10,
   "metadata": {
    "collapsed": true
   },
   "outputs": [],
   "source": [
    "def integral_1(x, y, panel, dxdk, dydk):\n",
    "    \"\"\"\n",
    "    Evaluates the contribution from a panel at a given point.\n",
    "    \n",
    "    Parameters\n",
    "    ----------\n",
    "    x: float\n",
    "        x-coordinate of the target point.\n",
    "    y: float\n",
    "        y-coordinate of the target point.\n",
    "    panel: Panel object\n",
    "        Panel whose contribution is evaluated.\n",
    "    dxdk: float\n",
    "        Value of the derivative of x in a certain direction.\n",
    "    dydk: float\n",
    "        Value of the derivative of y in a certain direction.\n",
    "    \n",
    "    Returns\n",
    "    -------\n",
    "    Contribution from the panel at a given point (x, y).\n",
    "    \"\"\"\n",
    "    def integrand(s):\n",
    "        return ( ((x - (panel.xa - numpy.sin(panel.beta)*s))*dxdk\n",
    "                  +(y - (panel.ya + numpy.cos(panel.beta)*s))*dydk)\n",
    "                / ((x - (panel.xa - numpy.sin(panel.beta)*s))**2\n",
    "                   +(y - (panel.ya + numpy.cos(panel.beta)*s))**2) )\n",
    "    return integrate.quad(integrand, 0.0, panel.length)[0]"
   ]
  },
  {
   "cell_type": "code",
   "execution_count": 11,
   "metadata": {
    "collapsed": true
   },
   "outputs": [],
   "source": [
    "def integral_2(x, y, panel, dxdk, dydk):\n",
    "    \"\"\"\n",
    "    Evaluates the contribution from a panel at a given point.\n",
    "    \n",
    "    Parameters\n",
    "    ----------\n",
    "    x: float\n",
    "        x-coordinate of the target point.\n",
    "    y: float\n",
    "        y-coordinate of the target point.\n",
    "    panel: Panel object\n",
    "        Panel whose contribution is evaluated.\n",
    "    dxdk: float\n",
    "        Value of the derivative of x in a certain direction.\n",
    "    dydk: float\n",
    "        Value of the derivative of y in a certain direction.\n",
    "    \n",
    "    Returns\n",
    "    -------\n",
    "    Contribution from the panel at a given point (x, y).\n",
    "    \"\"\"\n",
    "    def integrand(s):\n",
    "        return (s* ((x - (panel.xa - numpy.sin(panel.beta)*s))*dxdk\n",
    "                  +(y - (panel.ya + numpy.cos(panel.beta)*s))*dydk)\n",
    "                / ((x - (panel.xa - numpy.sin(panel.beta)*s))**2\n",
    "                   +(y - (panel.ya + numpy.cos(panel.beta)*s))**2) )\n",
    "    return integrate.quad(integrand, 0.0, panel.length)[0]"
   ]
  },
  {
   "cell_type": "code",
   "execution_count": 12,
   "metadata": {
    "collapsed": false
   },
   "outputs": [],
   "source": [
    "def vortex_normal_1(panels):\n",
    "    \"\"\"\n",
    "    Builds the vortex contribution matrix for the normal velocity.\n",
    "    \n",
    "    Parameters\n",
    "    ----------\n",
    "    panels: 1D array of Panel objects\n",
    "        List of panels.\n",
    "    \n",
    "    Returns\n",
    "    -------\n",
    "    A: 2D Numpy array of floats\n",
    "        Vortex contribution matrix.\n",
    "    \"\"\"\n",
    "    N = len(panels)\n",
    "    A1 = numpy.empty((N, N), dtype=float)  \n",
    "    # vortex contribution on a panel from itself\n",
    "    numpy.fill_diagonal(A1, 0.)  \n",
    "    # vortex contribution on a panel from others\n",
    "\n",
    "    for i, p_i in enumerate(panels):\n",
    "        for j, p_j in enumerate(panels):                \n",
    "            if i != j:\n",
    "                A1[i,j] = 0.5/numpy.pi*(integral_1(p_i.xc, p_i.yc, p_j, -numpy.sin(p_i.beta),numpy.cos(p_i.beta)))\n",
    "                         \n",
    "    return A1"
   ]
  },
  {
   "cell_type": "code",
   "execution_count": 13,
   "metadata": {
    "collapsed": true
   },
   "outputs": [],
   "source": [
    "def vortex_normal_2(panels):\n",
    "    N = len(panels)\n",
    "    A2 = numpy.empty((N, N), dtype=float)          \n",
    "    numpy.fill_diagonal(A2, -0.5/numpy.pi)  #value of I_2\n",
    "    for i, p_i in enumerate(panels):\n",
    "        for j, p_j in enumerate(panels):    \n",
    "            if i != j:\n",
    "                A2[i,j] = (0.5/numpy.pi)*(1./p_j.length)*(integral_2(p_i.xc, p_i.yc, p_j, -numpy.sin(p_i.beta),numpy.cos(p_i.beta)))\n",
    "                         \n",
    "    return A2"
   ]
  },
  {
   "cell_type": "code",
   "execution_count": 14,
   "metadata": {
    "collapsed": true
   },
   "outputs": [],
   "source": [
    "def vortex_normal_3(panels, A2):\n",
    "    N = len(panels)\n",
    "    A3 = A2\n",
    "                         \n",
    "    return A3"
   ]
  },
  {
   "cell_type": "code",
   "execution_count": 15,
   "metadata": {
    "collapsed": false
   },
   "outputs": [],
   "source": [
    "#Let's call this functions to get A1,A2,A3.\n",
    "\n",
    "A1 = vortex_normal_1(panels)\n",
    "A2 = vortex_normal_2(panels)\n",
    "A3 = vortex_normal_3(panels,A2)"
   ]
  },
  {
   "cell_type": "markdown",
   "metadata": {},
   "source": [
    "# Build the matrix"
   ]
  },
  {
   "cell_type": "markdown",
   "metadata": {},
   "source": [
    "Here, we build and solve the linear system of equations of the form\n",
    "\n",
    "$$[A][\\gamma] = [b]$$"
   ]
  },
  {
   "cell_type": "markdown",
   "metadata": {},
   "source": [
    "When $j=0$, only A1 and A2 exist"
   ]
  },
  {
   "cell_type": "markdown",
   "metadata": {},
   "source": [
    "When $0<j<N$, A1,A2,A3 exist"
   ]
  },
  {
   "cell_type": "markdown",
   "metadata": {},
   "source": [
    "When $j=N$, only A3 exists"
   ]
  },
  {
   "cell_type": "code",
   "execution_count": 16,
   "metadata": {
    "collapsed": true
   },
   "outputs": [],
   "source": [
    "def A_normal(panels,A1,A2,A3):\n",
    "    \"\"\"Builds the normal matrix\n",
    "    \n",
    "    Arguments\n",
    "    ---------\n",
    "    panels: panels of the geometry\n",
    "    A1: term related to the first integral in U_n\n",
    "    A2: term related to the second integral in U_n\n",
    "    A3: term related to the third integral in U_n\n",
    "    \n",
    "    Returns\n",
    "    -------\n",
    "    A_n: Nx(N+1) matrix, where N is number of panels. \n",
    "    \n",
    "    \"\"\"\n",
    "    N = len(panels)\n",
    "    A_n = numpy.zeros((N, N+1), dtype=float) \n",
    "    \n",
    "    for i in range(N):\n",
    "        \n",
    "        A_n[i,0] = A1[i,0] - A2[i,0]\n",
    "        A_n[i,-1] = A3[i,-1]\n",
    "        \n",
    "        for j in range(N-1):\n",
    "            \n",
    "            A_n[i,j+1] = A1[i,j+1] - A2[i,j+1] + A3[i,j]\n",
    "    \n",
    "    return A_n"
   ]
  },
  {
   "cell_type": "markdown",
   "metadata": {},
   "source": [
    "# Kutta condition"
   ]
  },
  {
   "cell_type": "markdown",
   "metadata": {},
   "source": [
    "Our matrix have $N+1$ columns. We need an extra row.\n",
    "In this case, the Kutta condition must meet: $\\gamma_0+\\gamma_N=0$"
   ]
  },
  {
   "cell_type": "code",
   "execution_count": 17,
   "metadata": {
    "collapsed": true
   },
   "outputs": [],
   "source": [
    "#Kutta condition\n",
    "\n",
    "def kutta_array(N):\n",
    "    \"\"\"Builds the kutta array.\n",
    "    \n",
    "    Arguments\n",
    "    ---------\n",
    "    N: number of panels\n",
    "    \n",
    "    Returns\n",
    "    -------\n",
    "    k_a -- 1D array ((N+1)x1, N is the number of panels). kutta array\n",
    "    \"\"\"\n",
    "    k_a = numpy.zeros(N+1,dtype=float)\n",
    "\n",
    "    k_a[0] = 1.\n",
    "    k_a[-1] = 1.\n",
    "    \n",
    "    return k_a"
   ]
  },
  {
   "cell_type": "code",
   "execution_count": 18,
   "metadata": {
    "collapsed": true
   },
   "outputs": [],
   "source": [
    "def build_matrix(A_n, k_a, N):\n",
    "    \"\"\"Builds the A matrix to solve the linear system.\n",
    "    \n",
    "    Arguments\n",
    "    ---------\n",
    "    panels: array of panels.\n",
    "    A_n: Nx(N+1) matrix (N is the number of panels).\n",
    "    k_a -- 1D array ((N+1)x1, N is the number of panels).\n",
    "    Returns\n",
    "    -------\n",
    "    A_solve: (N+1)x(N+1) matrix (N is the number of panels).\n",
    "    \"\"\"\n",
    "\n",
    "    #Matrix A_solve (N+1)x(N+1)\n",
    "\n",
    "    A_solve = numpy.empty((N+1, N+1), dtype=float)\n",
    "    \n",
    "    A_solve[0:N,:] = A_n[:,:]\n",
    "    A_solve[-1,:] = k_a[:]\n",
    "\n",
    "    return A_solve\n"
   ]
  },
  {
   "cell_type": "code",
   "execution_count": 19,
   "metadata": {
    "collapsed": true
   },
   "outputs": [],
   "source": [
    "def build_rhs(panels, freestream):\n",
    "    \"\"\"Builds the RHS of the linear system.\n",
    "    \n",
    "    Arguments\n",
    "    ---------\n",
    "    panels: array of panels.\n",
    "    freestream: farfield conditions.\n",
    "    \n",
    "    Returns\n",
    "    -------\n",
    "    b: 1D array ((N+1)x1, N is the number of panels).\n",
    "    \"\"\"\n",
    "    N = len(panels)\n",
    "    b = numpy.empty(N+1,dtype=float)\n",
    "    \n",
    "    for i, panel in enumerate(panels):\n",
    "        b[i] = -freestream.u_inf * numpy.cos(freestream.alpha - panel.beta)\n",
    "    b[-1] = 0.\n",
    "    \n",
    "    return b"
   ]
  },
  {
   "cell_type": "code",
   "execution_count": 20,
   "metadata": {
    "collapsed": false
   },
   "outputs": [],
   "source": [
    "N=len(panels)\n",
    "#To build A\n",
    "A_n =A_normal(panels,A1,A2,A3)\n",
    "k_a = kutta_array(N)\n",
    "\n",
    "#Putting all together to get A\n",
    "A = build_matrix(A_n, k_a, N)\n",
    "\n",
    "#RHS\n",
    "b = build_rhs(panels, freestream)"
   ]
  },
  {
   "cell_type": "code",
   "execution_count": 21,
   "metadata": {
    "collapsed": false
   },
   "outputs": [],
   "source": [
    "# solves the linear system\n",
    "gammas = linalg.solve(A, b)"
   ]
  },
  {
   "cell_type": "markdown",
   "metadata": {},
   "source": [
    "# Surface pressure coefficient"
   ]
  },
  {
   "cell_type": "code",
   "execution_count": 22,
   "metadata": {
    "collapsed": true
   },
   "outputs": [],
   "source": [
    "def vortex_tangential_1(panels):\n",
    "    \n",
    "    \"\"\"\n",
    "    Build matrix coefficients associated with the first\n",
    "    integral in U_t ---> (B_1)\n",
    "    \"\"\"\n",
    "\n",
    "    N = len(panels)\n",
    "    B1 = numpy.empty((N, N), dtype=float)          \n",
    "    numpy.fill_diagonal(B1, -0.5)\n",
    "\n",
    "    for i, p_i in enumerate(panels):\n",
    "        for j, p_j in enumerate(panels):                \n",
    "            if i != j:\n",
    "                B1[i,j] = 0.5/numpy.pi*(integral_1(p_i.xc, p_i.yc, p_j,-numpy.cos(p_i.beta), -numpy.sin(p_i.beta)))\n",
    "                         \n",
    "    return B1"
   ]
  },
  {
   "cell_type": "code",
   "execution_count": 23,
   "metadata": {
    "collapsed": true
   },
   "outputs": [],
   "source": [
    "def vortex_tangential_2(panels):\n",
    "    \"\"\"\n",
    "    Build matrix coefficients associated with the first\n",
    "    integral in U_t ---> (B_2)\n",
    "    \"\"\"\n",
    "    N = len(panels)\n",
    "    B2 = numpy.empty((N, N), dtype=float)          \n",
    "    numpy.fill_diagonal(B2, -0.25)\n",
    "\n",
    "    for i, p_i in enumerate(panels):\n",
    "        for j, p_j in enumerate(panels):                \n",
    "            if i != j:\n",
    "                B2[i,j] = 0.5/numpy.pi*(1./p_j.length)*(integral_2(p_i.xc, p_i.yc, p_j,-numpy.cos(p_i.beta), -numpy.sin(p_i.beta)))\n",
    "                        \n",
    "    return B2"
   ]
  },
  {
   "cell_type": "code",
   "execution_count": 24,
   "metadata": {
    "collapsed": true
   },
   "outputs": [],
   "source": [
    "def vortex_tangential_3(panels, B2):\n",
    "    \"\"\"\n",
    "    Build matrix coefficients associated with the first\n",
    "    integral in U_t ---> (B_3)\n",
    "    \"\"\"\n",
    "    N = len(panels)\n",
    "    B3 = B2\n",
    "                         \n",
    "    return B3"
   ]
  },
  {
   "cell_type": "code",
   "execution_count": 25,
   "metadata": {
    "collapsed": false
   },
   "outputs": [],
   "source": [
    "#Let's call this functions to get B1,B2,B3.\n",
    "B1 = vortex_tangential_1(panels)\n",
    "B2 = vortex_tangential_2(panels)\n",
    "B3 = vortex_tangential_3(panels,B2)"
   ]
  },
  {
   "cell_type": "code",
   "execution_count": 26,
   "metadata": {
    "collapsed": true
   },
   "outputs": [],
   "source": [
    "def A_tangential(panels,B1,B2,B3):\n",
    "    \"\"\"Builds the tangential matrix\n",
    "    \n",
    "    Arguments\n",
    "    ---------\n",
    "    panels: panels of the geometry\n",
    "    B1: term related to the first integral in U_t\n",
    "    B2: term related to the second integral in U_t\n",
    "    B3: term related to the third integral in U_t\n",
    "    \n",
    "    Returns\n",
    "    -------\n",
    "    A_t: Nx(N+1) matrix, where N is number of panels. \n",
    "    \"\"\"\n",
    "    N = len(panels)\n",
    "    A_t = numpy.zeros((N, N+1), dtype=float) \n",
    "    \n",
    "    for i in range(N):\n",
    "        \n",
    "        A_t[i,0] = B1[i,0] - B2[i,0]\n",
    "        A_t[i,-1] = B3[i,-1]\n",
    "        \n",
    "        for j in range(N-1):\n",
    "            \n",
    "            A_t[i,j+1] = B1[i,j+1] - B2[i,j+1] + B3[i,j]\n",
    "    \n",
    "    return A_t"
   ]
  },
  {
   "cell_type": "code",
   "execution_count": 27,
   "metadata": {
    "collapsed": true
   },
   "outputs": [],
   "source": [
    "A_t = A_tangential(panels,B1,B2,B3)"
   ]
  },
  {
   "cell_type": "code",
   "execution_count": 28,
   "metadata": {
    "collapsed": true
   },
   "outputs": [],
   "source": [
    "#The vector associated with the free-stream for U_t\n",
    "\n",
    "b_t = freestream.u_inf * numpy.sin([freestream.alpha - panel.beta for panel in panels])"
   ]
  },
  {
   "cell_type": "code",
   "execution_count": 29,
   "metadata": {
    "collapsed": true
   },
   "outputs": [],
   "source": [
    "U_t = numpy.dot(A_t, gammas) + b_t"
   ]
  },
  {
   "cell_type": "code",
   "execution_count": 30,
   "metadata": {
    "collapsed": true
   },
   "outputs": [],
   "source": [
    "for i, panel in enumerate(panels):\n",
    "        panel.vt = U_t[i]"
   ]
  },
  {
   "cell_type": "code",
   "execution_count": 31,
   "metadata": {
    "collapsed": true
   },
   "outputs": [],
   "source": [
    "def get_pressure_coefficient(panels, freestream):\n",
    "    \"\"\"Computes the surface pressure coefficients.\n",
    "    \n",
    "    Arguments\n",
    "    ---------\n",
    "    panels: array of panels.\n",
    "    freestream: farfield conditions.\n",
    "    \"\"\"\n",
    "    for panel in panels:\n",
    "        panel.cp = 1.0 - (panel.vt/freestream.u_inf)**2"
   ]
  },
  {
   "cell_type": "code",
   "execution_count": 32,
   "metadata": {
    "collapsed": true
   },
   "outputs": [],
   "source": [
    "get_pressure_coefficient(panels, freestream)"
   ]
  },
  {
   "cell_type": "code",
   "execution_count": 33,
   "metadata": {
    "collapsed": false
   },
   "outputs": [
    {
     "name": "stdout",
     "output_type": "stream",
     "text": [
      "[ 0.     0.64   1.01   1.241  1.378  1.402  1.411  1.411  1.399  1.378\n",
      "  1.35   1.288  1.228  1.166  1.109  1.044  0.956  0.906  0.   ]\n"
     ]
    }
   ],
   "source": [
    "voverVsquared=numpy.array([0, 0.64, 1.01, 1.241, 1.378, 1.402, 1.411, 1.411, 1.399, 1.378, 1.35, 1.288, 1.228, 1.166, 1.109, 1.044, 0.956, 0.906, 0])\n",
    "print(voverVsquared)"
   ]
  },
  {
   "cell_type": "code",
   "execution_count": 34,
   "metadata": {
    "collapsed": false
   },
   "outputs": [
    {
     "name": "stdout",
     "output_type": "stream",
     "text": [
      "[ 0.      0.005   0.0125  0.025   0.05    0.075   0.1     0.15    0.2     0.25\n",
      "  0.3     0.4     0.5     0.6     0.7     0.8     0.9     0.95    1.    ]\n"
     ]
    }
   ],
   "source": [
    "xtheo=numpy.array([0, 0.5, 1.25, 2.5, 5.0, 7.5, 10, 15, 20, 25, 30, 40, 50, 60, 70, 80, 90, 95, 100])\n",
    "xtheo = xtheo/100\n",
    "print(xtheo)"
   ]
  },
  {
   "cell_type": "code",
   "execution_count": 35,
   "metadata": {
    "collapsed": false
   },
   "outputs": [
    {
     "data": {
      "image/png": "[encoded data removed]",
      "text/plain": [
       "<matplotlib.figure.Figure at 0x7f5f180f9f98>"
      ]
     },
     "metadata": {},
     "output_type": "display_data"
    }
   ],
   "source": [
    "# plot the surface pressure coefficient\n",
    "pyplot.figure(figsize=(10, 6))\n",
    "pyplot.grid()\n",
    "pyplot.xlabel('x', fontsize=16)\n",
    "pyplot.ylabel('$C_p$', fontsize=16)\n",
    "pyplot.plot([panel.xc for panel in panels if panel.loc == 'upper'],\n",
    "            [panel.cp for panel in panels if panel.loc == 'upper'],\n",
    "            label='upper',\n",
    "            color='r', linewidth=1, marker='x', markersize=8)\n",
    "pyplot.plot([panel.xc for panel in panels if panel.loc == 'lower'],\n",
    "            [panel.cp for panel in panels if panel.loc == 'lower'],\n",
    "            label='lower',\n",
    "            color='b', linewidth=0, marker='d', markersize=6)\n",
    "pyplot.plot(xtheo, 1-voverVsquared,\n",
    "            label='theoretical',\n",
    "            color='k', linestyle='--',linewidth=2)\n",
    "pyplot.legend(loc='best', prop={'size':14})\n",
    "pyplot.xlim(-0.1, 0.99)\n",
    "pyplot.ylim(1.0, -0.6)\n",
    "pyplot.title('Number of panels : %d' % N);"
   ]
  },
  {
   "cell_type": "code",
   "execution_count": 36,
   "metadata": {
    "collapsed": true
   },
   "outputs": [],
   "source": [
    "# defines and creates the object freestream\n",
    "u_inf = 1.0                                # freestream speed\n",
    "alpha = 10.0                                # angle of attack (in degrees)\n",
    "freestream_10 = Freestream(u_inf, alpha)      # instantiation of the object freestream"
   ]
  },
  {
   "cell_type": "code",
   "execution_count": 37,
   "metadata": {
    "collapsed": true
   },
   "outputs": [],
   "source": [
    "b_10 = build_rhs(panels, freestream_10)"
   ]
  },
  {
   "cell_type": "code",
   "execution_count": 38,
   "metadata": {
    "collapsed": true
   },
   "outputs": [],
   "source": [
    "gammas_10 = linalg.solve(A, b_10)"
   ]
  },
  {
   "cell_type": "code",
   "execution_count": 39,
   "metadata": {
    "collapsed": true
   },
   "outputs": [],
   "source": [
    "#The vector associated with the free-stream for U_t\n",
    "\n",
    "b_t_10 = freestream.u_inf * numpy.sin([freestream_10.alpha - panel.beta for panel in panels])"
   ]
  },
  {
   "cell_type": "code",
   "execution_count": 40,
   "metadata": {
    "collapsed": true
   },
   "outputs": [],
   "source": [
    "#Getting the tangential velocity\n",
    "U_t_10 = numpy.dot(A_t, gammas_10) + b_t_10"
   ]
  },
  {
   "cell_type": "code",
   "execution_count": 41,
   "metadata": {
    "collapsed": true
   },
   "outputs": [],
   "source": [
    "for i, panel in enumerate(panels):\n",
    "        panel.vt = U_t_10[i]"
   ]
  },
  {
   "cell_type": "code",
   "execution_count": 42,
   "metadata": {
    "collapsed": true
   },
   "outputs": [],
   "source": [
    "get_pressure_coefficient(panels, freestream_10)"
   ]
  },
  {
   "cell_type": "code",
   "execution_count": 50,
   "metadata": {
    "collapsed": false
   },
   "outputs": [
    {
     "ename": "ValueError",
     "evalue": "could not convert string to float: b'variables=\"x/c\",\"cp\"'",
     "output_type": "error",
     "traceback": [
      "\u001b[0;31m---------------------------------------------------------------------------\u001b[0m",
      "\u001b[0;31mValueError\u001b[0m                                Traceback (most recent call last)",
      "\u001b[0;32m<ipython-input-50-b092cd0d81f4>\u001b[0m in \u001b[0;36m<module>\u001b[0;34m()\u001b[0m\n\u001b[0;32m----> 1\u001b[0;31m \u001b[0mx_exp\u001b[0m \u001b[0;34m,\u001b[0m \u001b[0mCp_exp\u001b[0m \u001b[0;34m=\u001b[0m \u001b[0mnumpy\u001b[0m\u001b[0;34m.\u001b[0m\u001b[0mloadtxt\u001b[0m\u001b[0;34m(\u001b[0m\u001b[0;34m'CP_Gregory_expdata.dat'\u001b[0m\u001b[0;34m,\u001b[0m \u001b[0mdtype\u001b[0m\u001b[0;34m=\u001b[0m\u001b[0mfloat\u001b[0m\u001b[0;34m,\u001b[0m \u001b[0mdelimiter\u001b[0m\u001b[0;34m=\u001b[0m\u001b[0;34m' '\u001b[0m\u001b[0;34m,\u001b[0m \u001b[0munpack\u001b[0m\u001b[0;34m=\u001b[0m\u001b[0;32mTrue\u001b[0m\u001b[0;34m)\u001b[0m\u001b[0;34m\u001b[0m\u001b[0m\n\u001b[0m",
      "\u001b[0;32m/home/gil/anaconda3/lib/python3.5/site-packages/numpy/lib/npyio.py\u001b[0m in \u001b[0;36mloadtxt\u001b[0;34m(fname, dtype, comments, delimiter, converters, skiprows, usecols, unpack, ndmin)\u001b[0m\n\u001b[1;32m    928\u001b[0m \u001b[0;34m\u001b[0m\u001b[0m\n\u001b[1;32m    929\u001b[0m             \u001b[0;31m# Convert each value according to its column and store\u001b[0m\u001b[0;34m\u001b[0m\u001b[0;34m\u001b[0m\u001b[0m\n\u001b[0;32m--> 930\u001b[0;31m             \u001b[0mitems\u001b[0m \u001b[0;34m=\u001b[0m \u001b[0;34m[\u001b[0m\u001b[0mconv\u001b[0m\u001b[0;34m(\u001b[0m\u001b[0mval\u001b[0m\u001b[0;34m)\u001b[0m \u001b[0;32mfor\u001b[0m \u001b[0;34m(\u001b[0m\u001b[0mconv\u001b[0m\u001b[0;34m,\u001b[0m \u001b[0mval\u001b[0m\u001b[0;34m)\u001b[0m \u001b[0;32min\u001b[0m \u001b[0mzip\u001b[0m\u001b[0;34m(\u001b[0m\u001b[0mconverters\u001b[0m\u001b[0;34m,\u001b[0m \u001b[0mvals\u001b[0m\u001b[0;34m)\u001b[0m\u001b[0;34m]\u001b[0m\u001b[0;34m\u001b[0m\u001b[0m\n\u001b[0m\u001b[1;32m    931\u001b[0m             \u001b[0;31m# Then pack it according to the dtype's nesting\u001b[0m\u001b[0;34m\u001b[0m\u001b[0;34m\u001b[0m\u001b[0m\n\u001b[1;32m    932\u001b[0m             \u001b[0mitems\u001b[0m \u001b[0;34m=\u001b[0m \u001b[0mpack_items\u001b[0m\u001b[0;34m(\u001b[0m\u001b[0mitems\u001b[0m\u001b[0;34m,\u001b[0m \u001b[0mpacking\u001b[0m\u001b[0;34m)\u001b[0m\u001b[0;34m\u001b[0m\u001b[0m\n",
      "\u001b[0;32m/home/gil/anaconda3/lib/python3.5/site-packages/numpy/lib/npyio.py\u001b[0m in \u001b[0;36m<listcomp>\u001b[0;34m(.0)\u001b[0m\n\u001b[1;32m    928\u001b[0m \u001b[0;34m\u001b[0m\u001b[0m\n\u001b[1;32m    929\u001b[0m             \u001b[0;31m# Convert each value according to its column and store\u001b[0m\u001b[0;34m\u001b[0m\u001b[0;34m\u001b[0m\u001b[0m\n\u001b[0;32m--> 930\u001b[0;31m             \u001b[0mitems\u001b[0m \u001b[0;34m=\u001b[0m \u001b[0;34m[\u001b[0m\u001b[0mconv\u001b[0m\u001b[0;34m(\u001b[0m\u001b[0mval\u001b[0m\u001b[0;34m)\u001b[0m \u001b[0;32mfor\u001b[0m \u001b[0;34m(\u001b[0m\u001b[0mconv\u001b[0m\u001b[0;34m,\u001b[0m \u001b[0mval\u001b[0m\u001b[0;34m)\u001b[0m \u001b[0;32min\u001b[0m \u001b[0mzip\u001b[0m\u001b[0;34m(\u001b[0m\u001b[0mconverters\u001b[0m\u001b[0;34m,\u001b[0m \u001b[0mvals\u001b[0m\u001b[0;34m)\u001b[0m\u001b[0;34m]\u001b[0m\u001b[0;34m\u001b[0m\u001b[0m\n\u001b[0m\u001b[1;32m    931\u001b[0m             \u001b[0;31m# Then pack it according to the dtype's nesting\u001b[0m\u001b[0;34m\u001b[0m\u001b[0;34m\u001b[0m\u001b[0m\n\u001b[1;32m    932\u001b[0m             \u001b[0mitems\u001b[0m \u001b[0;34m=\u001b[0m \u001b[0mpack_items\u001b[0m\u001b[0;34m(\u001b[0m\u001b[0mitems\u001b[0m\u001b[0;34m,\u001b[0m \u001b[0mpacking\u001b[0m\u001b[0;34m)\u001b[0m\u001b[0;34m\u001b[0m\u001b[0m\n",
      "\u001b[0;32m/home/gil/anaconda3/lib/python3.5/site-packages/numpy/lib/npyio.py\u001b[0m in \u001b[0;36mfloatconv\u001b[0;34m(x)\u001b[0m\n\u001b[1;32m    657\u001b[0m         \u001b[0;32mif\u001b[0m \u001b[0;34mb'0x'\u001b[0m \u001b[0;32min\u001b[0m \u001b[0mx\u001b[0m\u001b[0;34m:\u001b[0m\u001b[0;34m\u001b[0m\u001b[0m\n\u001b[1;32m    658\u001b[0m             \u001b[0;32mreturn\u001b[0m \u001b[0mfloat\u001b[0m\u001b[0;34m.\u001b[0m\u001b[0mfromhex\u001b[0m\u001b[0;34m(\u001b[0m\u001b[0masstr\u001b[0m\u001b[0;34m(\u001b[0m\u001b[0mx\u001b[0m\u001b[0;34m)\u001b[0m\u001b[0;34m)\u001b[0m\u001b[0;34m\u001b[0m\u001b[0m\n\u001b[0;32m--> 659\u001b[0;31m         \u001b[0;32mreturn\u001b[0m \u001b[0mfloat\u001b[0m\u001b[0;34m(\u001b[0m\u001b[0mx\u001b[0m\u001b[0;34m)\u001b[0m\u001b[0;34m\u001b[0m\u001b[0m\n\u001b[0m\u001b[1;32m    660\u001b[0m \u001b[0;34m\u001b[0m\u001b[0m\n\u001b[1;32m    661\u001b[0m     \u001b[0mtyp\u001b[0m \u001b[0;34m=\u001b[0m \u001b[0mdtype\u001b[0m\u001b[0;34m.\u001b[0m\u001b[0mtype\u001b[0m\u001b[0;34m\u001b[0m\u001b[0m\n",
      "\u001b[0;31mValueError\u001b[0m: could not convert string to float: b'variables=\"x/c\",\"cp\"'"
     ]
    }
   ],
   "source": [
    "x_exp , Cp_exp = numpy.loadtxt('CP_Gregory_expdata.dat', dtype=float, delimiter=' ', unpack=True)"
   ]
  },
  {
   "cell_type": "code",
   "execution_count": 47,
   "metadata": {
    "collapsed": false
   },
   "outputs": [
    {
     "ename": "NameError",
     "evalue": "name 'x_exp' is not defined",
     "output_type": "error",
     "traceback": [
      "\u001b[0;31m---------------------------------------------------------------------------\u001b[0m",
      "\u001b[0;31mNameError\u001b[0m                                 Traceback (most recent call last)",
      "\u001b[0;32m<ipython-input-47-5155496c2f60>\u001b[0m in \u001b[0;36m<module>\u001b[0;34m()\u001b[0m\n\u001b[1;32m     18\u001b[0m          color='b', linewidth=1, marker='d', markersize=6)\n\u001b[1;32m     19\u001b[0m \u001b[0;34m\u001b[0m\u001b[0m\n\u001b[0;32m---> 20\u001b[0;31m pyplot.plot(x_exp,Cp_exp,color='g', linewidth=0, marker='D', markersize=8, markeredgecolor='g',\n\u001b[0m\u001b[1;32m     21\u001b[0m markerfacecolor='None', markeredgewidth=1.5)\n\u001b[1;32m     22\u001b[0m \u001b[0;34m\u001b[0m\u001b[0m\n",
      "\u001b[0;31mNameError\u001b[0m: name 'x_exp' is not defined"
     ]
    },
    {
     "data": {
      "image/png": "[encoded data removed]",
      "text/plain": [
       "<matplotlib.figure.Figure at 0x7f5f167ddda0>"
      ]
     },
     "metadata": {},
     "output_type": "display_data"
    }
   ],
   "source": [
    "# plots the surface pressure coefficient\n",
    "\n",
    "val_x, val_y = 0.1, 0.2\n",
    "x_min, x_max = min( panel.xa for panel in panels ), max( panel.xa for panel in panels )\n",
    "cp_min, cp_max = min( panel.cp for panel in panels ), max( panel.cp for panel in panels )\n",
    "x_start, x_end = x_min-val_x*(x_max-x_min), x_max+val_x*(x_max-x_min)\n",
    "y_start, y_end = cp_min-val_y*(cp_max-cp_min), cp_max+val_y*(cp_max-cp_min)\n",
    "\n",
    "pyplot.figure(figsize=(10, 6))\n",
    "pyplot.grid(True)\n",
    "pyplot.xlabel('x', fontsize=16)\n",
    "pyplot.ylabel('$C_p$', fontsize=16)\n",
    "pyplot.plot([panel.xc for panel in panels if panel.loc == 'upper'], \n",
    "         [panel.cp for panel in panels if panel.loc == 'upper'], \n",
    "         color='r', linewidth=1, marker='d', markersize=6)\n",
    "pyplot.plot([panel.xc for panel in panels if panel.loc == 'lower'], \n",
    "         [panel.cp for panel in panels if panel.loc == 'lower'], \n",
    "         color='b', linewidth=1, marker='d', markersize=6)\n",
    "\n",
    "pyplot.plot(x_exp,Cp_exp,color='g', linewidth=0, marker='D', markersize=8, markeredgecolor='g',\n",
    "markerfacecolor='None', markeredgewidth=1.5)\n",
    "\n",
    "pyplot.legend(['upper face', 'lower face', 'Gregory exp_data (upper face)'], loc='best', prop={'size':14})\n",
    "pyplot.xlim(x_start, x_end)\n",
    "pyplot.ylim(y_start, y_end)\n",
    "pyplot.gca().invert_yaxis()\n",
    "pyplot.title('Angle of attack 10 deg, Number of panels : %d' % N, fontsize=20)\n",
    "#pyplot.savefig('CP_10.pdf'); add this line to save fig;"
   ]
  },
  {
   "cell_type": "code",
   "execution_count": null,
   "metadata": {
    "collapsed": true
   },
   "outputs": [],
   "source": [
    "def get_lift(freestream, Np):\n",
    "    \"\"\"\n",
    "    Get the lift coefficient for a number of panels Np\n",
    "    \"\"\"\n",
    "    #define panels\n",
    "    panels = define_panels(Np)\n",
    "    \n",
    "    #coefficients to build A\n",
    "    A1 = coeff_1_normal(panels)\n",
    "    A2 = coeff_2_normal(panels)\n",
    "    A3 = coeff_3_normal(panels,A2)\n",
    "    \n",
    "    #To build A\n",
    "    A_n =A_normal(panels,A1,A2,A3)\n",
    "    k_a = kutta_array(Np)\n",
    "\n",
    "    #Putting all together to get A\n",
    "    A = build_matrix(A_n, k_a, Np)\n",
    "\n",
    "    #RHS\n",
    "    b = build_rhs(panels, freestream)\n",
    "\n",
    "    # solves the linear system\n",
    "    gammas = linalg.solve(A, b)\n",
    "    \n",
    "    #Coefficients to get A_tangential.\n",
    "    B1 = coeff_1_tangential(panels)\n",
    "    B2 = coeff_2_tangential(panels)\n",
    "    B3 = coeff_3_tangential(panels,B2)\n",
    "    \n",
    "    #A_tangential\n",
    "    A_t = A_tangential(panels,B1,B2,B3)\n",
    "    \n",
    "    #The vector associated with the free-stream for U_t\n",
    "    b_t = freestream.U_inf * numpy.sin([freestream.alpha - panel.beta for panel in panels])\n",
    "\n",
    "    #Get tangential velocity\n",
    "    U_t = numpy.dot(A_t, gammas) + b_t\n",
    "    \n",
    "    for i, panel in enumerate(panels):\n",
    "        panel.vt = U_t[i]\n",
    "    \n",
    "    #Get Cp\n",
    "    get_pressure_coefficient(panels, freestream)\n",
    "    \n",
    "    L = 0.\n",
    "    for panel in panels:\n",
    "        L -= panel.cp*panel.length*numpy.sin(panel.beta)\n",
    "    \n",
    "    return L"
   ]
  },
  {
   "cell_type": "code",
   "execution_count": null,
   "metadata": {
    "collapsed": false
   },
   "outputs": [],
   "source": [
    "L_np=[]\n",
    "Np_list=[20,40,60,80,100,120,140,160,180,200, 400]\n",
    "for i in Np_list:\n",
    "    L_np.append(get_lift(freestream_10, i))"
   ]
  },
  {
   "cell_type": "code",
   "execution_count": null,
   "metadata": {
    "collapsed": true
   },
   "outputs": [],
   "source": [
    "L_exp = 1.2219\n",
    "\n",
    "#Relative error\n",
    "\n",
    "rel_err = []\n",
    "for i in L_np:\n",
    "    rel_err.append(numpy.abs(L_exp - i)/L_exp)\n",
    "\n",
    "#Percentage error\n",
    "\n",
    "per_err = []\n",
    "for i in rel_err:\n",
    "    per_err.append(100.*i)"
   ]
  },
  {
   "cell_type": "code",
   "execution_count": null,
   "metadata": {
    "collapsed": false
   },
   "outputs": [],
   "source": [
    "#Plotting\n",
    "pyplot.figure(figsize=(10, 6))\n",
    "pyplot.grid(True)\n",
    "pyplot.xlabel('Np', fontsize=16)\n",
    "pyplot.ylabel('error $\\%$', fontsize=16)\n",
    "pyplot.xlim(10, 210)\n",
    "pyplot.ylim(3, 8)\n",
    "pyplot.xticks(numpy.linspace(10, 210, 21)) \n",
    "pyplot.yticks(numpy.linspace(2, 8, 17))\n",
    "\n",
    "pyplot.title('Percentage error vs number of panels', fontsize=20)\n",
    "\n",
    "pyplot.plot(Np_list, per_err,color='r', linewidth=0, marker='o', markersize=6);\n",
    "#pyplot.savefig('error.pdf'); add this line to save fig;"
   ]
  },
  {
   "cell_type": "code",
   "execution_count": null,
   "metadata": {
    "collapsed": false
   },
   "outputs": [],
   "source": [
    "#For Np=400 the precentage error is:\n",
    "L_400_err = per_err[-1]\n",
    "\n",
    "print ('L_400_err = %.4f' %L_400_err)"
   ]
  },
  {
   "cell_type": "code",
   "execution_count": null,
   "metadata": {
    "collapsed": true
   },
   "outputs": [],
   "source": []
  }
 ],
 "metadata": {
  "anaconda-cloud": {},
  "kernelspec": {
   "display_name": "Python [conda root]",
   "language": "python",
   "name": "conda-root-py"
  },
  "language_info": {
   "codemirror_mode": {
    "name": "ipython",
    "version": 3
   },
   "file_extension": ".py",
   "mimetype": "text/x-python",
   "name": "python",
   "nbconvert_exporter": "python",
   "pygments_lexer": "ipython3",
   "version": "3.5.2"
  }
 },
 "nbformat": 4,
 "nbformat_minor": 1
}
