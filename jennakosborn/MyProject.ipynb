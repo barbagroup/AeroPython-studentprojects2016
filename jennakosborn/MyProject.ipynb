{
 "cells": [
  {
   "cell_type": "markdown",
   "metadata": {
    "collapsed": true
   },
   "source": [
    "# Vortex Lattice Method: Effect of Aspect Ratio and Wing Shape on Lift\n",
    "\n",
    "*By Jenna Osborn*\n",
    "\n",
    "*MAE 6226 Spring 2017*\n",
    "\n",
    "For this project, my goal was to develop a model that allows someone to quickly assess the wing shape and aspect ratio on the coefficient of lift and drag for a particular style of wing. The only inputs required are...\n",
    "1. Aspect Ratio\n",
    "2. Number of panels in the chord direction\n",
    "3. Number of panels in the span direction\n",
    "4. Sweep back angle\n",
    "5. Taper Ratio\n",
    "6. Freestream velocity\n",
    "7. Angle of Attack \n",
    "\n",
    "## Background\n",
    "\n",
    "The study of finite wings is critical for the application of potential flow for real-life scenarios. The panel methods we have been using in class have been dealing with an inifinte 2D wing. \n",
    "\n",
    "A method that can be used to assess the lift on a 3D wing shape is the **Vortex Lattice Method** (VLM). The VLM panels the top surface of the wing into square or tetrahedrals. Once the top surface of the wing is panelled. A \"bound\" votex-sheet is placed 1/4 chord of the panel from the leading edge. Then trailing vortices are added to each end of the bound vortex sheet to give the effect of the trailing vortices. This creates a horse shoe vortex effect for a single panel. The circulation strength is assumed to be constant over the horseshoe vortex. \n",
    "\n",
    "Much like the 2D panel method, the circulation strength of the vortex sheet can be solved by a linear equation with the normal velocity components adding up to equal zero. The model below assumes a planar wing (no cambering) and that the wing is thin enough to ignore the the curvature to the cross-sectional airfoil, thus making it a 2D problem. \n",
    "\n",
    "### History of VLM \n",
    "\n",
    "Ludwig Prandtl and his collegues developed the first practical theory for a model for a finite wing. His model, the Lifting-Line theory is still used for early calculations for finite wing characteristics. His theory involves a single vortex sheet that runs along the span of the wing with two \"Free-trailing\" vortex filaments at the ends of the vortex sheet like a giant horseshoe vortex. This can be expanded into an infinte number of these horseshoe vortices along the span of the wing so that there can be a varying strength circulation along the span as seen in Figure 1. \n",
    "\n",
    "**ADD picture from Fundamentals of Aerodynamics pg 364**"
   ]
  },
  {
   "cell_type": "code",
   "execution_count": 4,
   "metadata": {
    "collapsed": false
   },
   "outputs": [
    {
     "ename": "SyntaxError",
     "evalue": "invalid syntax (<ipython-input-4-e0f3131257f9>, line 1)",
     "output_type": "error",
     "traceback": [
      "\u001b[0;36m  File \u001b[0;32m\"<ipython-input-4-e0f3131257f9>\"\u001b[0;36m, line \u001b[0;32m1\u001b[0m\n\u001b[0;31m    Image(filename = )\u001b[0m\n\u001b[0m                     ^\u001b[0m\n\u001b[0;31mSyntaxError\u001b[0m\u001b[0;31m:\u001b[0m invalid syntax\n"
     ]
    }
   ],
   "source": [
    "Image(filename = )"
   ]
  },
  {
   "cell_type": "markdown",
   "metadata": {},
   "source": [
    "This Lifting Line theory is a pretty good representation of straight wings, but falls short for low aspect ratio wings, swept wings, and Delta wings. On these shapes a more complicated model is required for a better representation for the aerodynamic characteristics. One of these more complicated models is the VLM. \n",
    "\n",
    "### The mathematics behind VLM\n",
    "\n",
    "The model follows the mathematics of the model outline in *Aerodynamics for Engineers* by Bertin and Smith. For a more in depth outline of the mathematics, the reader is referred to this book. \n",
    "\n",
    "Thie model approximates the the continuous distribution of bound vorticity of the wing a a finite number of horseshoe vortices. The geometry is broken up into panels on which these horseshoe vortices are placed. The bound vortex part of the horseshoe vortex is placed at 1/4 chord on the panel and aligned with the panel's local sweepback angle. The ends of the horseshoe vortices are aligned parallel to the y axis. \n",
    "\n",
    "The normal velocity is required to be zero by this model and can be used to solve for the individual panel circulation strength. This boundary condition is applied to a control point on the panel which is located at the center of the panel in the x direction and 3/4 chord in the y direction as seen in Figure 2. "
   ]
  },
  {
   "cell_type": "code",
   "execution_count": null,
   "metadata": {
    "collapsed": true
   },
   "outputs": [],
   "source": []
  },
  {
   "cell_type": "markdown",
   "metadata": {},
   "source": [
    "The angle of attack of the freestream velocity is the with the y axis as seen in Figure 3. "
   ]
  },
  {
   "cell_type": "code",
   "execution_count": null,
   "metadata": {
    "collapsed": true
   },
   "outputs": [],
   "source": []
  },
  {
   "cell_type": "markdown",
   "metadata": {},
   "source": [
    "The model begins with the velocity induced by a vortex sheet of strength $\\Gamma$ as given by the *Biot-Savart Law* \n",
    "\n",
    "$$dV = \\frac{\\Gamma(dl \\times r)}{4\\pi r^3}$$\n",
    "\n",
    "For brevety purposes, following the model by Bertin and Smith the normal velocity induced on panel *m* by the horseshoe vortex on panel *n* is given by\n",
    "\n",
    "$$ w_{m,n} = \\frac{\\Gamma_{n}}{4\\pi} \\left\\{ \\frac{1}{(x_m-x_{1n})(y_m-y_{2n}) -(x_m -x_{2n})(y_m-y_{1n})} \\left[ \\frac{(x_{2n}-x_{1n})(x_m-x_{1n})+(y_{2n}-y_{1n})(y_m - y_{1n})}{\\sqrt{(x_m-x_{1n})^2+(y_m-y_{1n})^2}} - \\frac{(x_{2n}-x_{1n})(x_m-x_{2n})-(y_{2n}-y_{1n})(y_m-y_{1n})}{\\sqrt{(x_m-x_{1n})^2+(y_m-y_{2n})^2}} \\right] +\\frac{1.0}{y_{1n}-y_m} \\left[ 1.0 + \\frac{x_m-x_{1n}}{\\sqrt{(x_m-x_{1n})^2 + (y_m-y_{1n})^2}} \\right] - \\frac{1.0}{y_{2n}-y_m} \\left[ 1.0 + \\frac{x_m-x_{2n}}{\\sqrt{(x_m-x_{2n})^2 +(y_m-y_{2n})^2}} \\right] \\right\\}  $$\n",
    "\n",
    "In this equation $(x_m, y_m)$ are the control point coordinates on panel *m*, $(x_{1n}, y_{1n})$ is the left endpoint on of the vortex sheet on panel *n*, and $(x_{2n}, y_{2n})$ is the right endpoint on the vortex sheet on panel *n*.\n",
    "\n",
    "The linear equation that must be solved is the sum of all the vortex contributions on the control point at panel *m* and the freestream velocity contribution \n",
    "\n",
    "$$ w_{m} = \\displaystyle\\sum_{n=1}^{2N} w_{m,n} $$\n",
    "\n",
    "\n",
    "\n",
    "### VLM vs. Panel Methods\n",
    "\n",
    "\n",
    "\n",
    "## Development of the Model\n",
    "\n",
    "The model below is comprimised of small functions that are used to create the larger model called **VLM**. The model than can be used with the imputs as stated above for an assessment of the lift and drag.\n",
    "\n",
    "#### Importing the Necessary Libraries "
   ]
  },
  {
   "cell_type": "code",
   "execution_count": 3,
   "metadata": {
    "collapsed": true
   },
   "outputs": [],
   "source": [
    "import numpy\n",
    "from scipy import linalg \n",
    "from matplotlib import pyplot\n",
    "from IPython.core.display import Image\n",
    "\n",
    "#embed the figures inline with the text\n",
    "%matplotlib inline"
   ]
  },
  {
   "cell_type": "markdown",
   "metadata": {},
   "source": [
    "#### Geometry and Associated Panels \n",
    "\n",
    "The first function needed for completion of the model is to take the inputted values of Aspect Ratio (AR), number of panels in the chord direction (nchord), number of panels in the spanwise direction (nspan), sweep angle of the leading edge of the wing (sweepangle), the taper ratio of the wing if a tapered wing (tapratio), and Type of wing and then to return a set of points for the panels on the wing.\n",
    "\n",
    "This model assumes symmetry about the middle of the wing, so only one of the sides needs to be discretized into panels and calculated. The points can be reflected about the y axis for the other half. The resulting lift can be doubled at the end. We are going to define the starboard half of the wing and we will deal with the port side half later. \n",
    "\n",
    "The different Types of wings are dealt with separately. \n",
    "\n",
    "1. **DELTA WING**\n",
    "    - The delta wing is assumed to be a triangle wing. The panels are rectilinearly defined. Due to the shape of the triangle, each row will have a different number of panels. So, only the nchord variable is necessary to define. The nspan, sweepangle, tapratio can all be left as 0. \n",
    "    \n",
    "    **?Picture here?**\n",
    "    \n",
    "2. **CONSTANT CHORD**\n",
    "    - The  constant chord model is assumed to have a constant chord throughout the span of the wing. This chord is calculated from the inputted Aspect ratio. The nchord, nspan, and sweepangle all can be varied as an input. The tapratio is not necessary in this model because the ratio of the inside edge to the outide edge is always 1. This input can be left as 0.\n",
    "\n",
    "3. **TAPERED**\n",
    "    - The tapered model allows the input to vary the ratio of the wing to the outside egde chord length to the inside edge chord length. This is a more realistic version of different set of wings. The nspan, nchord, sweepangle, and tapratio can be set by the input to varying values. "
   ]
  },
  {
   "cell_type": "code",
   "execution_count": null,
   "metadata": {
    "collapsed": true
   },
   "outputs": [],
   "source": []
  },
  {
   "cell_type": "markdown",
   "metadata": {},
   "source": [
    "The next set of functions to define is calculating the bound vortex sheet end points and the control points for each panel. The triangle panels have to be handled differently than the square or trapezoidal panels. The bound vortex endpoints are calculated from the 1/4 chord on one side of the triangle point on the other side. The control point is still in the middle of the panel and 3/4 chord from the top of the panel as if it were a square. \n",
    "\n"
   ]
  }
 ],
 "metadata": {
  "anaconda-cloud": {},
  "kernelspec": {
   "display_name": "Python 3",
   "language": "python",
   "name": "python3"
  },
  "language_info": {
   "codemirror_mode": {
    "name": "ipython",
    "version": 3
   },
   "file_extension": ".py",
   "mimetype": "text/x-python",
   "name": "python",
   "nbconvert_exporter": "python",
   "pygments_lexer": "ipython3",
   "version": "3.6.0"
  }
 },
 "nbformat": 4,
 "nbformat_minor": 1
}
