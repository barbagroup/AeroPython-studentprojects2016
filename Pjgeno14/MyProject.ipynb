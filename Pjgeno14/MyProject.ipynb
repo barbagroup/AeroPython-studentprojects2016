{
 "cells": [
  {
   "cell_type": "markdown",
   "metadata": {},
   "source": [
    "# Comparing Seagull and Bat Flight Performance in Potential Flow at Different Angles of Attack"
   ]
  },
  {
   "cell_type": "code",
   "execution_count": 1,
   "metadata": {
    "collapsed": true
   },
   "outputs": [],
   "source": [
    "import numpy as np\n",
    "from scipy import integrate\n",
    "from matplotlib import pyplot as plt\n",
    "import math\n",
    "import os\n",
    "%matplotlib inline"
   ]
  },
  {
   "cell_type": "markdown",
   "metadata": {},
   "source": [
    "## Wing Geometry and Flight Speed\n",
    "\n",
    "The airfoil used for the seagull wing is S1223, since it is the closest match the the actual geometry of a seagull wing as indicated by Liu, et. al. It was generated in XFOIL and the coordinates recorded below. The actual seagull wing and the S1223 airfoil have similarly shaped pressure distributions, except for the S1223 having a lower pressure on its upper surface compared to the seagull wing. Additionally, there is a slight difference in the thickness distribution, but the maximum thickness and maximum camber positions are the same.\n",
    "\n",
    "The bat geometry was designed based on \"Bat wing airfoil and planform structures relating to aerodynamic cleanliness.\" The specific bat species chosen is the Western Broad-nosed Bat, native to Australia. It has a sharp leading edge, with maximum camber of about 7% located at about 30% of the chord. The thickness was chosen based on optimal bat flight  performance, less than 0.3% of the chord. The airfoil was generated as such in XFOIL and the coordinates recorded below. \n",
    "\n",
    "Flight speed was chosen as 7.6 $m/s$ as an average soaring flight speed of the two birds (bats at roughly 8.6 $m/s$ and seagulls at roughly 6.3 $m/s$)"
   ]
  },
  {
   "cell_type": "code",
   "execution_count": 2,
   "metadata": {
    "collapsed": false
   },
   "outputs": [
    {
     "data": {
      "image/png": "[encoded data removed]",
      "text/plain": [
       "<matplotlib.figure.Figure at 0x7f8b2a48cef0>"
      ]
     },
     "metadata": {},
     "output_type": "display_data"
    }
   ],
   "source": [
    "# import geometry for each and plot to check\n",
    "x_gull = np.array([1.00000, .99838, .99417, .98825, .98075, .97111, .95884, .94389, .92639, .90641, .88406, .85947, .83277, .80412, .77369, .74166, .70823, .67360, .63798, .60158, .56465, .52744, .49025, .45340, .41721, .38193, .34777, .31488, .28347, .25370, .22541, .19846, .17286, .14863, .12591, .10482, .08545, .06789, .05223, .03855, .02694, .01755, .01028, .00495, .00155, .00005, .00044, .00264, .00789, .01718, .03006, .04627, .06561, .08787, .11282, .14020, .17006, .20278, .23840, .27673, .31750, .36044, .40519, .45139, .49860, .54639, .59428, .64176, .68832, .73344, .77660, .81729, .85500, .88928, .91966, .94573, .96693, .98255, .99268, .99825, 1.00000])\n",
    "y_gull = np.array([0.00000, .00126, .00494, .01037, .01646, .02250, .02853, .03476, .04116, .04768, .05427, .06089, .06749, .07402, .08044, .08671, .09277, .09859, .10412, .10935, .11425, .11881, .12303, .12683, .13011, .13271, .13447, .13526, .13505, .13346, .13037, .12594, .12026, .11355, .10598, .09770, .08879, .07940, .06965, .05968, .04966, .03961, .02954, .01969, .01033, .00178, -.00561, -.01120, -.01427, -.01550, -.01584, -.01532, -.01404, -.01202, -.00925, -.00563, -.00075, .00535, .01213, .01928, .02652, .03358, .04021, .04618, .05129, .05534, .05820, .05976, .05994, .05872, .05612, .05219, .04706, .04088, .03387, .02624, .01822, .01060, .00468, .00115, 0.00000])\n",
    "\n",
    "x_bat = np.array([1.00000,.99838,.99417,.98825,.98075,.97111,.95884,.94389,.92639,.90640,.88405,.85946,.83276,.80411,.77368,.74165,.70822,.67359,.63797,.60157,.56464,.52743,.49024,.45339,.41720,.38192,.34776,.31487,.28346,.25369,.22540,.19845,.17285,.14862,.12590,.10481,.08544,.06788,.05222,.03854,.02693,.01754,.01027,.00495,.00155,.00005,.00044,.00264,.00789,.01717,.03004,.04625,.06559,.08785,.11280,.14018,.17004,.20276,.23838,.27671,.31748,.36042,.40517,.45137,.49858,.54637,.59426,.64174,.68831,.73343,.77659,.81728,.85499,.88927,.91965,.94573,.96693,.98255,.99268,.99825,1.00000])\n",
    "y_bat = np.array([-.00035,.00043,.00248,.00543,.00910,.01331,.01770,.02225,.02709,.03206,.03718,.04251,.04765,.05253,.05697,.06070,.06384,.06663,.06912,.07119,.07301,.07462,.07608,.07736,.07848,.07954,.08051,.08122,.08137,.08120,.08098,.08051,.07939,.07745,.07442,.06969,.06283,.05360,.04255,.03149,.02363,.01729,.01128,.00514,.00172,-.00012,.00021,.00251,.00696,.01336,.01953,.02950,.04215,.05187,.05799,.06142,.06273,.06316,.06389,.06447,.06447,.06515,.06536,.06517,.06492,.06460,.06369,.06210,.05992,.05699,.05291,.04741,.04102,.03418,.02726,.02053,.01384,.00758,.00290,.00046,-.00027])\n",
    "\n",
    "# plot\n",
    "plt.figure(figsize=(15,6))\n",
    "plt.suptitle('Seagull and Bat Airfoils', fontsize=20)\n",
    "                 \n",
    "plt.subplot(121)                 \n",
    "plt.grid()\n",
    "plt.title('Seagull', fontsize=16)\n",
    "plt.xlabel('x', fontsize = 16)\n",
    "plt.ylabel('y', fontsize = 16)\n",
    "plt.plot(x_gull, y_gull, color='k', linewidth=2, linestyle='-')\n",
    "plt.axis('scaled', adjustable='box')\n",
    "plt.xlim(-0.1, 1.1)\n",
    "plt.ylim(-0.1, 0.2)\n",
    "          \n",
    "plt.subplot(122)                 \n",
    "plt.grid()\n",
    "plt.title('Bat', fontsize=16)\n",
    "plt.xlabel('x', fontsize = 16)\n",
    "plt.ylabel('y', fontsize = 16)\n",
    "plt.plot(x_bat, y_bat, color='k', linewidth=2, linestyle='-')\n",
    "plt.axis('scaled', adjustable='box')\n",
    "plt.xlim(-0.1, 1.1)\n",
    "plt.ylim(-0.1, 0.2);"
   ]
  },
  {
   "cell_type": "code",
   "execution_count": 3,
   "metadata": {
    "collapsed": true
   },
   "outputs": [],
   "source": [
    "class Panel:\n",
    "    \"\"\"\n",
    "    Contains information related to a panel.\n",
    "    \"\"\"\n",
    "    def __init__(self, xa, ya, xb, yb):\n",
    "        \"\"\"\n",
    "        Initializes the panel.\n",
    "        \n",
    "        Sets the end-points and calculates the center-point, length,\n",
    "        and angle (with the x-axis) of the panel.\n",
    "        Defines if the panel is located on the upper or lower surface of the geometry.\n",
    "        Initializes the source-strength, tangential velocity, and pressure coefficient\n",
    "        of the panel to zero.\n",
    "        \n",
    "        Parameters\n",
    "        ----------\n",
    "        xa: float\n",
    "            x-coordinate of the first end-point\n",
    "        ya: float\n",
    "            y-coordinate of the first end-point\n",
    "        xb: float\n",
    "            x-coordinate of the second end-point\n",
    "        yb: float\n",
    "            y-coordinate of the second end-point\n",
    "        \"\"\"\n",
    "        self.xa, self.ya = xa, ya     # panel starting point\n",
    "        self.xb, self.yb = xb, yb     # panel end point\n",
    "        \n",
    "        self.xc, self.yc = (xa+xb)/2, (ya+yb)/2       # panel center\n",
    "        self.length = math.sqrt((xb-xa)**2+(yb-ya)**2)  # panel length\n",
    "        \n",
    "        # orientation of the panel\n",
    "        if xb-xa <= 0.0:\n",
    "            self.beta = np.arccos((yb-ya)/self.length)\n",
    "        elif xb-xa > 0.0:\n",
    "            self.beta = math.pi + np.arccos(-(yb-ya)/self.length)\n",
    "            \n",
    "        # panel location\n",
    "        if self.beta <= np.pi:\n",
    "            self.loc = 'upper'    # upper surface\n",
    "        else:\n",
    "            self.loc = 'lower'    # lower surface\n",
    "        \n",
    "        self.sigma = 0.0     # source strength\n",
    "        self.vt = 0.0        # tangential velocity\n",
    "        self.cp = 0.0        # coefficient of pressure"
   ]
  },
  {
   "cell_type": "code",
   "execution_count": 4,
   "metadata": {
    "collapsed": true
   },
   "outputs": [],
   "source": [
    "def define_panels(x, y, N=150):\n",
    "    \"\"\"\n",
    "    Discretizes the geometry into panels_gull using the 'cosine' method.\n",
    "    \n",
    "    Parameters\n",
    "    ----------\n",
    "    x: 1D numpy array of floats\n",
    "        x-coordinate of the points defining the geometry.\n",
    "    y: 1D array of floats\n",
    "        y-coordinate of the points defining the geometry.\n",
    "    N: integer, optional\n",
    "        Number of panels;\n",
    "        150.\n",
    "        \n",
    "    Returns\n",
    "    -------\n",
    "    panels_gull: 1D numpy array of Panel objects\n",
    "        The list of panels_gull.\n",
    "    \"\"\"\n",
    "    R = (x.max()-x.min())/2                            # radius of the circle\n",
    "    x_center = (x.max()+x.min())/2                     # x-coordinate of the circle center\n",
    "    \n",
    "    theta = np.linspace(0, 2*np.pi, N+1)             # array of angles\n",
    "    x_circle = x_center + R*np.cos(theta)              # x-coordinates of the circle\n",
    "    \n",
    "    x_ends = np.copy(x_circle)                           # x-coordinate of the panels_gull end-points\n",
    "    y_ends = np.empty_like(x_ends)                     # y-coordinate of the panels_gull end-points\n",
    "    \n",
    "    # extend coordinates to consider closed surface\n",
    "    x, y = np.append(x, x[0]), np.append(y, y[0])\n",
    "    \n",
    "    # compute y-coordinate of the end-points by projection\n",
    "    I = 0\n",
    "    for i in range(N):\n",
    "        while I < len(x)-1:\n",
    "            if (x[I] <= x_ends[i] <= x[I+1]) or (x[I+1] <= x_ends[i] <= x[I]):\n",
    "                break\n",
    "            else:\n",
    "                I += 1\n",
    "        a = (y[I+1]-y[I])/(x[I+1]-x[I])\n",
    "        b = y[I+1] - a*x[I+1]\n",
    "        y_ends[i] = a*x_ends[i] + b\n",
    "    y_ends[N] = y_ends[0]\n",
    "    \n",
    "    # create panels_gull\n",
    "    panels = np.empty(N, dtype = object)\n",
    "    for i in range(N):\n",
    "        panels[i] = Panel(x_ends[i], y_ends[i], x_ends[i+1], y_ends[i+1])\n",
    "        \n",
    "    return panels"
   ]
  },
  {
   "cell_type": "markdown",
   "metadata": {},
   "source": [
    "## Discretize the Wings"
   ]
  },
  {
   "cell_type": "code",
   "execution_count": 5,
   "metadata": {
    "collapsed": true
   },
   "outputs": [],
   "source": [
    "panels_gull = define_panels(x_gull, y_gull, N=150)\n",
    "panels_bat = define_panels(x_bat, y_bat, N=40)"
   ]
  },
  {
   "cell_type": "code",
   "execution_count": 6,
   "metadata": {
    "collapsed": false
   },
   "outputs": [
    {
     "data": {
      "image/png": "[encoded data removed]",
      "text/plain": [
       "<matplotlib.figure.Figure at 0x7f8b29c60a20>"
      ]
     },
     "metadata": {},
     "output_type": "display_data"
    }
   ],
   "source": [
    "# plot with panels\n",
    "plt.figure(figsize=(15,6))\n",
    "plt.suptitle('Discretized Airfoils', fontsize=18)\n",
    "\n",
    "plt.subplot(121)\n",
    "plt.title('Seagull', fontsize=16)\n",
    "plt.xlabel('x', fontsize=16)\n",
    "plt.ylabel('y', fontsize=16)\n",
    "plt.plot(x_gull, y_gull, color='k', linestyle='-', linewidth=2)\n",
    "plt.plot(np.append([panel.xa for panel in panels_gull], panels_gull[0].xa),\n",
    "         np.append([panel.ya for panel in panels_gull], panels_gull[0].ya),\n",
    "         linestyle='-', linewidth=1, color='#CD2305', marker='o', markersize=6)\n",
    "plt.axis('scaled', adjustable='box')\n",
    "plt.xlim(-0.1, 1.1)\n",
    "plt.ylim(-0.1, 0.2)\n",
    "\n",
    "plt.subplot(122)\n",
    "plt.title('Bat', fontsize=16)\n",
    "plt.xlabel('x', fontsize=16)\n",
    "plt.ylabel('y', fontsize=16)\n",
    "plt.plot(x_bat, y_bat, color='k', linestyle='-', linewidth=2)\n",
    "plt.plot(np.append([panel.xa for panel in panels_bat], panels_bat[0].xa),\n",
    "         np.append([panel.ya for panel in panels_bat], panels_bat[0].ya),\n",
    "         linestyle='-', linewidth=1, color='#CD2305', marker='o', markersize=6)\n",
    "plt.axis('scaled', adjustable='box')\n",
    "plt.xlim(-0.1, 1.1)\n",
    "plt.ylim(-0.1, 0.2);"
   ]
  },
  {
   "cell_type": "markdown",
   "metadata": {},
   "source": [
    "Note on the number of panels for the bat wing: 40 panels were chosen due to the thinness and overall shape of the bat wing. If a large number of panels were used, the panel method failed."
   ]
  },
  {
   "cell_type": "markdown",
   "metadata": {},
   "source": [
    "## $AoA=0$"
   ]
  },
  {
   "cell_type": "code",
   "execution_count": 7,
   "metadata": {
    "collapsed": true
   },
   "outputs": [],
   "source": [
    "class Freestream:\n",
    "    \"\"\"\n",
    "    Freestream conditions.\n",
    "    \"\"\"\n",
    "    def __init__(self, u_inf=7.6, alpha=0.0):\n",
    "        \"\"\"\n",
    "        Sets the freestream speed and angle (in degrees).\n",
    "        \n",
    "        Parameters\n",
    "        ----------\n",
    "        u_inf: float, optional\n",
    "            Freestream speed;\n",
    "            default: 1.0.\n",
    "        alpha: float, optional\n",
    "            Angle of attack;\n",
    "            default: 0.0.\n",
    "        \"\"\"\n",
    "        self.u_inf = u_inf\n",
    "        self.alpha = alpha*np.pi/180.0  # degrees to radians"
   ]
  },
  {
   "cell_type": "code",
   "execution_count": 8,
   "metadata": {
    "collapsed": true
   },
   "outputs": [],
   "source": [
    "# create freestream conditions\n",
    "freestream = Freestream(u_inf=7.6, alpha=0.0)"
   ]
  },
  {
   "cell_type": "code",
   "execution_count": 9,
   "metadata": {
    "collapsed": true
   },
   "outputs": [],
   "source": [
    "# panel method integral\n",
    "def integral(x, y, panel, dxdk, dydk):\n",
    "    \"\"\"\n",
    "    Evaluates the contribution from a panel at a given point.\n",
    "    \n",
    "    Parameters\n",
    "    ----------\n",
    "    x: float\n",
    "        x-coordinate of the target point.\n",
    "    y: float\n",
    "        y-coordinate of the target point.\n",
    "    panel: Panel object\n",
    "        Panel whose contribution is evaluated.\n",
    "    dxdk: float\n",
    "        Value of the derivative of x in a certain direction.\n",
    "    dydk: float\n",
    "        Value of the derivative of y in a certain direction.\n",
    "    \n",
    "    Returns\n",
    "    -------\n",
    "    Contribution from the panel at a given point (x, y).\n",
    "    \"\"\"\n",
    "    def integrand(s):\n",
    "        return ( ((x - (panel.xa - np.sin(panel.beta)*s))*dxdk\n",
    "                  +(y - (panel.ya + np.cos(panel.beta)*s))*dydk)\n",
    "                / ((x - (panel.xa - np.sin(panel.beta)*s))**2\n",
    "                   +(y - (panel.ya + np.cos(panel.beta)*s))**2) )\n",
    "    return integrate.quad(integrand, 0.0, panel.length)[0]"
   ]
  },
  {
   "cell_type": "markdown",
   "metadata": {},
   "source": [
    "### Build and Solve Linear Equation for Seagull"
   ]
  },
  {
   "cell_type": "code",
   "execution_count": 10,
   "metadata": {
    "collapsed": true
   },
   "outputs": [],
   "source": [
    "# source contribution matrix - input panels_gull or bat\n",
    "def source_contribution_normal(panels):\n",
    "    \"\"\"\n",
    "    Builds the source contribution matrix for the normal velocity.\n",
    "    \n",
    "    Parameters\n",
    "    ----------\n",
    "    panels_gull: 1D array of Panel objects\n",
    "        List of panels for the seagull or bat.\n",
    "    \n",
    "    Returns\n",
    "    -------\n",
    "    A: 2D Numpy array of floats\n",
    "        Source contribution matrix.\n",
    "    \"\"\"\n",
    "    A = np.empty((panels.size, panels.size), dtype=float)\n",
    "    # source contribution on a panel from itself\n",
    "    np.fill_diagonal(A, 0.5)\n",
    "    # source contribution on a panel from others\n",
    "    for i, panel_i in enumerate(panels):\n",
    "        for j, panel_j in enumerate(panels):\n",
    "            if i != j:\n",
    "                A[i, j] = 0.5/np.pi*integral(panel_i.xc, panel_i.yc, \n",
    "                                                panel_j,\n",
    "                                                np.cos(panel_i.beta),\n",
    "                                                np.sin(panel_i.beta))\n",
    "    return A"
   ]
  },
  {
   "cell_type": "code",
   "execution_count": 11,
   "metadata": {
    "collapsed": true
   },
   "outputs": [],
   "source": [
    "def vortex_contribution_normal(panels):\n",
    "    \"\"\"\n",
    "    Builds the vortex contribution matrix for the normal velocity.\n",
    "    \n",
    "    Parameters\n",
    "    ----------\n",
    "    panels: 1D array of Panel objects\n",
    "        List of panels for the seagull or bat.\n",
    "    \n",
    "    Returns\n",
    "    -------\n",
    "    A: 2D Numpy array of floats\n",
    "        Vortex contribution matrix.\n",
    "    \"\"\"\n",
    "    A = np.empty((panels.size, panels.size), dtype=float)\n",
    "    # vortex contribution on a panel from itself\n",
    "    np.fill_diagonal(A, 0.0)\n",
    "    # vortex contribution on a panel from others\n",
    "    for i, panel_i in enumerate(panels):\n",
    "        for j, panel_j in enumerate(panels):\n",
    "            if i != j:\n",
    "                A[i, j] = -0.5/np.pi*integral(panel_i.xc, panel_i.yc, \n",
    "                                                 panel_j,\n",
    "                                                 np.sin(panel_i.beta),\n",
    "                                                 -np.cos(panel_i.beta))\n",
    "    return A"
   ]
  },
  {
   "cell_type": "code",
   "execution_count": 12,
   "metadata": {
    "collapsed": false
   },
   "outputs": [
    {
     "name": "stderr",
     "output_type": "stream",
     "text": [
      "/home/gil/anaconda3/lib/python3.5/site-packages/scipy/integrate/quadpack.py:356: IntegrationWarning: The maximum number of subdivisions (50) has been achieved.\n",
      "  If increasing the limit yields no improvement it is advised to analyze \n",
      "  the integrand in order to determine the difficulties.  If the position of a \n",
      "  local difficulty can be determined (singularity, discontinuity) one will \n",
      "  probably gain from splitting up the interval and calling the integrator \n",
      "  on the subranges.  Perhaps a special-purpose integrator should be used.\n",
      "  warnings.warn(msg, IntegrationWarning)\n"
     ]
    }
   ],
   "source": [
    "# create source and vortex matrix for seagull and bat\n",
    "A_source = source_contribution_normal(panels_gull)\n",
    "B_vortex = vortex_contribution_normal(panels_gull)"
   ]
  },
  {
   "cell_type": "code",
   "execution_count": 13,
   "metadata": {
    "collapsed": true
   },
   "outputs": [],
   "source": [
    "def kutta_condition(A_source, B_vortex):\n",
    "    \"\"\"\n",
    "    Builds the Kutta condition array.\n",
    "    \n",
    "    Parameters\n",
    "    ----------\n",
    "    A_source: 2D Numpy array of floats\n",
    "        Source contribution matrix for the normal velocity.\n",
    "    B_vortex: 2D Numpy array of floats\n",
    "        Vortex contribution matrix for the normal velocity.\n",
    "    \n",
    "    Returns\n",
    "    -------\n",
    "    b: 1D Numpy array of floats\n",
    "        The left-hand side of the Kutta-condition equation.\n",
    "    \"\"\"\n",
    "    b = np.empty(A_source.shape[0]+1, dtype=float)\n",
    "    # matrix of source contribution on tangential velocity\n",
    "    # is the same than\n",
    "    # matrix of vortex contribution on normal velocity\n",
    "    b[:-1] = B_vortex[0, :] + B_vortex[-1, :]\n",
    "    # matrix of vortex contribution on tangential velocity\n",
    "    # is the opposite of\n",
    "    # matrix of source contribution on normal velocity\n",
    "    b[-1] = - np.sum(A_source[0, :] + A_source[-1, :])\n",
    "    return b"
   ]
  },
  {
   "cell_type": "code",
   "execution_count": 14,
   "metadata": {
    "collapsed": true
   },
   "outputs": [],
   "source": [
    "def build_singularity_matrix(A_source, B_vortex):\n",
    "    \"\"\"\n",
    "    Builds the left-hand side matrix of the system\n",
    "    arising from source and vortex contributions.\n",
    "    \n",
    "    Parameters\n",
    "    ----------\n",
    "    A_source: 2D Numpy array of floats\n",
    "        Source contribution matrix for the normal velocity.\n",
    "    B_vortex: 2D Numpy array of floats\n",
    "        Vortex contribution matrix for the normal velocity.\n",
    "    \n",
    "    Returns\n",
    "    -------\n",
    "    A:  2D Numpy array of floats\n",
    "        Matrix of the linear system.\n",
    "    \"\"\"\n",
    "    A = np.empty((A_source.shape[0]+1, A_source.shape[1]+1), dtype=float)\n",
    "    # source contribution matrix\n",
    "    A[:-1, :-1] = A_source\n",
    "    # vortex contribution array\n",
    "    A[:-1, -1] = np.sum(B_vortex, axis=1)\n",
    "    # Kutta condition array\n",
    "    A[-1, :] = kutta_condition(A_source, B_vortex)\n",
    "    return A"
   ]
  },
  {
   "cell_type": "code",
   "execution_count": 15,
   "metadata": {
    "collapsed": true
   },
   "outputs": [],
   "source": [
    "def build_freestream_rhs(panels, freestream):\n",
    "    \"\"\"\n",
    "    Builds the right-hand side of the system \n",
    "    arising from the freestream contribution.\n",
    "    \n",
    "    Parameters\n",
    "    ----------\n",
    "    panels: 1D array of Panel objects\n",
    "        List of panels for the seagull or bat.\n",
    "    freestream: Freestream object\n",
    "        Freestream conditions.\n",
    "    \n",
    "    Returns\n",
    "    -------\n",
    "    b: 1D Numpy array of floats\n",
    "        Freestream contribution on each panel and on the Kutta condition.\n",
    "    \"\"\"\n",
    "    b = np.empty(panels.size+1,dtype=float)\n",
    "    # freestream contribution on each panel\n",
    "    for i, panel in enumerate(panels):\n",
    "        b[i] = -freestream.u_inf * np.cos(freestream.alpha - panel.beta)\n",
    "    # freestream contribution on the Kutta condition\n",
    "    b[-1] = -freestream.u_inf*( np.sin(freestream.alpha-panels[0].beta)\n",
    "                               +np.sin(freestream.alpha-panels[-1].beta) )\n",
    "    return b"
   ]
  },
  {
   "cell_type": "code",
   "execution_count": 16,
   "metadata": {
    "collapsed": false
   },
   "outputs": [],
   "source": [
    "A = build_singularity_matrix(A_source, B_vortex)\n",
    "b = build_freestream_rhs(panels_gull, freestream)"
   ]
  },
  {
   "cell_type": "code",
   "execution_count": 17,
   "metadata": {
    "collapsed": true
   },
   "outputs": [],
   "source": [
    "# solve for singularity strengths for seagulll\n",
    "strengths = np.linalg.solve(A, b)\n",
    "\n",
    "# store source strength on each panel\n",
    "for i, panel in enumerate(panels_gull):\n",
    "    panel.sigma = strengths[i]\n",
    "    \n",
    "# store circulation density\n",
    "gamma = strengths[-1]"
   ]
  },
  {
   "cell_type": "code",
   "execution_count": 18,
   "metadata": {
    "collapsed": true
   },
   "outputs": [],
   "source": [
    "# solve for singularity strengths for bat\n",
    "strengths = np.linalg.solve(A, b)\n",
    "\n",
    "# store source strength on each panel\n",
    "for i, panel in enumerate(panels_bat):\n",
    "    panel.sigma = strengths[i]\n",
    "    \n",
    "# store circulation density\n",
    "gamma = strengths[-1]"
   ]
  },
  {
   "cell_type": "code",
   "execution_count": 19,
   "metadata": {
    "collapsed": false
   },
   "outputs": [
    {
     "name": "stdout",
     "output_type": "stream",
     "text": [
      "2.83378415761\n"
     ]
    }
   ],
   "source": [
    "print(gamma)"
   ]
  },
  {
   "cell_type": "code",
   "execution_count": 20,
   "metadata": {
    "collapsed": true
   },
   "outputs": [],
   "source": [
    "def compute_tangential_velocity_gull(panels_gull, freestream, gamma, A_source, B_vortex):\n",
    "    \"\"\"\n",
    "    Computes the tangential surface velocity.\n",
    "    \n",
    "    Parameters\n",
    "    ----------\n",
    "    panels_gull: 1D array of Panel objects\n",
    "        List of panels for seagull.\n",
    "    freestream: Freestream object\n",
    "        Freestream conditions.\n",
    "    gamma: float\n",
    "        Circulation density.\n",
    "    A_source: 2D Numpy array of floats\n",
    "        Source contribution matrix for the normal velocity.\n",
    "    B_vortex: 2D Numpy array of floats\n",
    "        Vortex contribution matrix for the normal velocity.\n",
    "    \"\"\"\n",
    "    A = np.empty((panels_gull.size, panels_gull.size+1), dtype=float)\n",
    "    # matrix of source contribution on tangential velocity\n",
    "    # is the same than\n",
    "    # matrix of vortex contribution on normal velocity\n",
    "    A[:, :-1] = B_vortex\n",
    "    # matrix of vortex contribution on tangential velocity\n",
    "    # is the opposite of\n",
    "    # matrix of source contribution on normal velocity\n",
    "    A[:, -1] = -np.sum(A_source, axis=1)\n",
    "    # freestream contribution\n",
    "    b = freestream.u_inf*np.sin([freestream.alpha-panel.beta \n",
    "                                    for panel in panels_gull])\n",
    "    \n",
    "    strengths = np.append([panel.sigma for panel in panels_gull], gamma)\n",
    "    \n",
    "    tangential_velocities = np.dot(A, strengths) + b\n",
    "    \n",
    "    for i, panel in enumerate(panels_gull):\n",
    "        panel.vt = tangential_velocities[i]"
   ]
  },
  {
   "cell_type": "code",
   "execution_count": 21,
   "metadata": {
    "collapsed": false
   },
   "outputs": [],
   "source": [
    "compute_tangential_velocity_gull(panels_gull, freestream, gamma, A_source, B_vortex)"
   ]
  },
  {
   "cell_type": "code",
   "execution_count": 22,
   "metadata": {
    "collapsed": true
   },
   "outputs": [],
   "source": [
    "def compute_pressure_coefficient_gull(panels_gull, freestream):\n",
    "    \"\"\"\n",
    "    Computes the surface pressure coefficients.\n",
    "    \n",
    "    Parameters\n",
    "    ----------\n",
    "    panels_gull: 1D array of Panel objects\n",
    "        List of panels for seagull.\n",
    "    freestream: Freestream object\n",
    "        Freestream conditions.\n",
    "    \"\"\"\n",
    "    for panel in panels_gull:\n",
    "        panel.cp_gull = 1.0 - (panel.vt/freestream.u_inf)**2"
   ]
  },
  {
   "cell_type": "code",
   "execution_count": 23,
   "metadata": {
    "collapsed": true
   },
   "outputs": [],
   "source": [
    "compute_pressure_coefficient_gull(panels_gull, freestream)"
   ]
  },
  {
   "cell_type": "markdown",
   "metadata": {},
   "source": [
    "### $C_L$ Calculation and Accuracy Check"
   ]
  },
  {
   "cell_type": "code",
   "execution_count": 24,
   "metadata": {
    "collapsed": false
   },
   "outputs": [
    {
     "name": "stdout",
     "output_type": "stream",
     "text": [
      "lift coefficient at AoA=0: CL_gull_0 = 1.566\n"
     ]
    }
   ],
   "source": [
    "c = abs(max(panel.xa for panel in panels_gull)\n",
    "        - min(panel.xa for panel in panels_gull))\n",
    "cl_gull_0 = (gamma*sum(panel.length for panel in panels_gull)\n",
    "      / (0.5*freestream.u_inf*c))\n",
    "print('lift coefficient at AoA=0: CL_gull_0 = {:0.3f}'.format(cl_gull_0))"
   ]
  },
  {
   "cell_type": "code",
   "execution_count": 25,
   "metadata": {
    "collapsed": false
   },
   "outputs": [
    {
     "name": "stdout",
     "output_type": "stream",
     "text": [
      "sum of singularity strengths: 0.000900\n"
     ]
    }
   ],
   "source": [
    "# calculate the accuracy\n",
    "accuracy = sum([panel.sigma*panel.length for panel in panels_gull])\n",
    "print('sum of singularity strengths: {:0.6f}'.format(accuracy))"
   ]
  },
  {
   "cell_type": "markdown",
   "metadata": {},
   "source": [
    "### Build and Solve Matrix Equation for Bat"
   ]
  },
  {
   "cell_type": "code",
   "execution_count": 26,
   "metadata": {
    "collapsed": true
   },
   "outputs": [],
   "source": [
    "def source_contribution_normal(panels_bat):\n",
    "    \"\"\"\n",
    "    Builds the source contribution matrix for the normal velocity.\n",
    "    \n",
    "    Parameters\n",
    "    ----------\n",
    "    panels_bat: 1D array of Panel objects\n",
    "        List of panels for the bat.\n",
    "    \n",
    "    Returns\n",
    "    -------\n",
    "    A: 2D Numpy array of floats\n",
    "        Source contribution matrix.\n",
    "    \"\"\"\n",
    "    A = np.empty((panels_bat.size, panels_bat.size), dtype=float)\n",
    "    # source contribution on a panel from itself\n",
    "    np.fill_diagonal(A, 0.5)\n",
    "    # source contribution on a panel from others\n",
    "    for i, panel_i in enumerate(panels_bat):\n",
    "        for j, panel_j in enumerate(panels_bat):\n",
    "            if i != j:\n",
    "                A[i, j] = 0.5/np.pi*integral(panel_i.xc, panel_i.yc, \n",
    "                                                panel_j,\n",
    "                                                np.cos(panel_i.beta),\n",
    "                                                np.sin(panel_i.beta))\n",
    "    return A"
   ]
  },
  {
   "cell_type": "code",
   "execution_count": 27,
   "metadata": {
    "collapsed": true
   },
   "outputs": [],
   "source": [
    "def vortex_contribution_normal(panels_bat):\n",
    "    \"\"\"\n",
    "    Builds the vortex contribution matrix for the normal velocity.\n",
    "    \n",
    "    Parameters\n",
    "    ----------\n",
    "    panels_bat: 1D array of Panel objects\n",
    "        List of panels for the bat.\n",
    "    \n",
    "    Returns\n",
    "    -------\n",
    "    A: 2D Numpy array of floats\n",
    "        Vortex contribution matrix.\n",
    "    \"\"\"\n",
    "    A = np.empty((panels_bat.size, panels_bat.size), dtype=float)\n",
    "    # vortex contribution on a panel from itself\n",
    "    np.fill_diagonal(A, 0.0)\n",
    "    # vortex contribution on a panel from others\n",
    "    for i, panel_i in enumerate(panels_bat):\n",
    "        for j, panel_j in enumerate(panels_bat):\n",
    "            if i != j:\n",
    "                A[i, j] = -0.5/np.pi*integral(panel_i.xc, panel_i.yc, \n",
    "                                                 panel_j,\n",
    "                                                 np.sin(panel_i.beta),\n",
    "                                                 -np.cos(panel_i.beta))\n",
    "    return A"
   ]
  },
  {
   "cell_type": "code",
   "execution_count": 28,
   "metadata": {
    "collapsed": true
   },
   "outputs": [],
   "source": [
    "def build_freestream_rhs(panels_bat, freestream):\n",
    "    \"\"\"\n",
    "    Builds the right-hand side of the system \n",
    "    arising from the freestream contribution.\n",
    "    \n",
    "    Parameters\n",
    "    ----------\n",
    "    panels_bat: 1D array of Panel objects\n",
    "        List of panels for the bat.\n",
    "    freestream: Freestream object\n",
    "        Freestream conditions.\n",
    "    \n",
    "    Returns\n",
    "    -------\n",
    "    b: 1D Numpy array of floats\n",
    "        Freestream contribution on each panel and on the Kutta condition.\n",
    "    \"\"\"\n",
    "    b = np.empty(panels_bat.size+1,dtype=float)\n",
    "    # freestream contribution on each panel\n",
    "    for i, panel in enumerate(panels_bat):\n",
    "        b[i] = -freestream.u_inf * np.cos(freestream.alpha - panel.beta)\n",
    "    # freestream contribution on the Kutta condition\n",
    "    b[-1] = -freestream.u_inf*( np.sin(freestream.alpha-panels_bat[0].beta)\n",
    "                               +np.sin(freestream.alpha-panels_bat[-1].beta) )\n",
    "    return b"
   ]
  },
  {
   "cell_type": "code",
   "execution_count": 29,
   "metadata": {
    "collapsed": false
   },
   "outputs": [],
   "source": [
    "A_source = source_contribution_normal(panels_bat)\n",
    "B_vortex = vortex_contribution_normal(panels_bat)"
   ]
  },
  {
   "cell_type": "code",
   "execution_count": 30,
   "metadata": {
    "collapsed": true
   },
   "outputs": [],
   "source": [
    "A = build_singularity_matrix(A_source, B_vortex)\n",
    "b = build_freestream_rhs(panels_bat, freestream)"
   ]
  },
  {
   "cell_type": "code",
   "execution_count": 31,
   "metadata": {
    "collapsed": true
   },
   "outputs": [],
   "source": [
    "# solve for singularity strengths\n",
    "strengths = np.linalg.solve(A, b)\n",
    "\n",
    "# store source strength on each panel\n",
    "for i, panel in enumerate(panels_bat):\n",
    "    panel.sigma = strengths[i]\n",
    "    \n",
    "# store circulation density\n",
    "gamma = strengths[-1]"
   ]
  },
  {
   "cell_type": "code",
   "execution_count": 32,
   "metadata": {
    "collapsed": false
   },
   "outputs": [
    {
     "name": "stdout",
     "output_type": "stream",
     "text": [
      "2.19503303533\n"
     ]
    }
   ],
   "source": [
    "print(gamma)"
   ]
  },
  {
   "cell_type": "code",
   "execution_count": 33,
   "metadata": {
    "collapsed": true
   },
   "outputs": [],
   "source": [
    "def compute_tangential_velocity_bat(panels_bat, freestream, gamma, A_source, B_vortex):\n",
    "    \"\"\"\n",
    "    Computes the tangential surface velocity.\n",
    "    \n",
    "    Parameters\n",
    "    ----------\n",
    "    panels_gull: 1D array of Panel objects\n",
    "        List of panels_gull.\n",
    "    freestream: Freestream object\n",
    "        Freestream conditions.\n",
    "    gamma: float\n",
    "        Circulation density.\n",
    "    A_source: 2D Numpy array of floats\n",
    "        Source contribution matrix for the normal velocity.\n",
    "    B_vortex: 2D Numpy array of floats\n",
    "        Vortex contribution matrix for the normal velocity.\n",
    "    \"\"\"\n",
    "    A = np.empty((panels_bat.size, panels_bat.size+1), dtype=float)\n",
    "    # matrix of source contribution on tangential velocity\n",
    "    # is the same than\n",
    "    # matrix of vortex contribution on normal velocity\n",
    "    A[:, :-1] = B_vortex\n",
    "    # matrix of vortex contribution on tangential velocity\n",
    "    # is the opposite of\n",
    "    # matrix of source contribution on normal velocity\n",
    "    A[:, -1] = -np.sum(A_source, axis=1)\n",
    "    # freestream contribution\n",
    "    b = freestream.u_inf*np.sin([freestream.alpha-panel.beta \n",
    "                                    for panel in panels_bat])\n",
    "    \n",
    "    strengths = np.append([panel.sigma for panel in panels_bat], gamma)\n",
    "    \n",
    "    tangential_velocities = np.dot(A, strengths) + b\n",
    "    \n",
    "    for i, panel in enumerate(panels_bat):\n",
    "        panel.vt = tangential_velocities[i]"
   ]
  },
  {
   "cell_type": "code",
   "execution_count": 34,
   "metadata": {
    "collapsed": true
   },
   "outputs": [],
   "source": [
    "compute_tangential_velocity_bat(panels_bat, freestream, gamma, A_source, B_vortex)"
   ]
  },
  {
   "cell_type": "code",
   "execution_count": 35,
   "metadata": {
    "collapsed": true
   },
   "outputs": [],
   "source": [
    "def compute_pressure_coefficient_bat(panels_bat, freestream):\n",
    "    \"\"\"\n",
    "    Computes the surface pressure coefficients.\n",
    "    \n",
    "    Parameters\n",
    "    ----------\n",
    "    panels_gull: 1D array of Panel objects\n",
    "        List of panels_gull.\n",
    "    freestream: Freestream object\n",
    "        Freestream conditions.\n",
    "    \"\"\"\n",
    "    for panel in panels_bat:\n",
    "        panel.cp_bat = 1.0 - (panel.vt/freestream.u_inf)**2"
   ]
  },
  {
   "cell_type": "code",
   "execution_count": 36,
   "metadata": {
    "collapsed": true
   },
   "outputs": [],
   "source": [
    "compute_pressure_coefficient_bat(panels_bat, freestream)"
   ]
  },
  {
   "cell_type": "markdown",
   "metadata": {},
   "source": [
    "### $C_L$ and Accuracy Check"
   ]
  },
  {
   "cell_type": "code",
   "execution_count": 37,
   "metadata": {
    "collapsed": false
   },
   "outputs": [
    {
     "name": "stdout",
     "output_type": "stream",
     "text": [
      "lift coefficient at AoA=0: CL_bat_0 = 1.187\n"
     ]
    }
   ],
   "source": [
    "c = abs(max(panel.xa for panel in panels_bat)\n",
    "        - min(panel.xa for panel in panels_bat))\n",
    "cl_bat_0 = (gamma*sum(panel.length for panel in panels_bat)\n",
    "      / (0.5*freestream.u_inf*c))\n",
    "print('lift coefficient at AoA=0: CL_bat_0 = {:0.3f}'.format(cl_bat_0))"
   ]
  },
  {
   "cell_type": "code",
   "execution_count": 38,
   "metadata": {
    "collapsed": false
   },
   "outputs": [
    {
     "name": "stdout",
     "output_type": "stream",
     "text": [
      "sum of singularity strengths: 0.174471\n"
     ]
    }
   ],
   "source": [
    "# calculate the accuracy\n",
    "accuracy = sum([panel.sigma*panel.length for panel in panels_bat])\n",
    "print('sum of singularity strengths: {:0.6f}'.format(accuracy))"
   ]
  },
  {
   "cell_type": "code",
   "execution_count": 39,
   "metadata": {
    "collapsed": false
   },
   "outputs": [
    {
     "data": {
      "image/png": "[encoded data removed]",
      "text/plain": [
       "<matplotlib.figure.Figure at 0x7f8b29df04a8>"
      ]
     },
     "metadata": {},
     "output_type": "display_data"
    }
   ],
   "source": [
    "# plot both\n",
    "plt.figure(figsize=(15,6))\n",
    "plt.suptitle('Pressure Distribution Comparison', fontsize=20, color='green')\n",
    "\n",
    "plt.subplot(121)\n",
    "plt.grid()\n",
    "plt.xlabel('x', fontsize=16)\n",
    "plt.ylabel('$C_p$', fontsize=16)\n",
    "plt.plot([panel.xc for panel in panels_gull if panel.loc=='upper'],\n",
    "         [panel.cp_gull for panel in panels_gull if panel.loc=='upper'],\n",
    "         label='upper surface', color='r', linewidth=2, linestyle='-', marker='o', markersize=6)\n",
    "plt.plot([panel.xc for panel in panels_gull if panel.loc=='lower'],\n",
    "         [panel.cp_gull for panel in panels_gull if panel.loc=='lower'],\n",
    "         label='lower surface', color='blue', linewidth=1, linestyle='-', marker='o', markersize=6)\n",
    "plt.legend(loc='best', prop={'size':16})\n",
    "plt.xlim(-0.1, 1.1)\n",
    "plt.ylim(1.5, -4.0)\n",
    "plt.title('Seagull, Number of panels: {}'.format(panels_gull.size), fontsize=16);\n",
    "\n",
    "plt.subplot(122)\n",
    "plt.grid()\n",
    "plt.xlabel('x', fontsize=16)\n",
    "plt.ylabel('$C_p$', fontsize=16)\n",
    "plt.plot([panel.xc for panel in panels_bat if panel.loc=='upper'],\n",
    "         [panel.cp_bat for panel in panels_bat if panel.loc=='upper'],\n",
    "         label='upper surface', color='r', linewidth=2, linestyle='-', marker='o', markersize=6)\n",
    "plt.plot([panel.xc for panel in panels_bat if panel.loc=='lower'],\n",
    "         [panel.cp_bat for panel in panels_bat if panel.loc=='lower'],\n",
    "         label='lower surface', color='blue', linewidth=1, linestyle='-', marker='o', markersize=6)\n",
    "plt.legend(loc='best', prop={'size':16})\n",
    "plt.xlim(-0.1, 1.1)\n",
    "plt.ylim(1.5, -4.0)\n",
    "plt.title('Bat, Number of panels: {}'.format(panels_bat.size), fontsize=16);"
   ]
  },
  {
   "cell_type": "markdown",
   "metadata": {},
   "source": [
    "The Pressure Distribution Comparison for $AoA=0$ shows the seagull and bat wings having roughly the same pressure values on the lower surface of the wing, with the seagull having a slightly lower pressure value on the upper surface (and thus likely generating more lift). The discrepancy in the bat wing distribution is likely due to the sharp leading edge of the bat wing."
   ]
  },
  {
   "cell_type": "markdown",
   "metadata": {},
   "source": [
    "# $AoA=5$"
   ]
  },
  {
   "cell_type": "code",
   "execution_count": 40,
   "metadata": {
    "collapsed": true
   },
   "outputs": [],
   "source": [
    "# new freestream conditions and freestream RHS\n",
    "freestream = Freestream(u_inf=7.6, alpha=5.0)"
   ]
  },
  {
   "cell_type": "markdown",
   "metadata": {},
   "source": [
    "### Redefine Matrices and Solve for Seagull"
   ]
  },
  {
   "cell_type": "code",
   "execution_count": 41,
   "metadata": {
    "collapsed": false
   },
   "outputs": [
    {
     "name": "stderr",
     "output_type": "stream",
     "text": [
      "/home/gil/anaconda3/lib/python3.5/site-packages/scipy/integrate/quadpack.py:356: IntegrationWarning: The maximum number of subdivisions (50) has been achieved.\n",
      "  If increasing the limit yields no improvement it is advised to analyze \n",
      "  the integrand in order to determine the difficulties.  If the position of a \n",
      "  local difficulty can be determined (singularity, discontinuity) one will \n",
      "  probably gain from splitting up the interval and calling the integrator \n",
      "  on the subranges.  Perhaps a special-purpose integrator should be used.\n",
      "  warnings.warn(msg, IntegrationWarning)\n"
     ]
    }
   ],
   "source": [
    "A_source = source_contribution_normal(panels_gull)\n",
    "B_vortex = vortex_contribution_normal(panels_gull)"
   ]
  },
  {
   "cell_type": "code",
   "execution_count": 42,
   "metadata": {
    "collapsed": true
   },
   "outputs": [],
   "source": [
    "A = build_singularity_matrix(A_source, B_vortex)\n",
    "b = build_freestream_rhs(panels_gull, freestream)"
   ]
  },
  {
   "cell_type": "code",
   "execution_count": 43,
   "metadata": {
    "collapsed": true
   },
   "outputs": [],
   "source": [
    "# solve for singularity strengths\n",
    "strengths = np.linalg.solve(A, b)\n",
    "\n",
    "# store source strength on each panel\n",
    "for i, panel in enumerate(panels_bat):\n",
    "    panel.sigma = strengths[i]\n",
    "    \n",
    "# store circulation density\n",
    "gamma = strengths[-1]"
   ]
  },
  {
   "cell_type": "code",
   "execution_count": 44,
   "metadata": {
    "collapsed": false
   },
   "outputs": [
    {
     "name": "stdout",
     "output_type": "stream",
     "text": [
      "3.87626127411\n"
     ]
    }
   ],
   "source": [
    "print(gamma)"
   ]
  },
  {
   "cell_type": "code",
   "execution_count": 45,
   "metadata": {
    "collapsed": false
   },
   "outputs": [],
   "source": [
    "compute_tangential_velocity_gull(panels_gull, freestream, gamma, A_source, B_vortex)"
   ]
  },
  {
   "cell_type": "code",
   "execution_count": 46,
   "metadata": {
    "collapsed": true
   },
   "outputs": [],
   "source": [
    "compute_pressure_coefficient_gull(panels_gull, freestream)"
   ]
  },
  {
   "cell_type": "markdown",
   "metadata": {},
   "source": [
    "### $C_L$ and Accuracy Check"
   ]
  },
  {
   "cell_type": "code",
   "execution_count": 47,
   "metadata": {
    "collapsed": false
   },
   "outputs": [
    {
     "name": "stdout",
     "output_type": "stream",
     "text": [
      "lift coefficient at AoA=5: CL_gull_5 = 2.141\n"
     ]
    }
   ],
   "source": [
    "c = abs(max(panel.xa for panel in panels_gull)\n",
    "        - min(panel.xa for panel in panels_gull))\n",
    "cl_gull_5 = (gamma*sum(panel.length for panel in panels_gull)\n",
    "      / (0.5*freestream.u_inf*c))\n",
    "print('lift coefficient at AoA=5: CL_gull_5 = {:0.3f}'.format(cl_gull_5))"
   ]
  },
  {
   "cell_type": "code",
   "execution_count": 48,
   "metadata": {
    "collapsed": false
   },
   "outputs": [
    {
     "name": "stdout",
     "output_type": "stream",
     "text": [
      "sum of singularity strengths: 0.000900\n"
     ]
    }
   ],
   "source": [
    "# calculate the accuracy\n",
    "accuracy = sum([panel.sigma*panel.length for panel in panels_gull])\n",
    "print('sum of singularity strengths: {:0.6f}'.format(accuracy))"
   ]
  },
  {
   "cell_type": "markdown",
   "metadata": {},
   "source": [
    "### Redefine Matrices and Solve for Bat"
   ]
  },
  {
   "cell_type": "code",
   "execution_count": 49,
   "metadata": {
    "collapsed": false
   },
   "outputs": [],
   "source": [
    "A_source = source_contribution_normal(panels_bat)\n",
    "B_vortex = vortex_contribution_normal(panels_bat)"
   ]
  },
  {
   "cell_type": "code",
   "execution_count": 50,
   "metadata": {
    "collapsed": true
   },
   "outputs": [],
   "source": [
    "A = build_singularity_matrix(A_source, B_vortex)\n",
    "b = build_freestream_rhs(panels_bat, freestream)"
   ]
  },
  {
   "cell_type": "code",
   "execution_count": 51,
   "metadata": {
    "collapsed": true
   },
   "outputs": [],
   "source": [
    "# solve for singularity strengths\n",
    "strengths = np.linalg.solve(A, b)\n",
    "\n",
    "# store source strength on each panel\n",
    "for i, panel in enumerate(panels_bat):\n",
    "    panel.sigma = strengths[i]\n",
    "    \n",
    "# store circulation density\n",
    "gamma = strengths[-1]"
   ]
  },
  {
   "cell_type": "code",
   "execution_count": 52,
   "metadata": {
    "collapsed": false
   },
   "outputs": [
    {
     "name": "stdout",
     "output_type": "stream",
     "text": [
      "3.1883699592\n"
     ]
    }
   ],
   "source": [
    "print(gamma)"
   ]
  },
  {
   "cell_type": "code",
   "execution_count": 53,
   "metadata": {
    "collapsed": false
   },
   "outputs": [],
   "source": [
    "compute_tangential_velocity_bat(panels_bat, freestream, gamma, A_source, B_vortex)"
   ]
  },
  {
   "cell_type": "code",
   "execution_count": 54,
   "metadata": {
    "collapsed": true
   },
   "outputs": [],
   "source": [
    "compute_pressure_coefficient_bat(panels_bat, freestream)"
   ]
  },
  {
   "cell_type": "markdown",
   "metadata": {},
   "source": [
    "### $C_L$ and Accuracy Check"
   ]
  },
  {
   "cell_type": "code",
   "execution_count": 55,
   "metadata": {
    "collapsed": false
   },
   "outputs": [
    {
     "name": "stdout",
     "output_type": "stream",
     "text": [
      "lift coefficient at AoA=5: CL_bat_5 = 1.724\n"
     ]
    }
   ],
   "source": [
    "c = abs(max(panel.xa for panel in panels_bat)\n",
    "        - min(panel.xa for panel in panels_bat))\n",
    "cl_bat_5 = (gamma*sum(panel.length for panel in panels_bat)\n",
    "      / (0.5*freestream.u_inf*c))\n",
    "print('lift coefficient at AoA=5: CL_bat_5 = {:0.3f}'.format(cl_bat_5))"
   ]
  },
  {
   "cell_type": "code",
   "execution_count": 56,
   "metadata": {
    "collapsed": false
   },
   "outputs": [
    {
     "name": "stdout",
     "output_type": "stream",
     "text": [
      "sum of singularity strengths: -0.461868\n"
     ]
    }
   ],
   "source": [
    "# calculate the accuracy\n",
    "accuracy = sum([panel.sigma*panel.length for panel in panels_bat])\n",
    "print('sum of singularity strengths: {:0.6f}'.format(accuracy))"
   ]
  },
  {
   "cell_type": "code",
   "execution_count": 57,
   "metadata": {
    "collapsed": false
   },
   "outputs": [
    {
     "data": {
      "image/png": "[encoded data removed]",
      "text/plain": [
       "<matplotlib.figure.Figure at 0x7f8b259497f0>"
      ]
     },
     "metadata": {},
     "output_type": "display_data"
    }
   ],
   "source": [
    "# plot both pressure distributions\n",
    "plt.figure(figsize=(15,6))\n",
    "plt.suptitle('Pressure Distribution Comparison', fontsize=20, color='green')\n",
    "\n",
    "plt.subplot(121)\n",
    "plt.grid()\n",
    "plt.xlabel('x', fontsize=16)\n",
    "plt.ylabel('$C_p$', fontsize=16)\n",
    "plt.plot([panel.xc for panel in panels_gull if panel.loc=='upper'],\n",
    "         [panel.cp_gull for panel in panels_gull if panel.loc=='upper'],\n",
    "         label='upper surface', color='r', linewidth=2, linestyle='-', marker='o', markersize=6)\n",
    "plt.plot([panel.xc for panel in panels_gull if panel.loc=='lower'],\n",
    "         [panel.cp_gull for panel in panels_gull if panel.loc=='lower'],\n",
    "         label='lower surface', color='blue', linewidth=1, linestyle='-', marker='o', markersize=6)\n",
    "plt.legend(loc='best', prop={'size':16})\n",
    "plt.xlim(-0.1, 1.1)\n",
    "plt.ylim(1.5, -4.0)\n",
    "plt.title('Seagull, Number of panels: {}'.format(panels_gull.size), fontsize=16)\n",
    "\n",
    "plt.subplot(122)\n",
    "plt.grid()\n",
    "plt.xlabel('x', fontsize=16)\n",
    "plt.ylabel('$C_p$', fontsize=16)\n",
    "plt.plot([panel.xc for panel in panels_bat if panel.loc=='upper'],\n",
    "         [panel.cp_bat for panel in panels_bat if panel.loc=='upper'],\n",
    "         label='upper surface', color='r', linewidth=2, linestyle='-', marker='o', markersize=6)\n",
    "plt.plot([panel.xc for panel in panels_bat if panel.loc=='lower'],\n",
    "         [panel.cp_bat for panel in panels_bat if panel.loc=='lower'],\n",
    "         label='lower surface', color='blue', linewidth=1, linestyle='-', marker='o', markersize=6)\n",
    "plt.legend(loc='best', prop={'size':16})\n",
    "plt.xlim(-0.1, 1.1)\n",
    "plt.ylim(1.5, -8.0)\n",
    "plt.title('Bat, Number of panels: {}'.format(panels_bat.size), fontsize=16);"
   ]
  },
  {
   "cell_type": "markdown",
   "metadata": {},
   "source": [
    "For $AoA=5$ shown here, one can note that the discrepancy in the bat wing distribution has disappeared. The increased $AoA$ has likely created an effective situation similar to a standard cambered airfoil in a zero $AoA$ flow.\n",
    "\n",
    "Further, the seagull wing has a greater pressure on the lower surface and lower pressure on the upper surface, generating more lift, despite the lower pressure at the leading edge of the bat wing. "
   ]
  },
  {
   "cell_type": "markdown",
   "metadata": {},
   "source": [
    "# $AoA=10$"
   ]
  },
  {
   "cell_type": "code",
   "execution_count": 58,
   "metadata": {
    "collapsed": true
   },
   "outputs": [],
   "source": [
    "# new freestream conditions and freestream RHS\n",
    "freestream = Freestream(u_inf=7.6, alpha=10.0)"
   ]
  },
  {
   "cell_type": "markdown",
   "metadata": {},
   "source": [
    "### Redefine Matrices and Solve for Seagull"
   ]
  },
  {
   "cell_type": "code",
   "execution_count": 59,
   "metadata": {
    "collapsed": false
   },
   "outputs": [
    {
     "name": "stderr",
     "output_type": "stream",
     "text": [
      "/home/gil/anaconda3/lib/python3.5/site-packages/scipy/integrate/quadpack.py:356: IntegrationWarning: The maximum number of subdivisions (50) has been achieved.\n",
      "  If increasing the limit yields no improvement it is advised to analyze \n",
      "  the integrand in order to determine the difficulties.  If the position of a \n",
      "  local difficulty can be determined (singularity, discontinuity) one will \n",
      "  probably gain from splitting up the interval and calling the integrator \n",
      "  on the subranges.  Perhaps a special-purpose integrator should be used.\n",
      "  warnings.warn(msg, IntegrationWarning)\n"
     ]
    }
   ],
   "source": [
    "A_source = source_contribution_normal(panels_gull)\n",
    "B_vortex = vortex_contribution_normal(panels_gull)"
   ]
  },
  {
   "cell_type": "code",
   "execution_count": 60,
   "metadata": {
    "collapsed": true
   },
   "outputs": [],
   "source": [
    "A = build_singularity_matrix(A_source, B_vortex)\n",
    "b = build_freestream_rhs(panels_gull, freestream)"
   ]
  },
  {
   "cell_type": "code",
   "execution_count": 61,
   "metadata": {
    "collapsed": true
   },
   "outputs": [],
   "source": [
    "# solve for singularity strengths\n",
    "strengths = np.linalg.solve(A, b)\n",
    "\n",
    "# store source strength on each panel\n",
    "for i, panel in enumerate(panels_bat):\n",
    "    panel.sigma = strengths[i]\n",
    "    \n",
    "# store circulation density\n",
    "gamma = strengths[-1]"
   ]
  },
  {
   "cell_type": "code",
   "execution_count": 62,
   "metadata": {
    "collapsed": false
   },
   "outputs": [
    {
     "name": "stdout",
     "output_type": "stream",
     "text": [
      "4.88923770176\n"
     ]
    }
   ],
   "source": [
    "print(gamma)"
   ]
  },
  {
   "cell_type": "code",
   "execution_count": 63,
   "metadata": {
    "collapsed": false
   },
   "outputs": [],
   "source": [
    "compute_tangential_velocity_gull(panels_gull, freestream, gamma, A_source, B_vortex)"
   ]
  },
  {
   "cell_type": "code",
   "execution_count": 64,
   "metadata": {
    "collapsed": true
   },
   "outputs": [],
   "source": [
    "compute_pressure_coefficient_gull(panels_gull, freestream)"
   ]
  },
  {
   "cell_type": "markdown",
   "metadata": {},
   "source": [
    "### $C_L$ and Accuracy Check"
   ]
  },
  {
   "cell_type": "code",
   "execution_count": 65,
   "metadata": {
    "collapsed": false
   },
   "outputs": [
    {
     "name": "stdout",
     "output_type": "stream",
     "text": [
      "lift coefficient at AoA=10: CL_gull_10 = 2.701\n"
     ]
    }
   ],
   "source": [
    "c = abs(max(panel.xa for panel in panels_gull)\n",
    "        - min(panel.xa for panel in panels_gull))\n",
    "cl_gull_10 = (gamma*sum(panel.length for panel in panels_gull)\n",
    "      / (0.5*freestream.u_inf*c))\n",
    "print('lift coefficient at AoA=10: CL_gull_10 = {:0.3f}'.format(cl_gull_10))"
   ]
  },
  {
   "cell_type": "code",
   "execution_count": 66,
   "metadata": {
    "collapsed": false
   },
   "outputs": [
    {
     "name": "stdout",
     "output_type": "stream",
     "text": [
      "sum of singularity strengths: 0.000900\n"
     ]
    }
   ],
   "source": [
    "# calculate the accuracy\n",
    "accuracy = sum([panel.sigma*panel.length for panel in panels_gull])\n",
    "print('sum of singularity strengths: {:0.6f}'.format(accuracy))"
   ]
  },
  {
   "cell_type": "markdown",
   "metadata": {},
   "source": [
    "### Redefine Matrices and Solve for Bat"
   ]
  },
  {
   "cell_type": "code",
   "execution_count": 67,
   "metadata": {
    "collapsed": false
   },
   "outputs": [],
   "source": [
    "A_source = source_contribution_normal(panels_bat)\n",
    "B_vortex = vortex_contribution_normal(panels_bat)"
   ]
  },
  {
   "cell_type": "code",
   "execution_count": 68,
   "metadata": {
    "collapsed": true
   },
   "outputs": [],
   "source": [
    "A = build_singularity_matrix(A_source, B_vortex)\n",
    "b = build_freestream_rhs(panels_bat, freestream)"
   ]
  },
  {
   "cell_type": "code",
   "execution_count": 69,
   "metadata": {
    "collapsed": true
   },
   "outputs": [],
   "source": [
    "# solve for singularity strengths\n",
    "strengths = np.linalg.solve(A, b)\n",
    "\n",
    "# store source strength on each panel\n",
    "for i, panel in enumerate(panels_bat):\n",
    "    panel.sigma = strengths[i]\n",
    "    \n",
    "# store circulation density\n",
    "gamma = strengths[-1]"
   ]
  },
  {
   "cell_type": "code",
   "execution_count": 70,
   "metadata": {
    "collapsed": false
   },
   "outputs": [
    {
     "name": "stdout",
     "output_type": "stream",
     "text": [
      "4.1574414625\n"
     ]
    }
   ],
   "source": [
    "print(gamma)"
   ]
  },
  {
   "cell_type": "code",
   "execution_count": 71,
   "metadata": {
    "collapsed": false
   },
   "outputs": [],
   "source": [
    "compute_tangential_velocity_bat(panels_bat, freestream, gamma, A_source, B_vortex)"
   ]
  },
  {
   "cell_type": "code",
   "execution_count": 72,
   "metadata": {
    "collapsed": true
   },
   "outputs": [],
   "source": [
    "compute_pressure_coefficient_bat(panels_bat, freestream)"
   ]
  },
  {
   "cell_type": "markdown",
   "metadata": {},
   "source": [
    "### $C_L$ and Accuracy Check"
   ]
  },
  {
   "cell_type": "code",
   "execution_count": 73,
   "metadata": {
    "collapsed": false
   },
   "outputs": [
    {
     "name": "stdout",
     "output_type": "stream",
     "text": [
      "lift coefficient at AoA=10: CL_bat_10 = 2.248\n"
     ]
    }
   ],
   "source": [
    "c = abs(max(panel.xa for panel in panels_bat)\n",
    "        - min(panel.xa for panel in panels_bat))\n",
    "cl_bat_10 = (gamma*sum(panel.length for panel in panels_bat)\n",
    "      / (0.5*freestream.u_inf*c))\n",
    "print('lift coefficient at AoA=10: CL_bat_10 = {:0.3f}'.format(cl_bat_10))"
   ]
  },
  {
   "cell_type": "code",
   "execution_count": 74,
   "metadata": {
    "collapsed": false
   },
   "outputs": [
    {
     "name": "stdout",
     "output_type": "stream",
     "text": [
      "sum of singularity strengths: -1.094692\n"
     ]
    }
   ],
   "source": [
    "# calculate the accuracy\n",
    "accuracy = sum([panel.sigma*panel.length for panel in panels_bat])\n",
    "print('sum of singularity strengths: {:0.6f}'.format(accuracy))"
   ]
  },
  {
   "cell_type": "code",
   "execution_count": 75,
   "metadata": {
    "collapsed": false
   },
   "outputs": [
    {
     "data": {
      "image/png": "[encoded data removed]",
      "text/plain": [
       "<matplotlib.figure.Figure at 0x7f8b241bfcc0>"
      ]
     },
     "metadata": {},
     "output_type": "display_data"
    }
   ],
   "source": [
    "# plot both pressure distributions\n",
    "plt.figure(figsize=(15,6))\n",
    "plt.suptitle('Pressure Distribution Comparison', fontsize=20, color='green')\n",
    "\n",
    "plt.subplot(121)\n",
    "plt.grid()\n",
    "plt.xlabel('x', fontsize=16)\n",
    "plt.ylabel('$C_p$', fontsize=16)\n",
    "plt.plot([panel.xc for panel in panels_gull if panel.loc=='upper'],\n",
    "         [panel.cp_gull for panel in panels_gull if panel.loc=='upper'],\n",
    "         label='upper surface', color='r', linewidth=2, linestyle='-', marker='o', markersize=6)\n",
    "plt.plot([panel.xc for panel in panels_gull if panel.loc=='lower'],\n",
    "         [panel.cp_gull for panel in panels_gull if panel.loc=='lower'],\n",
    "         label='lower surface', color='blue', linewidth=1, linestyle='-', marker='o', markersize=6)\n",
    "plt.legend(loc='best', prop={'size':16})\n",
    "plt.xlim(-0.1, 1.1)\n",
    "plt.ylim(1.5, -4.0)\n",
    "plt.title('Seagull, Number of panels: {}'.format(panels_gull.size), fontsize=16)\n",
    "\n",
    "plt.subplot(122)\n",
    "plt.grid()\n",
    "plt.xlabel('x', fontsize=16)\n",
    "plt.ylabel('$C_p$', fontsize=16)\n",
    "plt.plot([panel.xc for panel in panels_bat if panel.loc=='upper'],\n",
    "         [panel.cp_bat for panel in panels_bat if panel.loc=='upper'],\n",
    "         label='upper surface', color='r', linewidth=2, linestyle='-', marker='o', markersize=6)\n",
    "plt.plot([panel.xc for panel in panels_bat if panel.loc=='lower'],\n",
    "         [panel.cp_bat for panel in panels_bat if panel.loc=='lower'],\n",
    "         label='lower surface', color='blue', linewidth=1, linestyle='-', marker='o', markersize=6)\n",
    "plt.legend(loc='best', prop={'size':16})\n",
    "plt.xlim(-0.1, 1.1)\n",
    "plt.ylim(2.0, -50.0)\n",
    "plt.title('Bat, Number of panels: {}'.format(panels_bat.size), fontsize=16);"
   ]
  },
  {
   "cell_type": "markdown",
   "metadata": {},
   "source": [
    "As expected, the higher $AoA$ yields similar results to an increased degree"
   ]
  },
  {
   "cell_type": "markdown",
   "metadata": {},
   "source": [
    "# $AoA=15$"
   ]
  },
  {
   "cell_type": "code",
   "execution_count": 76,
   "metadata": {
    "collapsed": true
   },
   "outputs": [],
   "source": [
    "# new freestream conditions and freestream RHS\n",
    "freestream = Freestream(u_inf=7.6, alpha=15.0)"
   ]
  },
  {
   "cell_type": "markdown",
   "metadata": {},
   "source": [
    "### Redefine Matrices and Solve for Seagull"
   ]
  },
  {
   "cell_type": "code",
   "execution_count": 77,
   "metadata": {
    "collapsed": false
   },
   "outputs": [
    {
     "name": "stderr",
     "output_type": "stream",
     "text": [
      "/home/gil/anaconda3/lib/python3.5/site-packages/scipy/integrate/quadpack.py:356: IntegrationWarning: The maximum number of subdivisions (50) has been achieved.\n",
      "  If increasing the limit yields no improvement it is advised to analyze \n",
      "  the integrand in order to determine the difficulties.  If the position of a \n",
      "  local difficulty can be determined (singularity, discontinuity) one will \n",
      "  probably gain from splitting up the interval and calling the integrator \n",
      "  on the subranges.  Perhaps a special-purpose integrator should be used.\n",
      "  warnings.warn(msg, IntegrationWarning)\n"
     ]
    }
   ],
   "source": [
    "A_source = source_contribution_normal(panels_gull)\n",
    "B_vortex = vortex_contribution_normal(panels_gull)"
   ]
  },
  {
   "cell_type": "code",
   "execution_count": 78,
   "metadata": {
    "collapsed": true
   },
   "outputs": [],
   "source": [
    "A = build_singularity_matrix(A_source, B_vortex)\n",
    "b = build_freestream_rhs(panels_gull, freestream)"
   ]
  },
  {
   "cell_type": "code",
   "execution_count": 79,
   "metadata": {
    "collapsed": true
   },
   "outputs": [],
   "source": [
    "# solve for singularity strengths\n",
    "strengths = np.linalg.solve(A, b)\n",
    "\n",
    "# store source strength on each panel\n",
    "for i, panel in enumerate(panels_bat):\n",
    "    panel.sigma = strengths[i]\n",
    "    \n",
    "# store circulation density\n",
    "gamma = strengths[-1]"
   ]
  },
  {
   "cell_type": "code",
   "execution_count": 80,
   "metadata": {
    "collapsed": false
   },
   "outputs": [
    {
     "name": "stdout",
     "output_type": "stream",
     "text": [
      "5.86500407829\n"
     ]
    }
   ],
   "source": [
    "print(gamma)"
   ]
  },
  {
   "cell_type": "code",
   "execution_count": 81,
   "metadata": {
    "collapsed": false
   },
   "outputs": [],
   "source": [
    "compute_tangential_velocity_gull(panels_gull, freestream, gamma, A_source, B_vortex)"
   ]
  },
  {
   "cell_type": "code",
   "execution_count": 82,
   "metadata": {
    "collapsed": true
   },
   "outputs": [],
   "source": [
    "compute_pressure_coefficient_gull(panels_gull, freestream)"
   ]
  },
  {
   "cell_type": "markdown",
   "metadata": {},
   "source": [
    "### $C_L$ and Accuracy Check"
   ]
  },
  {
   "cell_type": "code",
   "execution_count": 83,
   "metadata": {
    "collapsed": false
   },
   "outputs": [
    {
     "name": "stdout",
     "output_type": "stream",
     "text": [
      "lift coefficient at AoA=15: CL_gull_15 = 3.240\n"
     ]
    }
   ],
   "source": [
    "c = abs(max(panel.xa for panel in panels_gull)\n",
    "        - min(panel.xa for panel in panels_gull))\n",
    "cl_gull_15 = (gamma*sum(panel.length for panel in panels_gull)\n",
    "      / (0.5*freestream.u_inf*c))\n",
    "print('lift coefficient at AoA=15: CL_gull_15 = {:0.3f}'.format(cl_gull_15))"
   ]
  },
  {
   "cell_type": "code",
   "execution_count": 84,
   "metadata": {
    "collapsed": false
   },
   "outputs": [
    {
     "name": "stdout",
     "output_type": "stream",
     "text": [
      "sum of singularity strengths: 0.000900\n"
     ]
    }
   ],
   "source": [
    "# calculate the accuracy\n",
    "accuracy = sum([panel.sigma*panel.length for panel in panels_gull])\n",
    "print('sum of singularity strengths: {:0.6f}'.format(accuracy))"
   ]
  },
  {
   "cell_type": "markdown",
   "metadata": {},
   "source": [
    "### Redefine Matrices and Solve for Bat"
   ]
  },
  {
   "cell_type": "code",
   "execution_count": 85,
   "metadata": {
    "collapsed": false
   },
   "outputs": [],
   "source": [
    "A_source = source_contribution_normal(panels_bat)\n",
    "B_vortex = vortex_contribution_normal(panels_bat)"
   ]
  },
  {
   "cell_type": "code",
   "execution_count": 86,
   "metadata": {
    "collapsed": true
   },
   "outputs": [],
   "source": [
    "A = build_singularity_matrix(A_source, B_vortex)\n",
    "b = build_freestream_rhs(panels_bat, freestream)"
   ]
  },
  {
   "cell_type": "code",
   "execution_count": 87,
   "metadata": {
    "collapsed": true
   },
   "outputs": [],
   "source": [
    "# solve for singularity strengths\n",
    "strengths = np.linalg.solve(A, b)\n",
    "\n",
    "# store source strength on each panel\n",
    "for i, panel in enumerate(panels_bat):\n",
    "    panel.sigma = strengths[i]\n",
    "    \n",
    "# store circulation density\n",
    "gamma = strengths[-1]"
   ]
  },
  {
   "cell_type": "code",
   "execution_count": 88,
   "metadata": {
    "collapsed": false
   },
   "outputs": [
    {
     "name": "stdout",
     "output_type": "stream",
     "text": [
      "5.09487232593\n"
     ]
    }
   ],
   "source": [
    "print(gamma)"
   ]
  },
  {
   "cell_type": "code",
   "execution_count": 89,
   "metadata": {
    "collapsed": false
   },
   "outputs": [],
   "source": [
    "compute_tangential_velocity_bat(panels_bat, freestream, gamma, A_source, B_vortex)"
   ]
  },
  {
   "cell_type": "code",
   "execution_count": 90,
   "metadata": {
    "collapsed": true
   },
   "outputs": [],
   "source": [
    "compute_pressure_coefficient_bat(panels_bat, freestream)"
   ]
  },
  {
   "cell_type": "markdown",
   "metadata": {},
   "source": [
    "### $C_L$ and Accuracy Check"
   ]
  },
  {
   "cell_type": "code",
   "execution_count": 91,
   "metadata": {
    "collapsed": false
   },
   "outputs": [
    {
     "name": "stdout",
     "output_type": "stream",
     "text": [
      "lift coefficient at AoA=15: CL_bat_15 = 2.754\n"
     ]
    }
   ],
   "source": [
    "c = abs(max(panel.xa for panel in panels_bat)\n",
    "        - min(panel.xa for panel in panels_bat))\n",
    "cl_bat_15 = (gamma*sum(panel.length for panel in panels_bat)\n",
    "      / (0.5*freestream.u_inf*c))\n",
    "print('lift coefficient at AoA=15: CL_bat_15 = {:0.3f}'.format(cl_bat_15))"
   ]
  },
  {
   "cell_type": "code",
   "execution_count": 92,
   "metadata": {
    "collapsed": false
   },
   "outputs": [
    {
     "name": "stdout",
     "output_type": "stream",
     "text": [
      "sum of singularity strengths: -1.719185\n"
     ]
    }
   ],
   "source": [
    "# calculate the accuracy\n",
    "accuracy = sum([panel.sigma*panel.length for panel in panels_bat])\n",
    "print('sum of singularity strengths: {:0.6f}'.format(accuracy))"
   ]
  },
  {
   "cell_type": "code",
   "execution_count": 93,
   "metadata": {
    "collapsed": false
   },
   "outputs": [
    {
     "data": {
      "image/png": "[encoded data removed]",
      "text/plain": [
       "<matplotlib.figure.Figure at 0x7f8b2594ba90>"
      ]
     },
     "metadata": {},
     "output_type": "display_data"
    }
   ],
   "source": [
    "# plot both pressure distributions\n",
    "plt.figure(figsize=(15,6))\n",
    "plt.suptitle('Pressure Distribution Comparison', fontsize=20, color='green')\n",
    "\n",
    "plt.subplot(121)\n",
    "plt.grid()\n",
    "plt.xlabel('x', fontsize=16)\n",
    "plt.ylabel('$C_p$', fontsize=16)\n",
    "plt.plot([panel.xc for panel in panels_gull if panel.loc=='upper'],\n",
    "         [panel.cp_gull for panel in panels_gull if panel.loc=='upper'],\n",
    "         label='upper surface', color='r', linewidth=2, linestyle='-', marker='o', markersize=6)\n",
    "plt.plot([panel.xc for panel in panels_gull if panel.loc=='lower'],\n",
    "         [panel.cp_gull for panel in panels_gull if panel.loc=='lower'],\n",
    "         label='lower surface', color='blue', linewidth=1, linestyle='-', marker='o', markersize=6)\n",
    "plt.legend(loc='best', prop={'size':16})\n",
    "plt.xlim(-0.1, 1.1)\n",
    "plt.ylim(1.5, -4.0)\n",
    "plt.title('Seagull, Number of panels: {}'.format(panels_gull.size), fontsize=16)\n",
    "\n",
    "plt.subplot(122)\n",
    "plt.grid()\n",
    "plt.xlabel('x', fontsize=16)\n",
    "plt.ylabel('$C_p$', fontsize=16)\n",
    "plt.plot([panel.xc for panel in panels_bat if panel.loc=='upper'],\n",
    "         [panel.cp_bat for panel in panels_bat if panel.loc=='upper'],\n",
    "         label='upper surface', color='r', linewidth=2, linestyle='-', marker='o', markersize=6)\n",
    "plt.plot([panel.xc for panel in panels_bat if panel.loc=='lower'],\n",
    "         [panel.cp_bat for panel in panels_bat if panel.loc=='lower'],\n",
    "         label='lower surface', color='blue', linewidth=1, linestyle='-', marker='o', markersize=6)\n",
    "plt.legend(loc='best', prop={'size':16})\n",
    "plt.xlim(-0.1, 1.1)\n",
    "plt.ylim(2.0, -50.0)\n",
    "plt.title('Bat, Number of panels: {}'.format(panels_bat.size), fontsize=16);"
   ]
  },
  {
   "cell_type": "markdown",
   "metadata": {},
   "source": [
    "# $AoA=20$"
   ]
  },
  {
   "cell_type": "code",
   "execution_count": 94,
   "metadata": {
    "collapsed": true
   },
   "outputs": [],
   "source": [
    "# new freestream conditions and freestream RHS\n",
    "freestream = Freestream(u_inf=7.6, alpha=20.0)"
   ]
  },
  {
   "cell_type": "markdown",
   "metadata": {},
   "source": [
    "### Redefine Matrices and Solve for Seagull"
   ]
  },
  {
   "cell_type": "code",
   "execution_count": 95,
   "metadata": {
    "collapsed": false
   },
   "outputs": [
    {
     "name": "stderr",
     "output_type": "stream",
     "text": [
      "/home/gil/anaconda3/lib/python3.5/site-packages/scipy/integrate/quadpack.py:356: IntegrationWarning: The maximum number of subdivisions (50) has been achieved.\n",
      "  If increasing the limit yields no improvement it is advised to analyze \n",
      "  the integrand in order to determine the difficulties.  If the position of a \n",
      "  local difficulty can be determined (singularity, discontinuity) one will \n",
      "  probably gain from splitting up the interval and calling the integrator \n",
      "  on the subranges.  Perhaps a special-purpose integrator should be used.\n",
      "  warnings.warn(msg, IntegrationWarning)\n"
     ]
    }
   ],
   "source": [
    "A_source = source_contribution_normal(panels_gull)\n",
    "B_vortex = vortex_contribution_normal(panels_gull)"
   ]
  },
  {
   "cell_type": "code",
   "execution_count": 96,
   "metadata": {
    "collapsed": true
   },
   "outputs": [],
   "source": [
    "A = build_singularity_matrix(A_source, B_vortex)\n",
    "b = build_freestream_rhs(panels_gull, freestream)"
   ]
  },
  {
   "cell_type": "code",
   "execution_count": 97,
   "metadata": {
    "collapsed": true
   },
   "outputs": [],
   "source": [
    "# solve for singularity strengths\n",
    "strengths = np.linalg.solve(A, b)\n",
    "\n",
    "# store source strength on each panel\n",
    "for i, panel in enumerate(panels_bat):\n",
    "    panel.sigma = strengths[i]\n",
    "    \n",
    "# store circulation density\n",
    "gamma = strengths[-1]"
   ]
  },
  {
   "cell_type": "code",
   "execution_count": 98,
   "metadata": {
    "collapsed": false
   },
   "outputs": [
    {
     "name": "stdout",
     "output_type": "stream",
     "text": [
      "6.79613423241\n"
     ]
    }
   ],
   "source": [
    "print(gamma)"
   ]
  },
  {
   "cell_type": "code",
   "execution_count": 99,
   "metadata": {
    "collapsed": false
   },
   "outputs": [],
   "source": [
    "compute_tangential_velocity_gull(panels_gull, freestream, gamma, A_source, B_vortex)"
   ]
  },
  {
   "cell_type": "code",
   "execution_count": 100,
   "metadata": {
    "collapsed": true
   },
   "outputs": [],
   "source": [
    "compute_pressure_coefficient_gull(panels_gull, freestream)"
   ]
  },
  {
   "cell_type": "markdown",
   "metadata": {},
   "source": [
    "### $C_L$ and Accuracy Check"
   ]
  },
  {
   "cell_type": "code",
   "execution_count": 101,
   "metadata": {
    "collapsed": false
   },
   "outputs": [
    {
     "name": "stdout",
     "output_type": "stream",
     "text": [
      "lift coefficient at AoA=20: CL_gull_20 = 3.755\n"
     ]
    }
   ],
   "source": [
    "c = abs(max(panel.xa for panel in panels_gull)\n",
    "        - min(panel.xa for panel in panels_gull))\n",
    "cl_gull_20 = (gamma*sum(panel.length for panel in panels_gull)\n",
    "      / (0.5*freestream.u_inf*c))\n",
    "print('lift coefficient at AoA=20: CL_gull_20 = {:0.3f}'.format(cl_gull_20))"
   ]
  },
  {
   "cell_type": "code",
   "execution_count": 102,
   "metadata": {
    "collapsed": false
   },
   "outputs": [
    {
     "name": "stdout",
     "output_type": "stream",
     "text": [
      "sum of singularity strengths: 0.000900\n"
     ]
    }
   ],
   "source": [
    "# calculate the accuracy\n",
    "accuracy = sum([panel.sigma*panel.length for panel in panels_gull])\n",
    "print('sum of singularity strengths: {:0.6f}'.format(accuracy))"
   ]
  },
  {
   "cell_type": "markdown",
   "metadata": {},
   "source": [
    "### Redefine Matrices and Solve for Bat"
   ]
  },
  {
   "cell_type": "code",
   "execution_count": 103,
   "metadata": {
    "collapsed": false
   },
   "outputs": [],
   "source": [
    "A_source = source_contribution_normal(panels_bat)\n",
    "B_vortex = vortex_contribution_normal(panels_bat)"
   ]
  },
  {
   "cell_type": "code",
   "execution_count": 104,
   "metadata": {
    "collapsed": true
   },
   "outputs": [],
   "source": [
    "A = build_singularity_matrix(A_source, B_vortex)\n",
    "b = build_freestream_rhs(panels_bat, freestream)"
   ]
  },
  {
   "cell_type": "code",
   "execution_count": 105,
   "metadata": {
    "collapsed": true
   },
   "outputs": [],
   "source": [
    "# solve for singularity strengths\n",
    "strengths = np.linalg.solve(A, b)\n",
    "\n",
    "# store source strength on each panel\n",
    "for i, panel in enumerate(panels_bat):\n",
    "    panel.sigma = strengths[i]\n",
    "    \n",
    "# store circulation density\n",
    "gamma = strengths[-1]"
   ]
  },
  {
   "cell_type": "code",
   "execution_count": 106,
   "metadata": {
    "collapsed": false
   },
   "outputs": [
    {
     "name": "stdout",
     "output_type": "stream",
     "text": [
      "5.9935281346\n"
     ]
    }
   ],
   "source": [
    "print(gamma)"
   ]
  },
  {
   "cell_type": "code",
   "execution_count": 107,
   "metadata": {
    "collapsed": false
   },
   "outputs": [],
   "source": [
    "compute_tangential_velocity_bat(panels_bat, freestream, gamma, A_source, B_vortex)"
   ]
  },
  {
   "cell_type": "code",
   "execution_count": 108,
   "metadata": {
    "collapsed": true
   },
   "outputs": [],
   "source": [
    "compute_pressure_coefficient_bat(panels_bat, freestream)"
   ]
  },
  {
   "cell_type": "markdown",
   "metadata": {},
   "source": [
    "### $C_L$ and Accuracy Check"
   ]
  },
  {
   "cell_type": "code",
   "execution_count": 109,
   "metadata": {
    "collapsed": false
   },
   "outputs": [
    {
     "name": "stdout",
     "output_type": "stream",
     "text": [
      "lift coefficient at AoA=20: CL_bat_20 = 3.240\n"
     ]
    }
   ],
   "source": [
    "c = abs(max(panel.xa for panel in panels_bat)\n",
    "        - min(panel.xa for panel in panels_bat))\n",
    "cl_bat_20 = (gamma*sum(panel.length for panel in panels_bat)\n",
    "      / (0.5*freestream.u_inf*c))\n",
    "print('lift coefficient at AoA=20: CL_bat_20 = {:0.3f}'.format(cl_bat_20))"
   ]
  },
  {
   "cell_type": "code",
   "execution_count": 110,
   "metadata": {
    "collapsed": false
   },
   "outputs": [
    {
     "name": "stdout",
     "output_type": "stream",
     "text": [
      "sum of singularity strengths: -2.330594\n"
     ]
    }
   ],
   "source": [
    "# calculate the accuracy\n",
    "accuracy = sum([panel.sigma*panel.length for panel in panels_bat])\n",
    "print('sum of singularity strengths: {:0.6f}'.format(accuracy))"
   ]
  },
  {
   "cell_type": "code",
   "execution_count": 111,
   "metadata": {
    "collapsed": false
   },
   "outputs": [
    {
     "data": {
      "image/png": "[encoded data removed]",
      "text/plain": [
       "<matplotlib.figure.Figure at 0x7f8b29c9ef28>"
      ]
     },
     "metadata": {},
     "output_type": "display_data"
    }
   ],
   "source": [
    "# plot both pressure distributions\n",
    "plt.figure(figsize=(15,6))\n",
    "plt.suptitle('Pressure Distribution Comparison', fontsize=20, color='green')\n",
    "\n",
    "plt.subplot(121)\n",
    "plt.grid()\n",
    "plt.xlabel('x', fontsize=16)\n",
    "plt.ylabel('$C_p$', fontsize=16)\n",
    "plt.plot([panel.xc for panel in panels_gull if panel.loc=='upper'],\n",
    "         [panel.cp_gull for panel in panels_gull if panel.loc=='upper'],\n",
    "         label='upper surface', color='r', linewidth=2, linestyle='-', marker='o', markersize=6)\n",
    "plt.plot([panel.xc for panel in panels_gull if panel.loc=='lower'],\n",
    "         [panel.cp_gull for panel in panels_gull if panel.loc=='lower'],\n",
    "         label='lower surface', color='blue', linewidth=1, linestyle='-', marker='o', markersize=6)\n",
    "plt.legend(loc='best', prop={'size':16})\n",
    "plt.xlim(-0.1, 1.1)\n",
    "plt.ylim(1.5, -4.5)\n",
    "plt.title('Seagull, Number of panels: {}'.format(panels_gull.size), fontsize=16)\n",
    "\n",
    "plt.subplot(122)\n",
    "plt.grid()\n",
    "plt.xlabel('x', fontsize=16)\n",
    "plt.ylabel('$C_p$', fontsize=16)\n",
    "plt.plot([panel.xc for panel in panels_bat if panel.loc=='upper'],\n",
    "         [panel.cp_bat for panel in panels_bat if panel.loc=='upper'],\n",
    "         label='upper surface', color='r', linewidth=2, linestyle='-', marker='o', markersize=6)\n",
    "plt.plot([panel.xc for panel in panels_bat if panel.loc=='lower'],\n",
    "         [panel.cp_bat for panel in panels_bat if panel.loc=='lower'],\n",
    "         label='lower surface', color='blue', linewidth=1, linestyle='-', marker='o', markersize=6)\n",
    "plt.legend(loc='best', prop={'size':16})\n",
    "plt.xlim(-0.1, 1.1)\n",
    "plt.ylim(2.0, -50.0)\n",
    "plt.title('Bat, Number of panels: {}'.format(panels_bat.size), fontsize=16);"
   ]
  },
  {
   "cell_type": "markdown",
   "metadata": {},
   "source": [
    "# Plot $C_L$ vs. $\\alpha$ "
   ]
  },
  {
   "cell_type": "code",
   "execution_count": 112,
   "metadata": {
    "collapsed": false
   },
   "outputs": [
    {
     "data": {
      "image/png": "[encoded data removed]",
      "text/plain": [
       "<matplotlib.figure.Figure at 0x7f8b282fee48>"
      ]
     },
     "metadata": {},
     "output_type": "display_data"
    }
   ],
   "source": [
    "# create arrays and plot\n",
    "AoA = np.array([0.0, 5.0, 10.0, 15.0, 20.0])\n",
    "CL_gull = np.array([cl_gull_0, cl_gull_5, cl_gull_10, cl_gull_15, cl_gull_20])\n",
    "CL_bat = np.array([cl_bat_0, cl_bat_5, cl_bat_10, cl_bat_15, cl_bat_20])\n",
    "\n",
    "plt.figure(figsize=(10,6))\n",
    "plt.grid()\n",
    "plt.xlabel(r'$\\alpha$', fontsize=16)\n",
    "plt.ylabel('$C_L$', fontsize=16)\n",
    "plt.xlim(-5.0, 25)\n",
    "plt.ylim(-1.0, 5.0)\n",
    "plt.title(r'$C_L$ vs $\\alpha$ for Seagull and Bat', fontsize=20)\n",
    "plt.plot(AoA, CL_bat, linestyle='-', color='r', label='bat', marker='o', markersize=6)\n",
    "plt.plot(AoA, CL_gull, linestyle='-', color='b', label='seagull', marker='o', markersize=6)\n",
    "plt.legend(loc='best', prop={'size':16});"
   ]
  },
  {
   "cell_type": "markdown",
   "metadata": {},
   "source": [
    "The above compares the Lift Coefficients of each animal. The difference in $C_L$ could be due to flight height off the ground, or to the panel method's approximation for the bat wing. The bat used for this study is a foraging bat, so it remains relatively close to the ground when flying, elminating the need for an extremely high lift wing."
   ]
  },
  {
   "cell_type": "code",
   "execution_count": 113,
   "metadata": {
    "collapsed": false
   },
   "outputs": [
    {
     "data": {
      "image/png": "[encoded data removed]",
      "text/plain": [
       "<matplotlib.figure.Figure at 0x7f8b29c9da20>"
      ]
     },
     "metadata": {},
     "output_type": "display_data"
    }
   ],
   "source": [
    "CL_ratio = CL_gull/CL_bat\n",
    "\n",
    "plt.figure(figsize=(10,6))\n",
    "plt.grid()\n",
    "plt.xlabel(r'$\\alpha$', fontsize=16)\n",
    "plt.ylabel('$C_L$', fontsize=16)\n",
    "plt.xlim(-5.0, 25)\n",
    "plt.ylim(1.1, 1.35)\n",
    "plt.title(r'$C_L$ Ratio vs $\\alpha$ for Seagull to Bat', fontsize=20)\n",
    "plt.plot(AoA, CL_ratio, linestyle='-', color='k');"
   ]
  },
  {
   "cell_type": "markdown",
   "metadata": {},
   "source": [
    "The above shows the ratio of seagull $C_L$ to bat $C_L$, which appear to be converging to some value. Potential flow cannot predict a maximum $C_L$, though, so it is unclear if increasing $AoA$ would lead to convergence in actual flight."
   ]
  },
  {
   "cell_type": "markdown",
   "metadata": {
    "collapsed": true
   },
   "source": [
    "# Limitations and Conclusions\n",
    "\n",
    "This study was done assuming potential flow and rigid animal wings during soaring flight. In reality, the flapping process is very complicated, and of course helps to increase lift for each animal. Here, I do not account for flapping since that would require a much more in-depth analysis beyond the scope of potential flow. Potential flow also cannot account for a maximum $C_L$, so the analysis here is unable to find the $AoA$ at which that occurs.\n",
    "\n",
    "Further, the sharp leading edge and overall shape of the bat wing may present problems for the panel method. Attempting to use a greater number of panels resulted in an unsatisfied Kutta condition (with $\\gamma=nan$) or a very negative lift, which in reality is not the case. Additionally, the accuracy checks for the bat wing did not equal 0 and got worse with increasing $AoA$. This may again be due to the panel method implemented on the particular shape of the bat wing. Therefore, the panel method may not be ideal in examining wings or airfoils with sharp leading edges and very low thickness.\n",
    "\n",
    "For future studies, a model that accounts for viscous flow and flapping would be significantly more accurate in predicting actual flight dynamics of the animals. A method that would account for sharp leading edges and low thickness would also enhance the accuracy. However, this is at least a start for a low $AoA$ in examining how the flight preformance of the two animals compare."
   ]
  },
  {
   "cell_type": "markdown",
   "metadata": {},
   "source": [
    "# References\n",
    "\n",
    "Hoey, R. G. (1992). Research on the stability and control of soaring birds. AIAA Paper No. AIAA-1992-4122.\n",
    "\n",
    "Bullen, R. D., & McKenzie, N. L. (2007). Bat wing airfoil and planform structures relating to aerodynamic cleanliness. Australian Journal of Zoology, 55(4), 237-247.\n",
    "\n",
    "Liu, T., Kuykendoll, K., Rhew, R., & Jones, S. (2006). Avian wing geometry and kinematics. AIAA journal, 44(5), 954-963."
   ]
  },
  {
   "cell_type": "code",
   "execution_count": null,
   "metadata": {
    "collapsed": true
   },
   "outputs": [],
   "source": []
  }
 ],
 "metadata": {
  "anaconda-cloud": {},
  "kernelspec": {
   "display_name": "Python [conda root]",
   "language": "python",
   "name": "conda-root-py"
  },
  "language_info": {
   "codemirror_mode": {
    "name": "ipython",
    "version": 3
   },
   "file_extension": ".py",
   "mimetype": "text/x-python",
   "name": "python",
   "nbconvert_exporter": "python",
   "pygments_lexer": "ipython3",
   "version": "3.5.2"
  }
 },
 "nbformat": 4,
 "nbformat_minor": 1
}
