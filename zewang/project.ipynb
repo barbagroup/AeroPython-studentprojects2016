{
 "cells": [
  {
   "cell_type": "code",
   "execution_count": 16,
   "metadata": {
    "collapsed": true
   },
   "outputs": [],
   "source": [
    "import os\n",
    "import numpy\n",
    "from scipy import integrate, linalg\n",
    "from matplotlib import pyplot\n",
    "%matplotlib inline"
   ]
  },
  {
   "cell_type": "code",
   "execution_count": 17,
   "metadata": {
    "collapsed": false
   },
   "outputs": [],
   "source": [
    "class Panel:\n",
    "    def __init__(self, xa, ya, xb, yb):\n",
    "        self.xa, self.ya = xa, ya \n",
    "        self.xb, self.yb = xb, yb \n",
    "        self.xc, self.yc = (xa+xb)/2, (ya+yb)/2         \n",
    "        self.length = numpy.sqrt((xb-xa)**2+(yb-ya)**2) \n",
    "        if xb-xa <= 0.0:\n",
    "            self.beta = numpy.arccos((yb-ya)/self.length)\n",
    "        elif xb-xa > 0.0:\n",
    "            self.beta = numpy.pi + numpy.arccos(-(yb-ya)/self.length)\n",
    "        if self.beta <= numpy.pi:\n",
    "            self.loc = 'upper' # upper surface\n",
    "        else:\n",
    "            self.loc = 'lower' # lower surface\n",
    "        self.sigma = 0.0 \n",
    "        self.vt = 0.0    \n",
    "        self.cp = 0.0    \n",
    "\n",
    "def define_panels(x, y, N):\n",
    "    panels = numpy.empty(N, dtype=object)\n",
    "    for i in range(N):\n",
    "        panels[i] = Panel(x[i], y[i], x[i+1], y[i+1])\n",
    "    return panels\n",
    "\n",
    "class Freestream:\n",
    "    def __init__(self, u_inf, alpha):\n",
    "        self.u_inf = u_inf\n",
    "        self.alpha = alpha*numpy.pi/180.0 # degrees to radians\n",
    "        \n",
    "def integral(x, y, panel, dxdk, dydk):\n",
    "    def integrand(s):\n",
    "        return ( ((x - (panel.xa - numpy.sin(panel.beta)*s))*dxdk\n",
    "                  +(y - (panel.ya + numpy.cos(panel.beta)*s))*dydk)\n",
    "                / ((x - (panel.xa - numpy.sin(panel.beta)*s))**2\n",
    "                   +(y - (panel.ya + numpy.cos(panel.beta)*s))**2) )\n",
    "    return integrate.quad(integrand, 0.0, panel.length)[0]\n",
    "\n",
    "def source_contribution_normal(panels):\n",
    "    A = numpy.empty((panels.size, panels.size), dtype=float)\n",
    "    # source contribution on a panel from itself\n",
    "    numpy.fill_diagonal(A, 0.5)\n",
    "    # source contribution on a panel from others\n",
    "    for i, panel_i in enumerate(panels):\n",
    "        for j, panel_j in enumerate(panels):\n",
    "            if i != j:\n",
    "                A[i, j] = 0.5/numpy.pi*integral(panel_i.xc, panel_i.yc, \n",
    "                                                panel_j,\n",
    "                                                numpy.cos(panel_i.beta),\n",
    "                                                numpy.sin(panel_i.beta))\n",
    "    return A\n",
    "\n",
    "def vortex_contribution_normal(panels):\n",
    "    A = numpy.empty((panels.size, panels.size), dtype=float)\n",
    "    # vortex contribution on a panel from itself\n",
    "    numpy.fill_diagonal(A, 0.0)\n",
    "    # vortex contribution on a panel from others\n",
    "    for i, panel_i in enumerate(panels):\n",
    "        for j, panel_j in enumerate(panels):\n",
    "            if i != j:\n",
    "                A[i, j] = -0.5/numpy.pi*integral(panel_i.xc, panel_i.yc, \n",
    "                                                 panel_j,\n",
    "                                                 numpy.sin(panel_i.beta),\n",
    "                                                 -numpy.cos(panel_i.beta))\n",
    "    return A\n",
    "\n",
    "def kutta_condition(A_source, B_vortex):\n",
    "\n",
    "    b = numpy.empty(A_source.shape[0]+1, dtype=float)\n",
    "    b[:-1] = B_vortex[0, :] + B_vortex[-1, :]\n",
    "    b[-1] = - numpy.sum(A_source[0, :] + A_source[-1, :])\n",
    "    return b\n",
    "\n",
    "def build_singularity_matrix(A_source, B_vortex):\n",
    "    A = numpy.empty((A_source.shape[0]+1, A_source.shape[1]+1), dtype=float)\n",
    "    # source contribution matrix\n",
    "    A[:-1, :-1] = A_source\n",
    "    # vortex contribution array\n",
    "    A[:-1, -1] = numpy.sum(B_vortex, axis=1)\n",
    "    # Kutta condition array\n",
    "    A[-1, :] = kutta_condition(A_source, B_vortex)\n",
    "    return A\n",
    "\n",
    "def build_freestream_rhs(panels, freestream):\n",
    "    b = numpy.empty(panels.size+1,dtype=float)\n",
    "    # freestream contribution on each panel\n",
    "    for i, panel in enumerate(panels):\n",
    "        b[i] = -freestream.u_inf * numpy.cos(freestream.alpha - panel.beta)\n",
    "    # freestream contribution on the Kutta condition\n",
    "    b[-1] = -freestream.u_inf*( numpy.sin(freestream.alpha-panels[0].beta)\n",
    "                               +numpy.sin(freestream.alpha-panels[-1].beta) )\n",
    "    return b\n",
    "\n",
    "def compute_tangential_velocity(panels, freestream, gamma, A_source, B_vortex):\n",
    "    A = numpy.empty((panels.size, panels.size+1), dtype=float)\n",
    "    A[:, :-1] = B_vortex\n",
    "    A[:, -1] = -numpy.sum(A_source, axis=1)\n",
    "    b = freestream.u_inf*numpy.sin([freestream.alpha-panel.beta \n",
    "                                    for panel in panels])\n",
    "    \n",
    "    strengths = numpy.append([panel.sigma for panel in panels], gamma)\n",
    "    \n",
    "    tangential_velocities = numpy.dot(A, strengths) + b\n",
    "    \n",
    "    for i, panel in enumerate(panels):\n",
    "        panel.vt = tangential_velocities[i]\n",
    "        \n",
    "def compute_pressure_coefficient(panels, freestream):\n",
    "    for panel in panels:\n",
    "        panel.cp = 1.0 - (panel.vt/freestream.u_inf)**2"
   ]
  },
  {
   "cell_type": "code",
   "execution_count": 18,
   "metadata": {
    "collapsed": false
   },
   "outputs": [],
   "source": [
    "x,y=numpy.loadtxt(\"naca0012.dat\",dtype=float,unpack=True)\n",
    "N_m,alpha=len(x)-1,0\n",
    "R=3 #wing span(m)\n",
    "omiga=5*2*numpy.pi  # angular velocity\n",
    "u_inf=omiga*R\n",
    "freestream = Freestream(u_inf,alpha)\n",
    "panels = define_panels(x,y,N_m)\n",
    "A_source = source_contribution_normal(panels)\n",
    "B_vortex = vortex_contribution_normal(panels)\n",
    "A = build_singularity_matrix(A_source, B_vortex)\n",
    "b = build_freestream_rhs(panels, freestream)\n",
    "strengths = numpy.linalg.solve(A, b)\n",
    "for i , panel in enumerate(panels):\n",
    "    panel.sigma = strengths[i]\n",
    "gamma = strengths[-1]\n",
    "compute_tangential_velocity(panels, freestream, gamma, A_source, B_vortex)"
   ]
  },
  {
   "cell_type": "code",
   "execution_count": 19,
   "metadata": {
    "collapsed": false
   },
   "outputs": [
    {
     "data": {
      "text/plain": [
       "2.7775835003224971"
      ]
     },
     "execution_count": 19,
     "metadata": {},
     "output_type": "execute_result"
    }
   ],
   "source": [
    "gamma"
   ]
  },
  {
   "cell_type": "code",
   "execution_count": 20,
   "metadata": {
    "collapsed": false
   },
   "outputs": [],
   "source": [
    "def Vortex_point_initial(rv,psi,zeta,beta,miu,lamda):\n",
    "    x=rv*numpy.cos(beta)*numpy.cos(psi-zeta)+miu*zeta\n",
    "    y=rv*numpy.cos(beta)*numpy.sin(psi-zeta)\n",
    "    z=rv*numpy.sin(beta)-lamda*zeta\n",
    "    r=numpy.array([x,y,z])\n",
    "    return r\n"
   ]
  },
  {
   "cell_type": "code",
   "execution_count": 21,
   "metadata": {
    "collapsed": false
   },
   "outputs": [],
   "source": [
    "N_j=12\n",
    "N_k=12*3\n",
    "N=12\n",
    "R=50 #wing span(m)\n",
    "omiga=5*2*numpy.pi  # angular velocity\n",
    "rv=1\n",
    "d_psi,d_zeta=numpy.pi*2/N,numpy.pi*2/N\n",
    "psi=[[0 for j in range(N_j)]  for k in range(N_k+1)] \n",
    "lamda=0.1  # rotor inflow ratio, we can assume it is constant as the inflow is simplified as uniform inflow \n",
    "zeta=[[0 for j in range(N_j)]  for k in range(N_k+1)] \n",
    "miu=[[0 for j in range(N_j)]  for k in range(N_k+1)] \n",
    "beta=[[0 for j in range(N_j)]  for k in range(N_k+1)] \n",
    "## beta=miu=0 because we assume helicopter is hovering\n",
    "for k in range(N_k+1):\n",
    "    for j in range(N_j):\n",
    "        psi[k][j]=j*d_psi\n",
    "\n",
    "for k in range(N_k+1):\n",
    "    for j in range(N_j):\n",
    "        zeta[k][j]=k*d_psi"
   ]
  },
  {
   "cell_type": "code",
   "execution_count": null,
   "metadata": {
    "collapsed": false
   },
   "outputs": [],
   "source": []
  },
  {
   "cell_type": "code",
   "execution_count": 22,
   "metadata": {
    "collapsed": false
   },
   "outputs": [],
   "source": [
    "vortex_points= [[0 for j in range(N_j)]  for k in range(N_k+1)]\n",
    "for k in range(N_k+1):\n",
    "    for j in range(N_j):\n",
    "        vortex_points[k][j]=Vortex_point_initial(rv,psi[k][j],zeta[k][j],beta[k][j],miu[k][j],lamda)"
   ]
  },
  {
   "cell_type": "code",
   "execution_count": 23,
   "metadata": {
    "collapsed": false
   },
   "outputs": [],
   "source": [
    "def induced_velocity(point,vortex_points,gamma,zeta_i,omiga,n,N_k,N_j,i):\n",
    "    v_induced=numpy.array([0,0,0])\n",
    "    #calculate induced velocity at point(j,k)\n",
    "    for a in range (N_k):\n",
    "        for b in range (N_j):\n",
    "            r1=point-vortex_points[a][b] # vector from  p(a,b) to p\n",
    "            r2=point-vortex_points[a+1][b] # vector from  p(a,b+1) to p\n",
    "            r1_value=numpy.sqrt(r1[0]**2+r1[1]**2+r1[2]**2)\n",
    "            r2_value=numpy.sqrt(r2[0]**2+r2[1]**2+r2[2]**2)\n",
    "            judge=r1_value*r2_value\n",
    "            if judge!=0:  \n",
    "                l=vortex_points[a+1][b]-vortex_points[a][b]  # one vortex line\n",
    "                l_value=numpy.sqrt(l[0]**2+l[1]**2+l[2]**2)\n",
    "                theta1=numpy.arccos(numpy.dot(l,r1)/l_value/r1_value)\n",
    "                theta2=numpy.arccos(numpy.dot(l,r2)/l_value/r2_value)\n",
    "                h=r1_value*numpy.sin(theta1)\n",
    "                cross=numpy.cross(l,r1)\n",
    "                e=cross/numpy.sqrt(cross[0]**2+cross[1]**2+cross[2]**2)\n",
    "                rc=1.12*numpy.sqrt(4*(0.1*gamma+0.000146)*zeta_i/omiga) #radius of vortex core \n",
    "                v=gamma/4/numpy.pi*h/((rc**(2*n)+h**(2*n))**(1/n))*(numpy.cos(theta1)-numpy.cos(theta2))*e\n",
    "                v_induced=v_induced+v\n",
    "            elif judge==0:  # the point is at the vortex line\n",
    "                v_induced=v_induced\n",
    "    return v_induced\n",
    "    "
   ]
  },
  {
   "cell_type": "code",
   "execution_count": 24,
   "metadata": {
    "collapsed": false
   },
   "outputs": [],
   "source": [
    "def vortex_points_iteration(vortex_points,gamma,zeta,omiga,d_psi,n,N_k,N_j):\n",
    "    vortex_new=numpy.empty_like(vortex_points)\n",
    "    for k in range (N_k):\n",
    "        for j in range(N_j): \n",
    "            vortex_new[k][j]=vortex_points[k][j]\n",
    "    for k in range (N_k):\n",
    "        for j in range(N_j):\n",
    "            a=k;b=j;c=k+1;d=j+1;\n",
    "            if j==11:\n",
    "                d=0 # periodic boundary condition\n",
    "            i=k\n",
    "            zeta_i=zeta[i][0]  # set the zeta_i\n",
    "            point1=vortex_points[a][b]\n",
    "            point2=vortex_points[c][b]\n",
    "            point3=vortex_points[a][d]\n",
    "            point4=vortex_points[c][d]\n",
    "            v1=induced_velocity(point1,vortex_points,gamma,zeta_i,omiga,n,N_k,N_j,i)\n",
    "            v2=induced_velocity(point2,vortex_points,gamma,zeta_i,omiga,n,N_k,N_j,i)\n",
    "            v3=induced_velocity(point3,vortex_points,gamma,zeta_i,omiga,n,N_k,N_j,i)\n",
    "            v4=induced_velocity(point4,vortex_points,gamma,zeta_i,omiga,n,N_k,N_j,i)\n",
    "            v=(v1+v2+v3+v4)/4\n",
    "            if j<11:\n",
    "                vortex_new[k+1][j+1]=vortex_points[k][j]+v/omiga*d_psi\n",
    "            elif j==11:\n",
    "                vortex_new[k+1][0]=vortex_points[k][j]+v/omiga*d_psi #periodic boundary condition\n",
    "    return vortex_new"
   ]
  },
  {
   "cell_type": "code",
   "execution_count": 25,
   "metadata": {
    "collapsed": false
   },
   "outputs": [],
   "source": [
    "def wake_convergence_erro(n,N_k,N_j,vortex_points_1,vortex_points_2):\n",
    "    erro=0\n",
    "    for k in range(N_k):\n",
    "        for j in range(N_j):\n",
    "            deference=vortex_points_1[k][j]-vortex_points_2[k][j]\n",
    "            erro=erro+numpy.sqrt(deference[0]**2+deference[1]**2+deference[2]**2)/N/N\n",
    "    return erro\n"
   ]
  },
  {
   "cell_type": "code",
   "execution_count": null,
   "metadata": {
    "collapsed": true
   },
   "outputs": [],
   "source": []
  },
  {
   "cell_type": "code",
   "execution_count": 29,
   "metadata": {
    "collapsed": false
   },
   "outputs": [],
   "source": [
    "erro=0;m=2\n",
    "n=1;\n",
    "iteration=numpy.empty(100, dtype=object)\n",
    "iteration[0]=vortex_points\n",
    "while m>0:\n",
    "    iteration[n]=vortex_points_iteration(iteration[n-1],gamma,zeta,omiga,d_psi,n,N_k,N_j)\n",
    "    erro=wake_convergence_erro(n,N_k,N_j,iteration[n-1],iteration[n])\n",
    "    m=m-1\n",
    "    n=n+1\n",
    "    \n",
    "    "
   ]
  },
  {
   "cell_type": "code",
   "execution_count": 30,
   "metadata": {
    "collapsed": false
   },
   "outputs": [
    {
     "data": {
      "text/plain": [
       "0.45630279598784729"
      ]
     },
     "execution_count": 30,
     "metadata": {},
     "output_type": "execute_result"
    }
   ],
   "source": [
    "erro"
   ]
  },
  {
   "cell_type": "code",
   "execution_count": 50,
   "metadata": {
    "collapsed": false
   },
   "outputs": [
    {
     "data": {
      "text/plain": [
       "3"
      ]
     },
     "execution_count": 50,
     "metadata": {},
     "output_type": "execute_result"
    }
   ],
   "source": [
    "n"
   ]
  },
  {
   "cell_type": "code",
   "execution_count": null,
   "metadata": {
    "collapsed": true
   },
   "outputs": [],
   "source": []
  },
  {
   "cell_type": "code",
   "execution_count": 37,
   "metadata": {
    "collapsed": false
   },
   "outputs": [],
   "source": [
    "c=2\n",
    "x=[];y=[];z=[];\n",
    "for i in range (N_k):\n",
    "    x=numpy.append(x,iteration[c][i][0][0])\n",
    "    y=numpy.append(y,iteration[c][i][0][1])\n",
    "    z=numpy.append(z,iteration[c][i][0][2])"
   ]
  },
  {
   "cell_type": "code",
   "execution_count": 49,
   "metadata": {
    "collapsed": false,
    "scrolled": false
   },
   "outputs": [
    {
     "data": {
      "image/png": "[encoded data removed]",
      "text/plain": [
       "<matplotlib.figure.Figure at 0x7f06d6294f60>"
      ]
     },
     "metadata": {},
     "output_type": "display_data"
    }
   ],
   "source": [
    "width = 8\n",
    "pyplot.figure(figsize=(width, width))\n",
    "pyplot.grid()\n",
    "pyplot.scatter(y,z,color='#CD2305')\n",
    "pyplot.axis('scaled', adjustable='box')\n",
    "pyplot.xlim(-1.5, 1.5)\n",
    "pyplot.ylim(-2, 1);"
   ]
  },
  {
   "cell_type": "code",
   "execution_count": 39,
   "metadata": {
    "collapsed": false
   },
   "outputs": [
    {
     "data": {
      "text/plain": [
       "array([ 0.        , -0.27898794, -0.54545207, -0.47750625, -0.49309866,\n",
       "       -0.52618839, -0.56661179, -0.61085878, -0.65728515, -0.70498453,\n",
       "       -0.75340618, -0.80219373, -0.85110701, -0.89998   , -0.94869671,\n",
       "       -0.99717657, -1.04536531, -1.0932293 , -1.14075204, -1.18793198,\n",
       "       -1.2347813 , -1.28132486, -1.32759921, -1.37365099, -1.41953464,\n",
       "       -1.4653094 , -1.51103597, -1.55677317, -1.60257507, -1.64848874,\n",
       "       -1.69455244, -1.74079433, -1.7872314 , -1.8338688 , -1.88069959,\n",
       "       -1.92770544])"
      ]
     },
     "execution_count": 39,
     "metadata": {},
     "output_type": "execute_result"
    }
   ],
   "source": [
    "z"
   ]
  },
  {
   "cell_type": "code",
   "execution_count": null,
   "metadata": {
    "collapsed": false
   },
   "outputs": [],
   "source": []
  },
  {
   "cell_type": "code",
   "execution_count": null,
   "metadata": {
    "collapsed": false
   },
   "outputs": [],
   "source": []
  },
  {
   "cell_type": "code",
   "execution_count": null,
   "metadata": {
    "collapsed": false
   },
   "outputs": [],
   "source": []
  },
  {
   "cell_type": "code",
   "execution_count": null,
   "metadata": {
    "collapsed": false
   },
   "outputs": [],
   "source": []
  },
  {
   "cell_type": "code",
   "execution_count": null,
   "metadata": {
    "collapsed": false
   },
   "outputs": [],
   "source": []
  },
  {
   "cell_type": "code",
   "execution_count": null,
   "metadata": {
    "collapsed": false
   },
   "outputs": [],
   "source": []
  },
  {
   "cell_type": "code",
   "execution_count": null,
   "metadata": {
    "collapsed": true
   },
   "outputs": [],
   "source": []
  }
 ],
 "metadata": {
  "anaconda-cloud": {},
  "kernelspec": {
   "display_name": "Python [conda root]",
   "language": "python",
   "name": "conda-root-py"
  },
  "language_info": {
   "codemirror_mode": {
    "name": "ipython",
    "version": 3
   },
   "file_extension": ".py",
   "mimetype": "text/x-python",
   "name": "python",
   "nbconvert_exporter": "python",
   "pygments_lexer": "ipython3",
   "version": "3.5.2"
  }
 },
 "nbformat": 4,
 "nbformat_minor": 1
}
