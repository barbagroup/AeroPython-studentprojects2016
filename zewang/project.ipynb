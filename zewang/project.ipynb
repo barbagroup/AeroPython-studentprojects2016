{
 "cells": [
  {
   "cell_type": "markdown",
   "metadata": {},
   "source": [
    "# Wake Geometry of a Helicopter\n"
   ]
  },
  {
   "cell_type": "markdown",
   "metadata": {},
   "source": [
    "# Abstract\n",
    "\n",
    "The wake geomerty of a helicopter is a complex unsteady three dimensional problem. By using the spatial iteration and\n",
    "vortex control function, we assume the vortex consists of a series of straight-line elements. After iteration, we can finally get the the free wake model of the rotor. This model contains vortex intensity dissipation and the the infulence of the radius of vortex core. By using the Blade Element Theory(BET), the rotor can be seperated into many two-dimensional small sections along the wingspan. We can use the 2-d section to compute the feature of the fluid around the rotor.\n",
    "\n",
    "Let's get started!"
   ]
  },
  {
   "cell_type": "markdown",
   "metadata": {},
   "source": [
    "# 1 Introduction\n",
    "\n",
    "1.1 Model building\n",
    "To simplify the model of the helicopter, we can assume there is only one blade rotating, so we can easily get the vortex strength (gamma) by using the Panel Method.\n",
    "The speed of the helicopter is v_inf, (which means freestream speed is v_inf). As we just analyse the hovering codition, the v_inf is 0. The angle (alpha_s) between the v_inf and the rotating plane is called Rotor structure angle of attack. The rotor flow ratio (lamda) can be expressed as function 1.\n",
    "\n",
    "1.2 Lift line theory\n",
    "This theory assumes that the velocity and other parameter along the wing span changes much smaller than along the other two directions, so we can consider each 2-D blade section as a independence problem. This theory simplify the 3-D problem as a 2-D problem.\n",
    "\n",
    "1.3 Shaft Frame\n",
    "Set the rotor hub center as the origin, Z axis along the hub axis, pointing to the top. X axis is located in the structural plane of the rotor and it points to the tail of the helicopter. Y axis is determined by the right hand system.\n",
    "\n",
    "1.4 Vortex control equation\n",
    "In the free wake model, the vortex movement can be described by the vortex control equation, which can be described as function (2). In this function, ψ (psi) is the Paddle azimuth; ζ (zeta) is wake life angle; v_loc is the local speed. Expand ψ and ζ and let dψ=dζ, we can finally get the function (3). V_ind is the sum of the vorticity caused by the vortices in the whole flow field to this node.\n",
    "\n",
    "1.5 The discrete vortex function \n",
    "In order to get the numerical solution, the vortex control equation should be discrete. choose the ∆ψ and ∆ζ as one step in there respective direction. Then divide the control equation into five points, just as function (4) and (5). Combine with function (3) and let ∆ψ = ∆ζ, we can finally get function (6).\n",
    "\n",
    "1.6 The initial condition and the periodic boundary conditions.\n",
    "The rotor vortex is pulled out of the trailing edge of each blade so that the trailing edge of the blade is the trailing edge of the trailing vortex. Set the coordinates of a trailing edge node in the paddle coordinate system are (rv, 0, 0). We can finally get the initial vortex lines as the function (7). The periodic boundary conditions can be expressed as function (8). The illustration of the computation of free wake can be shown as figure (1).\n",
    "\n",
    "1.7 The induced velocity of the vortex\n",
    "By separating the computational space, the nodes on the free wake divide the trailing vortex into a series of straight vortex lines. The induced velocity on each vortex node is computed by the sum of all the vortex lines influence at this point. From the law of Biot-Savart, we can get the function (9). Figure (2) shows the method to get the induced velocity.\n",
    "\n",
    "1.8 Radius of vortex core model\n",
    "In order to accurately simulate the vorticity of the vortex, radius of vortex core should be considered to eliminate the singularity at the fluid field. We can get a corrected induced velocity as function (10). In the function, rc is the radius of the vortex core \n",
    "\n",
    "1.9 The strength of the vortex \n",
    "By using the Panel Method, we can the blade attaching vortex, but it is difficult to get the tip whirls. A experience method could be used to estimate the tip whirls, which can be showed in function (11)\n",
    "\n",
    "1.10 Dissipative effect processing\n",
    "In the wake of the rotor, the vortex will gradually dissipate with the increase of the trailing life angle (ζ), so the intensity of the vortex will decrease and the vortex core radius will gradually increase.\n",
    "\n",
    "1.11 The iteration of the free wake \n",
    "The method of the iteration is to get the new trail geometry by computing the induced velocity on the wake of the last step of the trailing position. Under the new wake, the new vortex strength is obtained according to the boundary condition of the blade leaf control point. The new induced velocity field is finally obtained by the convergence of wake and ring. The method can be expressed as function (12)\n",
    "1.12 The initial free wake model\n",
    "The initial wake structure in the free wake iteration is usually given by a fixed wake model, such as function (13)\n",
    "\n",
    "1.13 Free wake convergence condition\n",
    "When the mean square error of each trailing node in the whole calculation space is less than a certain threshold, the wake structure can be considered as convergent.\n",
    "Function (14) shows this condition.\n"
   ]
  },
  {
   "cell_type": "code",
   "execution_count": 3,
   "metadata": {
    "collapsed": true
   },
   "outputs": [],
   "source": [
    "# importing libraries\n",
    "import os\n",
    "import numpy\n",
    "from scipy import integrate, linalg\n",
    "from matplotlib import pyplot\n",
    "from IPython.display import Image, display\n",
    "%matplotlib inline"
   ]
  },
  {
   "cell_type": "code",
   "execution_count": 7,
   "metadata": {
    "collapsed": false
   },
   "outputs": [],
   "source": [
    "picture1=Image(filename='picture1.png')\n",
    "picture2=Image(filename='picture2.png')\n",
    "picture3=Image(filename='picture3.png')\n",
    "figure1=Image(filename='figure1.png')\n",
    "figure2=Image(filename='figure2.png')"
   ]
  },
  {
   "cell_type": "code",
   "execution_count": null,
   "metadata": {
    "collapsed": false
   },
   "outputs": [],
   "source": []
  },
  {
   "cell_type": "code",
   "execution_count": null,
   "metadata": {
    "collapsed": false
   },
   "outputs": [],
   "source": []
  },
  {
   "cell_type": "code",
   "execution_count": null,
   "metadata": {
    "collapsed": false
   },
   "outputs": [],
   "source": []
  },
  {
   "cell_type": "code",
   "execution_count": null,
   "metadata": {
    "collapsed": false
   },
   "outputs": [],
   "source": []
  },
  {
   "cell_type": "code",
   "execution_count": null,
   "metadata": {
    "collapsed": true
   },
   "outputs": [],
   "source": []
  },
  {
   "cell_type": "code",
   "execution_count": 3,
   "metadata": {
    "collapsed": false
   },
   "outputs": [],
   "source": [
    "# defining class Panel with info on one panel\n",
    "class Panel:\n",
    "    def __init__(self, xa, ya, xb, yb):\n",
    "        self.xa, self.ya = xa, ya \n",
    "        self.xb, self.yb = xb, yb \n",
    "        self.xc, self.yc = (xa+xb)/2, (ya+yb)/2         \n",
    "        self.length = numpy.sqrt((xb-xa)**2+(yb-ya)**2) \n",
    "        if xb-xa <= 0.0:\n",
    "            self.beta = numpy.arccos((yb-ya)/self.length)\n",
    "        elif xb-xa > 0.0:\n",
    "            self.beta = numpy.pi + numpy.arccos(-(yb-ya)/self.length)\n",
    "        if self.beta <= numpy.pi:\n",
    "            self.loc = 'upper' # upper surface\n",
    "        else:\n",
    "            self.loc = 'lower' # lower surface\n",
    "        self.sigma = 0.0 \n",
    "        self.vt = 0.0    \n",
    "        self.cp = 0.0    \n",
    "\n",
    "def define_panels(x, y, N):\n",
    "    panels = numpy.empty(N, dtype=object)\n",
    "    for i in range(N):\n",
    "        panels[i] = Panel(x[i], y[i], x[i+1], y[i+1])\n",
    "    return panels\n",
    "\n",
    "class Freestream:\n",
    "    def __init__(self, u_inf, alpha):\n",
    "        self.u_inf = u_inf\n",
    "        self.alpha = alpha*numpy.pi/180.0 # degrees to radians\n",
    "        \n",
    "def integral(x, y, panel, dxdk, dydk):\n",
    "    def integrand(s):\n",
    "        return ( ((x - (panel.xa - numpy.sin(panel.beta)*s))*dxdk\n",
    "                  +(y - (panel.ya + numpy.cos(panel.beta)*s))*dydk)\n",
    "                / ((x - (panel.xa - numpy.sin(panel.beta)*s))**2\n",
    "                   +(y - (panel.ya + numpy.cos(panel.beta)*s))**2) )\n",
    "    return integrate.quad(integrand, 0.0, panel.length)[0]\n",
    "\n",
    "def source_contribution_normal(panels):\n",
    "    A = numpy.empty((panels.size, panels.size), dtype=float)\n",
    "    # source contribution on a panel from itself\n",
    "    numpy.fill_diagonal(A, 0.5)\n",
    "    # source contribution on a panel from others\n",
    "    for i, panel_i in enumerate(panels):\n",
    "        for j, panel_j in enumerate(panels):\n",
    "            if i != j:\n",
    "                A[i, j] = 0.5/numpy.pi*integral(panel_i.xc, panel_i.yc, \n",
    "                                                panel_j,\n",
    "                                                numpy.cos(panel_i.beta),\n",
    "                                                numpy.sin(panel_i.beta))\n",
    "    return A\n",
    "\n",
    "def vortex_contribution_normal(panels):\n",
    "    A = numpy.empty((panels.size, panels.size), dtype=float)\n",
    "    # vortex contribution on a panel from itself\n",
    "    numpy.fill_diagonal(A, 0.0)\n",
    "    # vortex contribution on a panel from others\n",
    "    for i, panel_i in enumerate(panels):\n",
    "        for j, panel_j in enumerate(panels):\n",
    "            if i != j:\n",
    "                A[i, j] = -0.5/numpy.pi*integral(panel_i.xc, panel_i.yc, \n",
    "                                                 panel_j,\n",
    "                                                 numpy.sin(panel_i.beta),\n",
    "                                                 -numpy.cos(panel_i.beta))\n",
    "    return A\n",
    "\n",
    "def kutta_condition(A_source, B_vortex):\n",
    "\n",
    "    b = numpy.empty(A_source.shape[0]+1, dtype=float)\n",
    "    b[:-1] = B_vortex[0, :] + B_vortex[-1, :]\n",
    "    b[-1] = - numpy.sum(A_source[0, :] + A_source[-1, :])\n",
    "    return b\n",
    "\n",
    "def build_singularity_matrix(A_source, B_vortex):\n",
    "    A = numpy.empty((A_source.shape[0]+1, A_source.shape[1]+1), dtype=float)\n",
    "    # source contribution matrix\n",
    "    A[:-1, :-1] = A_source\n",
    "    # vortex contribution array\n",
    "    A[:-1, -1] = numpy.sum(B_vortex, axis=1)\n",
    "    # Kutta condition array\n",
    "    A[-1, :] = kutta_condition(A_source, B_vortex)\n",
    "    return A\n",
    "\n",
    "def build_freestream_rhs(panels, freestream):\n",
    "    b = numpy.empty(panels.size+1,dtype=float)\n",
    "    # freestream contribution on each panel\n",
    "    for i, panel in enumerate(panels):\n",
    "        b[i] = -freestream.u_inf * numpy.cos(freestream.alpha - panel.beta)\n",
    "    # freestream contribution on the Kutta condition\n",
    "    b[-1] = -freestream.u_inf*( numpy.sin(freestream.alpha-panels[0].beta)\n",
    "                               +numpy.sin(freestream.alpha-panels[-1].beta) )\n",
    "    return b\n",
    "\n",
    "def compute_tangential_velocity(panels, freestream, gamma, A_source, B_vortex):\n",
    "    A = numpy.empty((panels.size, panels.size+1), dtype=float)\n",
    "    A[:, :-1] = B_vortex\n",
    "    A[:, -1] = -numpy.sum(A_source, axis=1)\n",
    "    b = freestream.u_inf*numpy.sin([freestream.alpha-panel.beta \n",
    "                                    for panel in panels])\n",
    "    \n",
    "    strengths = numpy.append([panel.sigma for panel in panels], gamma)\n",
    "    \n",
    "    tangential_velocities = numpy.dot(A, strengths) + b\n",
    "    \n",
    "    for i, panel in enumerate(panels):\n",
    "        panel.vt = tangential_velocities[i]\n",
    "        \n",
    "def compute_pressure_coefficient(panels, freestream):\n",
    "    for panel in panels:\n",
    "        panel.cp = 1.0 - (panel.vt/freestream.u_inf)**2"
   ]
  },
  {
   "cell_type": "code",
   "execution_count": 4,
   "metadata": {
    "collapsed": false
   },
   "outputs": [],
   "source": [
    "x,y=numpy.loadtxt(\"naca0012.dat\",dtype=float,unpack=True)\n",
    "N_m,alpha=len(x)-1,0\n",
    "R=3 #wing span(m)\n",
    "omiga=5*2*numpy.pi  # angular velocity\n",
    "u_inf=omiga*R/2\n",
    "freestream = Freestream(u_inf,alpha)\n",
    "panels = define_panels(x,y,N_m)\n",
    "A_source = source_contribution_normal(panels)\n",
    "B_vortex = vortex_contribution_normal(panels)\n",
    "A = build_singularity_matrix(A_source, B_vortex)\n",
    "b = build_freestream_rhs(panels, freestream)\n",
    "strengths = numpy.linalg.solve(A, b)\n",
    "for i , panel in enumerate(panels):\n",
    "    panel.sigma = strengths[i]\n",
    "gamma_air = strengths[-1]\n",
    "compute_tangential_velocity(panels, freestream, gamma_air, A_source, B_vortex)"
   ]
  },
  {
   "cell_type": "code",
   "execution_count": 6,
   "metadata": {
    "collapsed": false
   },
   "outputs": [],
   "source": [
    "# as the \n",
    "gamma=gamma_air/2  "
   ]
  },
  {
   "cell_type": "code",
   "execution_count": null,
   "metadata": {
    "collapsed": false
   },
   "outputs": [],
   "source": []
  },
  {
   "cell_type": "code",
   "execution_count": null,
   "metadata": {
    "collapsed": true
   },
   "outputs": [],
   "source": []
  },
  {
   "cell_type": "code",
   "execution_count": null,
   "metadata": {
    "collapsed": true
   },
   "outputs": [],
   "source": []
  },
  {
   "cell_type": "code",
   "execution_count": null,
   "metadata": {
    "collapsed": true
   },
   "outputs": [],
   "source": []
  },
  {
   "cell_type": "code",
   "execution_count": 7,
   "metadata": {
    "collapsed": false
   },
   "outputs": [],
   "source": [
    "def Vortex_point_initial(rv,psi,zeta,beta,miu,lamda):\n",
    "    x=rv*numpy.cos(beta)*numpy.cos(psi-zeta)+miu*zeta\n",
    "    y=rv*numpy.cos(beta)*numpy.sin(psi-zeta)\n",
    "    z=rv*numpy.sin(beta)-lamda*zeta\n",
    "    r=numpy.array([x,y,z])\n",
    "    return r\n"
   ]
  },
  {
   "cell_type": "code",
   "execution_count": 8,
   "metadata": {
    "collapsed": false
   },
   "outputs": [],
   "source": [
    "N=12\n",
    "N_j=N*1 # as the psi has boundary condition\n",
    "N_k=N*4\n",
    "R=50 #wing span(m)\n",
    "omiga=5*2*numpy.pi  # angular velocity\n",
    "rv=1\n",
    "d_psi,d_zeta=numpy.pi*2/N,numpy.pi*2/N\n",
    "psi=[[0 for j in range(N_j)]  for k in range(N_k+1)] \n",
    "lamda=0.05  # rotor inflow ratio, we can assume it is constant as the inflow is simplified as uniform inflow \n",
    "zeta=[[0 for j in range(N_j)]  for k in range(N_k+1)] \n",
    "miu=[[0 for j in range(N_j)]  for k in range(N_k+1)] \n",
    "beta=[[0 for j in range(N_j)]  for k in range(N_k+1)] \n",
    "## beta=miu=0 because we assume helicopter is hovering\n",
    "for k in range(N_k+1):\n",
    "    for j in range(N_j):\n",
    "        psi[k][j]=j*d_psi\n",
    "\n",
    "for k in range(N_k+1):\n",
    "    for j in range(N_j):\n",
    "        zeta[k][j]=k*d_psi"
   ]
  },
  {
   "cell_type": "code",
   "execution_count": null,
   "metadata": {
    "collapsed": false
   },
   "outputs": [],
   "source": []
  },
  {
   "cell_type": "code",
   "execution_count": 9,
   "metadata": {
    "collapsed": false
   },
   "outputs": [],
   "source": [
    "vortex_points= [[0 for j in range(N_j)]  for k in range(N_k+1)]\n",
    "for k in range(N_k+1):\n",
    "    for j in range(N_j):\n",
    "        vortex_points[k][j]=Vortex_point_initial(rv,psi[k][j],zeta[k][j],beta[k][j],miu[k][j],lamda)"
   ]
  },
  {
   "cell_type": "code",
   "execution_count": 10,
   "metadata": {
    "collapsed": false
   },
   "outputs": [],
   "source": [
    "def induced_velocity(point,vortex_points,gamma,zeta_i,omiga,n,N_k,N_j,i,R):\n",
    "    v_induced=numpy.array([0,0,0])\n",
    "    c=4*gamma/omiga/(R**2)\n",
    "    #calculate induced velocity at point(j,k)\n",
    "    for a in range (N_k):\n",
    "        for b in range (N_j):\n",
    "            k=1-numpy.e**(-7000*c*zeta[a][b]/numpy.pi/2) \n",
    "# as I only assume the max zeta is 6*pi, it will cost too much time to compute a large zeta. \n",
    "# In order to simulate validity of the rotor tip whirls, I have to increase the parameter of \n",
    "# alpha(Forced roll coefficient) to the value of 7000. The alpha is smaller in real condition.\n",
    "            gamma_i=k*gamma\n",
    "            r1=point-vortex_points[a][b] # vector from  p(a,b) to p\n",
    "            r2=point-vortex_points[a+1][b] # vector from  p(a,b+1) to p\n",
    "            r1_value=numpy.sqrt(r1[0]**2+r1[1]**2+r1[2]**2)\n",
    "            r2_value=numpy.sqrt(r2[0]**2+r2[1]**2+r2[2]**2)\n",
    "            judge=r1_value*r2_value\n",
    "            if judge!=0:  \n",
    "                l=vortex_points[a+1][b]-vortex_points[a][b]  # one vortex line\n",
    "                l_value=numpy.sqrt(l[0]**2+l[1]**2+l[2]**2)\n",
    "                theta1=numpy.arccos(numpy.dot(l,r1)/l_value/r1_value)\n",
    "                theta2=numpy.arccos(numpy.dot(l,r2)/l_value/r2_value)\n",
    "                h=r1_value*numpy.sin(theta1)\n",
    "                cross=numpy.cross(l,r1)\n",
    "                e=cross/numpy.sqrt(cross[0]**2+cross[1]**2+cross[2]**2)\n",
    "                rc=1.12*numpy.sqrt(4*(0.1*gamma_i+0.000146)*zeta_i/omiga) #radius of vortex core \n",
    "                v=gamma_i/4/numpy.pi*h/((rc**(2*n)+h**(2*n))**(1/n))*(numpy.cos(theta1)-numpy.cos(theta2))*e\n",
    "                v_induced=v_induced+v\n",
    "            elif judge==0:  # the point is at the vortex line\n",
    "                v_induced=v_induced\n",
    "    return v_induced\n",
    "    "
   ]
  },
  {
   "cell_type": "code",
   "execution_count": 11,
   "metadata": {
    "collapsed": false
   },
   "outputs": [],
   "source": [
    "def vortex_points_iteration(vortex_points,gamma,zeta,omiga,d_psi,n,N_k,N_j,R):\n",
    "    vortex_new=numpy.empty_like(vortex_points)\n",
    "    for k in range (N_k):\n",
    "        for j in range(N_j): \n",
    "            vortex_new[k][j]=vortex_points[k][j]\n",
    "    for k in range (N_k):\n",
    "        for j in range(N_j):\n",
    "            a=k;b=j;c=k+1;d=j+1;\n",
    "            if j==11:\n",
    "                d=0 # periodic boundary condition\n",
    "            i=k\n",
    "            zeta_i=zeta[i][0]  # set the zeta_i\n",
    "            point1=vortex_points[a][b]\n",
    "            point2=vortex_points[c][b]\n",
    "            point3=vortex_points[a][d]\n",
    "            point4=vortex_points[c][d]\n",
    "            v1=induced_velocity(point1,vortex_points,gamma,zeta_i,omiga,n,N_k,N_j,i,R)\n",
    "            v2=induced_velocity(point2,vortex_points,gamma,zeta_i,omiga,n,N_k,N_j,i,R)\n",
    "            v3=induced_velocity(point3,vortex_points,gamma,zeta_i,omiga,n,N_k,N_j,i,R)\n",
    "            v4=induced_velocity(point4,vortex_points,gamma,zeta_i,omiga,n,N_k,N_j,i,R)\n",
    "            v=(v1+v2+v3+v4)/4\n",
    "            if j<11:\n",
    "                vortex_new[k+1][j+1]=vortex_points[k][j]+v/omiga*d_psi\n",
    "            elif j==11:\n",
    "                vortex_new[k+1][0]=vortex_points[k][j]+v/omiga*d_psi #periodic boundary condition\n",
    "    return vortex_new"
   ]
  },
  {
   "cell_type": "code",
   "execution_count": 12,
   "metadata": {
    "collapsed": false
   },
   "outputs": [],
   "source": [
    "def wake_convergence_erro(n,N_k,N_j,vortex_points_1,vortex_points_2):\n",
    "    erro=0\n",
    "    for k in range(N_k):\n",
    "        for j in range(N_j):\n",
    "            deference=vortex_points_1[k][j]-vortex_points_2[k][j]\n",
    "            erro=erro+numpy.sqrt(deference[0]**2+deference[1]**2+deference[2]**2)/N/N\n",
    "    return erro\n"
   ]
  },
  {
   "cell_type": "code",
   "execution_count": null,
   "metadata": {
    "collapsed": true
   },
   "outputs": [],
   "source": []
  },
  {
   "cell_type": "code",
   "execution_count": null,
   "metadata": {
    "collapsed": false
   },
   "outputs": [],
   "source": [
    "erro=0;m=51\n",
    "# it will take an hour to compute the outcome\n",
    "# to shorter the computaion time, we can decrease m (the number of iteration times), but this will decrease accuracy\n",
    "n=1;\n",
    "iteration=numpy.empty(100, dtype=object)\n",
    "iteration[0]=vortex_points\n",
    "while m>0:\n",
    "    iteration[n]=vortex_points_iteration(iteration[n-1],gamma,zeta,omiga,d_psi,n,N_k,N_j,R)\n",
    "    erro=wake_convergence_erro(n,N_k,N_j,iteration[n-1],iteration[n])\n",
    "    m=m-1\n",
    "    n=n+1\n",
    "    \n",
    "    "
   ]
  },
  {
   "cell_type": "code",
   "execution_count": null,
   "metadata": {
    "collapsed": false
   },
   "outputs": [],
   "source": [
    "erro"
   ]
  },
  {
   "cell_type": "code",
   "execution_count": null,
   "metadata": {
    "collapsed": false
   },
   "outputs": [],
   "source": [
    "n"
   ]
  },
  {
   "cell_type": "code",
   "execution_count": null,
   "metadata": {
    "collapsed": true
   },
   "outputs": [],
   "source": []
  },
  {
   "cell_type": "code",
   "execution_count": null,
   "metadata": {
    "collapsed": false
   },
   "outputs": [],
   "source": [
    "c=31\n",
    "x=[];y=[];z=[];\n",
    "for k in range (N_k):\n",
    "    x=numpy.append(x,iteration[c][k][0][0])\n",
    "    y=numpy.append(y,iteration[c][k][0][1])\n",
    "    z=numpy.append(z,iteration[c][k][0][2])"
   ]
  },
  {
   "cell_type": "code",
   "execution_count": null,
   "metadata": {
    "collapsed": false,
    "scrolled": false
   },
   "outputs": [],
   "source": [
    "width = 8\n",
    "pyplot.figure(figsize=(width, width))\n",
    "pyplot.grid()\n",
    "pyplot.xlabel('x', fontsize=16)\n",
    "pyplot.ylabel('y', fontsize=16)\n",
    "pyplot.plot(y,z,color='#CD2305')\n",
    "pyplot.axis('scaled', adjustable='box')\n",
    "pyplot.xlim(-1.5, 1.5)\n",
    "pyplot.ylim(-6, 1);"
   ]
  },
  {
   "cell_type": "code",
   "execution_count": null,
   "metadata": {
    "collapsed": false
   },
   "outputs": [],
   "source": [
    "y"
   ]
  },
  {
   "cell_type": "code",
   "execution_count": null,
   "metadata": {
    "collapsed": false
   },
   "outputs": [],
   "source": [
    "z"
   ]
  },
  {
   "cell_type": "code",
   "execution_count": null,
   "metadata": {
    "collapsed": false
   },
   "outputs": [],
   "source": [
    "4*gamma/omiga/(R**2)"
   ]
  },
  {
   "cell_type": "code",
   "execution_count": null,
   "metadata": {
    "collapsed": false
   },
   "outputs": [],
   "source": []
  },
  {
   "cell_type": "code",
   "execution_count": null,
   "metadata": {
    "collapsed": false
   },
   "outputs": [],
   "source": []
  },
  {
   "cell_type": "code",
   "execution_count": null,
   "metadata": {
    "collapsed": false
   },
   "outputs": [],
   "source": []
  },
  {
   "cell_type": "code",
   "execution_count": null,
   "metadata": {
    "collapsed": false
   },
   "outputs": [],
   "source": []
  },
  {
   "cell_type": "code",
   "execution_count": null,
   "metadata": {
    "collapsed": true
   },
   "outputs": [],
   "source": []
  }
 ],
 "metadata": {
  "anaconda-cloud": {},
  "kernelspec": {
   "display_name": "Python [conda root]",
   "language": "python",
   "name": "conda-root-py"
  },
  "language_info": {
   "codemirror_mode": {
    "name": "ipython",
    "version": 3
   },
   "file_extension": ".py",
   "mimetype": "text/x-python",
   "name": "python",
   "nbconvert_exporter": "python",
   "pygments_lexer": "ipython3",
   "version": "3.5.2"
  }
 },
 "nbformat": 4,
 "nbformat_minor": 1
}
